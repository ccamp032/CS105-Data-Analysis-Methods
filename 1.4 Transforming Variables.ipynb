{
 "cells": [
  {
   "cell_type": "markdown",
   "metadata": {},
   "source": [
    "# 1.4 Transforming Variables\n",
    "\n",
    "In this section, we will transform and combine existing variables to obtain new variables. Our examples are drawn from a data set of house prices in Ames, Iowa.  This data set is stored in a tab-separated values file.  For more information about the variables in this data set, please refer to the [data documentation](https://ww2.amstat.org/publications/jse/v19n3/decock/DataDocumentation.txt)."
   ]
  },
  {
   "cell_type": "code",
   "execution_count": 1,
   "metadata": {},
   "outputs": [
    {
     "data": {
      "text/html": [
       "<div>\n",
       "<style scoped>\n",
       "    .dataframe tbody tr th:only-of-type {\n",
       "        vertical-align: middle;\n",
       "    }\n",
       "\n",
       "    .dataframe tbody tr th {\n",
       "        vertical-align: top;\n",
       "    }\n",
       "\n",
       "    .dataframe thead th {\n",
       "        text-align: right;\n",
       "    }\n",
       "</style>\n",
       "<table border=\"1\" class=\"dataframe\">\n",
       "  <thead>\n",
       "    <tr style=\"text-align: right;\">\n",
       "      <th></th>\n",
       "      <th>Order</th>\n",
       "      <th>PID</th>\n",
       "      <th>MS SubClass</th>\n",
       "      <th>MS Zoning</th>\n",
       "      <th>Lot Frontage</th>\n",
       "      <th>Lot Area</th>\n",
       "      <th>Street</th>\n",
       "      <th>Alley</th>\n",
       "      <th>Lot Shape</th>\n",
       "      <th>Land Contour</th>\n",
       "      <th>...</th>\n",
       "      <th>Pool Area</th>\n",
       "      <th>Pool QC</th>\n",
       "      <th>Fence</th>\n",
       "      <th>Misc Feature</th>\n",
       "      <th>Misc Val</th>\n",
       "      <th>Mo Sold</th>\n",
       "      <th>Yr Sold</th>\n",
       "      <th>Sale Type</th>\n",
       "      <th>Sale Condition</th>\n",
       "      <th>SalePrice</th>\n",
       "    </tr>\n",
       "  </thead>\n",
       "  <tbody>\n",
       "    <tr>\n",
       "      <th>0</th>\n",
       "      <td>1</td>\n",
       "      <td>526301100</td>\n",
       "      <td>20</td>\n",
       "      <td>RL</td>\n",
       "      <td>141.0</td>\n",
       "      <td>31770</td>\n",
       "      <td>Pave</td>\n",
       "      <td>NaN</td>\n",
       "      <td>IR1</td>\n",
       "      <td>Lvl</td>\n",
       "      <td>...</td>\n",
       "      <td>0</td>\n",
       "      <td>NaN</td>\n",
       "      <td>NaN</td>\n",
       "      <td>NaN</td>\n",
       "      <td>0</td>\n",
       "      <td>5</td>\n",
       "      <td>2010</td>\n",
       "      <td>WD</td>\n",
       "      <td>Normal</td>\n",
       "      <td>215000</td>\n",
       "    </tr>\n",
       "    <tr>\n",
       "      <th>1</th>\n",
       "      <td>2</td>\n",
       "      <td>526350040</td>\n",
       "      <td>20</td>\n",
       "      <td>RH</td>\n",
       "      <td>80.0</td>\n",
       "      <td>11622</td>\n",
       "      <td>Pave</td>\n",
       "      <td>NaN</td>\n",
       "      <td>Reg</td>\n",
       "      <td>Lvl</td>\n",
       "      <td>...</td>\n",
       "      <td>0</td>\n",
       "      <td>NaN</td>\n",
       "      <td>MnPrv</td>\n",
       "      <td>NaN</td>\n",
       "      <td>0</td>\n",
       "      <td>6</td>\n",
       "      <td>2010</td>\n",
       "      <td>WD</td>\n",
       "      <td>Normal</td>\n",
       "      <td>105000</td>\n",
       "    </tr>\n",
       "    <tr>\n",
       "      <th>2</th>\n",
       "      <td>3</td>\n",
       "      <td>526351010</td>\n",
       "      <td>20</td>\n",
       "      <td>RL</td>\n",
       "      <td>81.0</td>\n",
       "      <td>14267</td>\n",
       "      <td>Pave</td>\n",
       "      <td>NaN</td>\n",
       "      <td>IR1</td>\n",
       "      <td>Lvl</td>\n",
       "      <td>...</td>\n",
       "      <td>0</td>\n",
       "      <td>NaN</td>\n",
       "      <td>NaN</td>\n",
       "      <td>Gar2</td>\n",
       "      <td>12500</td>\n",
       "      <td>6</td>\n",
       "      <td>2010</td>\n",
       "      <td>WD</td>\n",
       "      <td>Normal</td>\n",
       "      <td>172000</td>\n",
       "    </tr>\n",
       "    <tr>\n",
       "      <th>3</th>\n",
       "      <td>4</td>\n",
       "      <td>526353030</td>\n",
       "      <td>20</td>\n",
       "      <td>RL</td>\n",
       "      <td>93.0</td>\n",
       "      <td>11160</td>\n",
       "      <td>Pave</td>\n",
       "      <td>NaN</td>\n",
       "      <td>Reg</td>\n",
       "      <td>Lvl</td>\n",
       "      <td>...</td>\n",
       "      <td>0</td>\n",
       "      <td>NaN</td>\n",
       "      <td>NaN</td>\n",
       "      <td>NaN</td>\n",
       "      <td>0</td>\n",
       "      <td>4</td>\n",
       "      <td>2010</td>\n",
       "      <td>WD</td>\n",
       "      <td>Normal</td>\n",
       "      <td>244000</td>\n",
       "    </tr>\n",
       "    <tr>\n",
       "      <th>4</th>\n",
       "      <td>5</td>\n",
       "      <td>527105010</td>\n",
       "      <td>60</td>\n",
       "      <td>RL</td>\n",
       "      <td>74.0</td>\n",
       "      <td>13830</td>\n",
       "      <td>Pave</td>\n",
       "      <td>NaN</td>\n",
       "      <td>IR1</td>\n",
       "      <td>Lvl</td>\n",
       "      <td>...</td>\n",
       "      <td>0</td>\n",
       "      <td>NaN</td>\n",
       "      <td>MnPrv</td>\n",
       "      <td>NaN</td>\n",
       "      <td>0</td>\n",
       "      <td>3</td>\n",
       "      <td>2010</td>\n",
       "      <td>WD</td>\n",
       "      <td>Normal</td>\n",
       "      <td>189900</td>\n",
       "    </tr>\n",
       "  </tbody>\n",
       "</table>\n",
       "<p>5 rows × 82 columns</p>\n",
       "</div>"
      ],
      "text/plain": [
       "   Order        PID  MS SubClass MS Zoning  Lot Frontage  Lot Area Street  \\\n",
       "0      1  526301100           20        RL         141.0     31770   Pave   \n",
       "1      2  526350040           20        RH          80.0     11622   Pave   \n",
       "2      3  526351010           20        RL          81.0     14267   Pave   \n",
       "3      4  526353030           20        RL          93.0     11160   Pave   \n",
       "4      5  527105010           60        RL          74.0     13830   Pave   \n",
       "\n",
       "  Alley Lot Shape Land Contour  ... Pool Area Pool QC  Fence Misc Feature  \\\n",
       "0   NaN       IR1          Lvl  ...         0     NaN    NaN          NaN   \n",
       "1   NaN       Reg          Lvl  ...         0     NaN  MnPrv          NaN   \n",
       "2   NaN       IR1          Lvl  ...         0     NaN    NaN         Gar2   \n",
       "3   NaN       Reg          Lvl  ...         0     NaN    NaN          NaN   \n",
       "4   NaN       IR1          Lvl  ...         0     NaN  MnPrv          NaN   \n",
       "\n",
       "  Misc Val Mo Sold Yr Sold Sale Type  Sale Condition  SalePrice  \n",
       "0        0       5    2010       WD           Normal     215000  \n",
       "1        0       6    2010       WD           Normal     105000  \n",
       "2    12500       6    2010       WD           Normal     172000  \n",
       "3        0       4    2010       WD           Normal     244000  \n",
       "4        0       3    2010       WD           Normal     189900  \n",
       "\n",
       "[5 rows x 82 columns]"
      ]
     },
     "execution_count": 1,
     "metadata": {},
     "output_type": "execute_result"
    }
   ],
   "source": [
    "%matplotlib inline\n",
    "import pandas as pd\n",
    "pd.options.display.max_rows = 10\n",
    "\n",
    "df = pd.read_csv(\"AmesHousing.txt\",sep=\"\\t\")\n",
    "df.head()"
   ]
  },
  {
   "cell_type": "markdown",
   "metadata": {},
   "source": [
    "## Applying Transformations\n",
    "\n",
    "### Quantitative Variables\n",
    "\n",
    "There are several reasons to transform quantitative variables, including:\n",
    "\n",
    "1. to change the measurement units\n",
    "2. to make the variable more amenable to analysis\n",
    "\n",
    "As an example of the first reason, suppose we want the lot areas to be in acres instead of square feet. Since there are 43560 square feet in an acre, this requires dividing each lot area by 43560. We can **broadcast** the division over the entire `Series`."
   ]
  },
  {
   "cell_type": "code",
   "execution_count": 2,
   "metadata": {},
   "outputs": [
    {
     "data": {
      "text/plain": [
       "0       0.729339\n",
       "1       0.266804\n",
       "2       0.327525\n",
       "3       0.256198\n",
       "4       0.317493\n",
       "          ...   \n",
       "2925    0.182208\n",
       "2926    0.203972\n",
       "2927    0.239692\n",
       "2928    0.229798\n",
       "2929    0.221006\n",
       "Name: Lot Area, Length: 2930, dtype: float64"
      ]
     },
     "execution_count": 2,
     "metadata": {},
     "output_type": "execute_result"
    }
   ],
   "source": [
    "df[\"Lot Area\"] / 43560"
   ]
  },
  {
   "cell_type": "markdown",
   "metadata": {},
   "source": [
    "If we want to store the results as a new variable in the `DataFrame`, we simply assign the `Series` to a new column in the `DataFrame`. The command below does two things: creates a new column in the `DataFrame` called \"Lot Area (acres)\" _and_ populates it with the values from the `Series` above."
   ]
  },
  {
   "cell_type": "code",
   "execution_count": 3,
   "metadata": {},
   "outputs": [],
   "source": [
    "df[\"Lot Area (acres)\"] = df[\"Lot Area\"] / 43560"
   ]
  },
  {
   "cell_type": "markdown",
   "metadata": {},
   "source": [
    "The second reason for transforming quantitative variables is to make them more amenable to analysis. To see why a variable might not be amenable to analysis, let's take a look at a histogram of lot areas."
   ]
  },
  {
   "cell_type": "code",
   "execution_count": 4,
   "metadata": {},
   "outputs": [
    {
     "data": {
      "text/plain": [
       "<matplotlib.axes._subplots.AxesSubplot at 0x25b8bb00d08>"
      ]
     },
     "execution_count": 4,
     "metadata": {},
     "output_type": "execute_result"
    },
    {
     "data": {
      "image/png": "[encoded data removed]",
      "text/plain": [
       "<Figure size 432x288 with 1 Axes>"
      ]
     },
     "metadata": {
      "needs_background": "light"
     },
     "output_type": "display_data"
    }
   ],
   "source": [
    "df[\"Lot Area\"].plot.hist()"
   ]
  },
  {
   "cell_type": "markdown",
   "metadata": {},
   "source": [
    "There are a few homes with such extreme lot areas that we get virtually no resolution at the lower end of the distribution. Over 95% of the observations are in a single bin of this histogram. In other words, this variable is extremely **skewed**.\n",
    "\n",
    "One way to improve this histogram is to use more bins. But this does not solve the fundamental problem: we need more resolution at the lower end of the scale and less resolution at the higher end. One way to spread out the values at the lower end of a distribution and to compress the values at the higher end is to take the logarithm (provided that the values are all positive). Log transformations are particularly effective at dealing with right-skewed data.\n",
    "\n",
    "The log function is not built into Python or `pandas`. We have to import the log function from a library called `numpy`, which contains many functions and data structures for numerical computations. In fact, `pandas` is built on top of `numpy`. When we apply `numpy`'s `log` function to a `pandas` `Series`, the function is automatically broadcast over the elements of the `Series`, returning another `Series`. Let's save the results to a variable called \"log(Lot Area)\"."
   ]
  },
  {
   "cell_type": "code",
   "execution_count": 5,
   "metadata": {},
   "outputs": [
    {
     "data": {
      "text/plain": [
       "0       10.366278\n",
       "1        9.360655\n",
       "2        9.565704\n",
       "3        9.320091\n",
       "4        9.534595\n",
       "          ...    \n",
       "2925     8.979291\n",
       "2926     9.092120\n",
       "2927     9.253496\n",
       "2928     9.211340\n",
       "2929     9.172327\n",
       "Name: log(Lot Area), Length: 2930, dtype: float64"
      ]
     },
     "execution_count": 5,
     "metadata": {},
     "output_type": "execute_result"
    }
   ],
   "source": [
    "import numpy as np\n",
    "df[\"log(Lot Area)\"] = np.log(df[\"Lot Area\"])\n",
    "df[\"log(Lot Area)\"]"
   ]
  },
  {
   "cell_type": "markdown",
   "metadata": {},
   "source": [
    "These numbers are not very interpretable on their own, but if we make a histogram of these values, we see that the lower end of the distribution is now more spread out, and the extreme values are not so extreme anymore."
   ]
  },
  {
   "cell_type": "code",
   "execution_count": 6,
   "metadata": {},
   "outputs": [
    {
     "data": {
      "text/plain": [
       "<matplotlib.axes._subplots.AxesSubplot at 0x25b8be2da48>"
      ]
     },
     "execution_count": 6,
     "metadata": {},
     "output_type": "execute_result"
    },
    {
     "data": {
      "image/png": "[encoded data removed]",
      "text/plain": [
       "<Figure size 432x288 with 1 Axes>"
      ]
     },
     "metadata": {
      "needs_background": "light"
     },
     "output_type": "display_data"
    }
   ],
   "source": [
    "df[\"log(Lot Area)\"].plot.hist()"
   ]
  },
  {
   "cell_type": "markdown",
   "metadata": {},
   "source": [
    "It is possible for a log transformation to overcorrect for skew. For example, the \"SalePrice\" variable is also right-skewed."
   ]
  },
  {
   "cell_type": "code",
   "execution_count": 7,
   "metadata": {},
   "outputs": [
    {
     "data": {
      "text/plain": [
       "<matplotlib.axes._subplots.AxesSubplot at 0x25b8bedf348>"
      ]
     },
     "execution_count": 7,
     "metadata": {},
     "output_type": "execute_result"
    },
    {
     "data": {
      "image/png": "[encoded data removed]",
      "text/plain": [
       "<Figure size 432x288 with 1 Axes>"
      ]
     },
     "metadata": {
      "needs_background": "light"
     },
     "output_type": "display_data"
    }
   ],
   "source": [
    "df[\"SalePrice\"].plot.hist()"
   ]
  },
  {
   "cell_type": "markdown",
   "metadata": {},
   "source": [
    "But if we take logs, the distribution becomes somewhat left-skewed."
   ]
  },
  {
   "cell_type": "code",
   "execution_count": 8,
   "metadata": {},
   "outputs": [
    {
     "data": {
      "text/plain": [
       "<matplotlib.axes._subplots.AxesSubplot at 0x25b8bf71548>"
      ]
     },
     "execution_count": 8,
     "metadata": {},
     "output_type": "execute_result"
    },
    {
     "data": {
      "image/png": "[encoded data removed]",
      "text/plain": [
       "<Figure size 432x288 with 1 Axes>"
      ]
     },
     "metadata": {
      "needs_background": "light"
     },
     "output_type": "display_data"
    }
   ],
   "source": [
    "np.log(df[\"SalePrice\"]).plot.hist()"
   ]
  },
  {
   "cell_type": "markdown",
   "metadata": {},
   "source": [
    "Is there a transformation that makes the resulting distribution more symmetric?\n",
    "\n",
    "In fact, log is just one transformation in a whole family of transformations. Because the transformations in this family involve raising the values to some power, the statistician John Tukey called this the **ladder of powers**:\n",
    "\n",
    "$$ x(\\lambda) = \\begin{cases} x^\\lambda & \\lambda > 0 \\\\  \\log(x) & \\lambda = 0 \\\\ -x^\\lambda & \\lambda < 0 \\end{cases} $$\n",
    "\n",
    "$\\lambda = 1$ corresponds to no transformation at all. As we decrease $\\lambda$, the distribution becomes more left-skewed (which is useful if the original distribution was right-skewed). Since log ($\\lambda = 0$) was an overcorrection, let's back off and increase $\\lambda$:"
   ]
  },
  {
   "cell_type": "code",
   "execution_count": 9,
   "metadata": {},
   "outputs": [
    {
     "data": {
      "text/plain": [
       "<matplotlib.axes._subplots.AxesSubplot at 0x25b8a8bcf88>"
      ]
     },
     "execution_count": 9,
     "metadata": {},
     "output_type": "execute_result"
    },
    {
     "data": {
      "image/png": "[encoded data removed]",
      "text/plain": [
       "<Figure size 432x288 with 1 Axes>"
      ]
     },
     "metadata": {
      "needs_background": "light"
     },
     "output_type": "display_data"
    }
   ],
   "source": [
    "(df[\"SalePrice\"] ** .3).plot.hist()"
   ]
  },
  {
   "cell_type": "markdown",
   "metadata": {},
   "source": [
    "This seems to be better. We can move $\\lambda$ up and down the ladder until the distribution is the shape we want."
   ]
  },
  {
   "cell_type": "markdown",
   "metadata": {},
   "source": [
    "### Why $\\lambda = 0$ corresponds to $\\log$ (Optional)\n",
    "\n",
    "You might have noticed that it does not make sense to use the transformation $x^0$ for $\\lambda = 0$, since anything raised to the zero power equals 1. But why is $\\log(x)$ the right function to replace $x^0$?\n",
    "\n",
    "The answer has to do with calculus. We want to understand the behavior of $x^\\lambda$ as $\\lambda$ approaches 0. To do this properly, we actually need to consider the function\n",
    "\n",
    "$$\\frac{x^\\lambda - 1}{\\lambda}.$$\n",
    "\n",
    "Subtracting 1 and dividing by $\\lambda$ are just constants that shift and scale the distribution; they do not affect the overall shape of the distribution. Therefore, the histogram of $x^\\lambda$ will look the same as the histogram of $(x^\\lambda - 1) / \\lambda$; only the axes will be different.\n",
    "\n",
    "Using calculus, you can show that the limit of the above function as $\\lambda$ approaches 0 is:\n",
    "\n",
    "$$\\lim_{\\lambda \\to 0} \\frac{x^\\lambda - 1}{\\lambda} = \\log(x).$$\n",
    "\n",
    "(Challenge: prove this!) This is why it makes sense to slot $\\log(x)$ in for $x^0$."
   ]
  },
  {
   "cell_type": "markdown",
   "metadata": {},
   "source": [
    "### Other Mathematical Functions in Numpy (Optional)\n",
    "\n",
    "You might wonder what other mathematical functions are available in `numpy` besides `log`. For one, there is `log10`, which implements the base-10 logarithm. (By default, `np.log` is the natural logarithm, base-$e$.) \n",
    "\n",
    "[Here is an exhaustive list of the mathematical functions](https://docs.scipy.org/doc/numpy-1.13.0/reference/routines.math.html). All of these functions are compatible with `pandas`."
   ]
  },
  {
   "cell_type": "markdown",
   "metadata": {},
   "source": [
    "### Categorical Variables\n",
    "\n",
    "Categorical variables sometimes also require transformation, although for different reasons than quantitative variables. With categorical variables, the values are usually labels, so it does not make sense to take logarithms or to raise them to powers. However, we might want to change the labels of the categories.\n",
    "\n",
    "For example, according to the [data documentation](https://ww2.amstat.org/publications/jse/v19n3/decock/DataDocumentation.txt), the categorical variable \"Heating QC\" (heating quality and condition) in the Ames data set has five categories: excellent, good, average/typical, fair, and poor."
   ]
  },
  {
   "cell_type": "code",
   "execution_count": 10,
   "metadata": {},
   "outputs": [
    {
     "data": {
      "text/plain": [
       "0       Fa\n",
       "1       TA\n",
       "2       TA\n",
       "3       Ex\n",
       "4       Gd\n",
       "        ..\n",
       "2925    TA\n",
       "2926    TA\n",
       "2927    TA\n",
       "2928    Gd\n",
       "2929    Ex\n",
       "Name: Heating QC, Length: 2930, dtype: object"
      ]
     },
     "execution_count": 10,
     "metadata": {},
     "output_type": "execute_result"
    }
   ],
   "source": [
    "df[\"Heating QC\"]"
   ]
  },
  {
   "cell_type": "markdown",
   "metadata": {},
   "source": [
    "The categories are currently labeled as \"Ex\", \"Gd\", \"TA\", \"Fa\", and \"Po\", which might be cryptic to a reader. We might want to replace them with more descriptive labels. This requires a transformation.\n",
    "\n",
    "To do this, we can use the `.map()` method of `Series`. This method takes as input a dictionary that specifies the mapping between the current labels and the desired labels. So, for example, if we want all instances of \"Ex\" to be replaced by \"Excellent\", we would add the key \"Ex\" to this dictionary, with a value of \"Excellent\"."
   ]
  },
  {
   "cell_type": "code",
   "execution_count": 11,
   "metadata": {},
   "outputs": [
    {
     "data": {
      "text/plain": [
       "0            Fair\n",
       "1         Average\n",
       "2         Average\n",
       "3       Excellent\n",
       "4            Good\n",
       "          ...    \n",
       "2925      Average\n",
       "2926      Average\n",
       "2927      Average\n",
       "2928         Good\n",
       "2929    Excellent\n",
       "Name: Heating QC, Length: 2930, dtype: object"
      ]
     },
     "execution_count": 11,
     "metadata": {},
     "output_type": "execute_result"
    }
   ],
   "source": [
    "df[\"Heating QC\"].map({\n",
    "    \"Ex\": \"Excellent\",\n",
    "    \"Gd\": \"Good\",\n",
    "    \"TA\": \"Average\",\n",
    "    \"Fa\": \"Fair\",\n",
    "    \"Po\": \"Poor\"\n",
    "})"
   ]
  },
  {
   "cell_type": "markdown",
   "metadata": {},
   "source": [
    "Now when we make a bar chart, the labels will come out correctly. We just have to make sure they come out in the order we want."
   ]
  },
  {
   "cell_type": "code",
   "execution_count": 12,
   "metadata": {},
   "outputs": [
    {
     "data": {
      "text/plain": [
       "<matplotlib.axes._subplots.AxesSubplot at 0x25b8c08ec48>"
      ]
     },
     "execution_count": 12,
     "metadata": {},
     "output_type": "execute_result"
    },
    {
     "data": {
      "image/png": "[encoded data removed]",
      "text/plain": [
       "<Figure size 432x288 with 1 Axes>"
      ]
     },
     "metadata": {
      "needs_background": "light"
     },
     "output_type": "display_data"
    }
   ],
   "source": [
    "df[\"Heating QC\"].map({\n",
    "       \"Ex\": \"Excellent\",\n",
    "       \"Gd\": \"Good\",\n",
    "       \"TA\": \"Average\",\n",
    "       \"Fa\": \"Fair\",\n",
    "       \"Po\": \"Poor\"\n",
    "}).value_counts()[[\"Poor\", \"Fair\", \"Average\", \"Good\", \"Excellent\"]].plot.bar()"
   ]
  },
  {
   "cell_type": "markdown",
   "metadata": {},
   "source": [
    "Transformations of categorical variables are not always merely cosmetic. For example, we may want to combine several categories into one. The code below turns heating quality into a binary categorical variable (acceptable / unacceptable), according to whether the heating quality is at least average:"
   ]
  },
  {
   "cell_type": "code",
   "execution_count": 13,
   "metadata": {},
   "outputs": [
    {
     "data": {
      "text/plain": [
       "0       Unacceptable\n",
       "1         Acceptable\n",
       "2         Acceptable\n",
       "3         Acceptable\n",
       "4         Acceptable\n",
       "            ...     \n",
       "2925      Acceptable\n",
       "2926      Acceptable\n",
       "2927      Acceptable\n",
       "2928      Acceptable\n",
       "2929      Acceptable\n",
       "Name: Heating QC Binary, Length: 2930, dtype: object"
      ]
     },
     "execution_count": 13,
     "metadata": {},
     "output_type": "execute_result"
    }
   ],
   "source": [
    "df[\"Heating QC Binary\"] = df[\"Heating QC\"].map({\n",
    "       \"Ex\": \"Acceptable\",\n",
    "       \"Gd\": \"Acceptable\",\n",
    "       \"TA\": \"Acceptable\",\n",
    "       \"Fa\": \"Unacceptable\",\n",
    "       \"Po\": \"Unacceptable\"\n",
    "})\n",
    "\n",
    "df[\"Heating QC Binary\"]"
   ]
  },
  {
   "cell_type": "markdown",
   "metadata": {},
   "source": [
    "The binary variable contains less information than the original variable, but we may not need the finer-grained detail about the heating, if all we want to know is whether it is acceptable or not. "
   ]
  },
  {
   "cell_type": "code",
   "execution_count": 14,
   "metadata": {},
   "outputs": [
    {
     "data": {
      "text/plain": [
       "Acceptable      2835\n",
       "Unacceptable      95\n",
       "Name: Heating QC Binary, dtype: int64"
      ]
     },
     "execution_count": 14,
     "metadata": {},
     "output_type": "execute_result"
    }
   ],
   "source": [
    "df[\"Heating QC Binary\"].value_counts()"
   ]
  },
  {
   "cell_type": "markdown",
   "metadata": {},
   "source": [
    "## Combining Variables\n",
    "\n",
    "We can also create new variables out of multiple existing variables. For example, in the current data set, the information about when a house was sold is spread across two variables, \"Yr Sold\" and \"Mo Sold\" (1-12 indicating the month). We can combine these two variables into one, by dividing the month the house was sold by 12 and then adding that to the year. So for example, this new variable would equal 2010.5 if the house was sold in June 2010 and 2006.75 if it was sold in September 2006."
   ]
  },
  {
   "cell_type": "code",
   "execution_count": 15,
   "metadata": {},
   "outputs": [
    {
     "data": {
      "text/plain": [
       "0       2010.416667\n",
       "1       2010.500000\n",
       "2       2010.500000\n",
       "3       2010.333333\n",
       "4       2010.250000\n",
       "           ...     \n",
       "2925    2006.250000\n",
       "2926    2006.500000\n",
       "2927    2006.583333\n",
       "2928    2006.333333\n",
       "2929    2006.916667\n",
       "Name: Date Sold, Length: 2930, dtype: float64"
      ]
     },
     "execution_count": 15,
     "metadata": {},
     "output_type": "execute_result"
    }
   ],
   "source": [
    "df[\"Date Sold\"] = df[\"Yr Sold\"] + df[\"Mo Sold\"] / 12\n",
    "df[\"Date Sold\"]"
   ]
  },
  {
   "cell_type": "markdown",
   "metadata": {},
   "source": [
    "Notice how the division by 12 is _broadcast_ over the elements of the `Series`, and the addition of the two `Series` is elementwise.\n",
    "\n",
    "Another example of a variable that can be derived from two existing variables is the _cost per square foot_, which is a common way to compare prices of different-sized homes. To calculate the cost per square foot of a home, we can simply divide the two `Series`, and the division will be elementwise."
   ]
  },
  {
   "cell_type": "code",
   "execution_count": 16,
   "metadata": {},
   "outputs": [
    {
     "data": {
      "text/plain": [
       "0       129.830918\n",
       "1       117.187500\n",
       "2       129.420617\n",
       "3       115.639810\n",
       "4       116.574586\n",
       "           ...    \n",
       "2925    142.073779\n",
       "2926    145.232816\n",
       "2927    136.082474\n",
       "2928    122.390209\n",
       "2929     94.000000\n",
       "Name: Cost per Sq Ft, Length: 2930, dtype: float64"
      ]
     },
     "execution_count": 16,
     "metadata": {},
     "output_type": "execute_result"
    }
   ],
   "source": [
    "df[\"Cost per Sq Ft\"] = df[\"SalePrice\"] / df[\"Gr Liv Area\"]\n",
    "df[\"Cost per Sq Ft\"]"
   ]
  },
  {
   "cell_type": "markdown",
   "metadata": {},
   "source": [
    "# Exercises"
   ]
  },
  {
   "cell_type": "markdown",
   "metadata": {},
   "source": [
    "**Exercise 1.** What happens if you leave out a category in the dictionary that you pass to `.map()`?"
   ]
  },
  {
   "cell_type": "markdown",
   "metadata": {},
   "source": [
    "# Answer:\n",
    "You won't able to retrive information about the category that was left out."
   ]
  },
  {
   "cell_type": "markdown",
   "metadata": {},
   "source": [
    "Exercises 2-4 deal with the Ames housing data set from earlier. Refer to the [data documentation](https://ww2.amstat.org/publications/jse/v19n3/decock/DataDocumentation.txt) if you have any trouble finding or understanding a variable in this data set."
   ]
  },
  {
   "cell_type": "markdown",
   "metadata": {},
   "source": [
    "**Exercise 2.** The number of bathrooms is typically reported as a decimal to allow for half bathrooms (i.e., bathrooms without a shower). In this data set, the number of full bathrooms and the number of half bathrooms are separate variables. Create a new variable with the number of bathrooms in each home."
   ]
  },
  {
   "cell_type": "code",
   "execution_count": 17,
   "metadata": {},
   "outputs": [
    {
     "data": {
      "text/html": [
       "<div>\n",
       "<style scoped>\n",
       "    .dataframe tbody tr th:only-of-type {\n",
       "        vertical-align: middle;\n",
       "    }\n",
       "\n",
       "    .dataframe tbody tr th {\n",
       "        vertical-align: top;\n",
       "    }\n",
       "\n",
       "    .dataframe thead th {\n",
       "        text-align: right;\n",
       "    }\n",
       "</style>\n",
       "<table border=\"1\" class=\"dataframe\">\n",
       "  <thead>\n",
       "    <tr style=\"text-align: right;\">\n",
       "      <th></th>\n",
       "      <th>Bsmt Half Bath</th>\n",
       "      <th>Bsmt Full Bath</th>\n",
       "      <th>Full Bath</th>\n",
       "      <th>Half Bath</th>\n",
       "    </tr>\n",
       "  </thead>\n",
       "  <tbody>\n",
       "    <tr>\n",
       "      <th>0</th>\n",
       "      <td>0.0</td>\n",
       "      <td>1.0</td>\n",
       "      <td>1</td>\n",
       "      <td>0</td>\n",
       "    </tr>\n",
       "    <tr>\n",
       "      <th>1</th>\n",
       "      <td>0.0</td>\n",
       "      <td>0.0</td>\n",
       "      <td>1</td>\n",
       "      <td>0</td>\n",
       "    </tr>\n",
       "    <tr>\n",
       "      <th>2</th>\n",
       "      <td>0.0</td>\n",
       "      <td>0.0</td>\n",
       "      <td>1</td>\n",
       "      <td>1</td>\n",
       "    </tr>\n",
       "    <tr>\n",
       "      <th>3</th>\n",
       "      <td>0.0</td>\n",
       "      <td>1.0</td>\n",
       "      <td>2</td>\n",
       "      <td>1</td>\n",
       "    </tr>\n",
       "    <tr>\n",
       "      <th>4</th>\n",
       "      <td>0.0</td>\n",
       "      <td>0.0</td>\n",
       "      <td>2</td>\n",
       "      <td>1</td>\n",
       "    </tr>\n",
       "    <tr>\n",
       "      <th>...</th>\n",
       "      <td>...</td>\n",
       "      <td>...</td>\n",
       "      <td>...</td>\n",
       "      <td>...</td>\n",
       "    </tr>\n",
       "    <tr>\n",
       "      <th>2925</th>\n",
       "      <td>0.0</td>\n",
       "      <td>1.0</td>\n",
       "      <td>1</td>\n",
       "      <td>0</td>\n",
       "    </tr>\n",
       "    <tr>\n",
       "      <th>2926</th>\n",
       "      <td>0.0</td>\n",
       "      <td>1.0</td>\n",
       "      <td>1</td>\n",
       "      <td>0</td>\n",
       "    </tr>\n",
       "    <tr>\n",
       "      <th>2927</th>\n",
       "      <td>1.0</td>\n",
       "      <td>0.0</td>\n",
       "      <td>1</td>\n",
       "      <td>0</td>\n",
       "    </tr>\n",
       "    <tr>\n",
       "      <th>2928</th>\n",
       "      <td>0.0</td>\n",
       "      <td>1.0</td>\n",
       "      <td>1</td>\n",
       "      <td>0</td>\n",
       "    </tr>\n",
       "    <tr>\n",
       "      <th>2929</th>\n",
       "      <td>0.0</td>\n",
       "      <td>0.0</td>\n",
       "      <td>2</td>\n",
       "      <td>1</td>\n",
       "    </tr>\n",
       "  </tbody>\n",
       "</table>\n",
       "<p>2930 rows × 4 columns</p>\n",
       "</div>"
      ],
      "text/plain": [
       "      Bsmt Half Bath  Bsmt Full Bath  Full Bath  Half Bath\n",
       "0                0.0             1.0          1          0\n",
       "1                0.0             0.0          1          0\n",
       "2                0.0             0.0          1          1\n",
       "3                0.0             1.0          2          1\n",
       "4                0.0             0.0          2          1\n",
       "...              ...             ...        ...        ...\n",
       "2925             0.0             1.0          1          0\n",
       "2926             0.0             1.0          1          0\n",
       "2927             1.0             0.0          1          0\n",
       "2928             0.0             1.0          1          0\n",
       "2929             0.0             0.0          2          1\n",
       "\n",
       "[2930 rows x 4 columns]"
      ]
     },
     "execution_count": 17,
     "metadata": {},
     "output_type": "execute_result"
    }
   ],
   "source": [
    "bathrooms = df[[\"Bsmt Half Bath\",\"Bsmt Full Bath\",\"Full Bath\",\"Half Bath\"]]\n",
    "bathrooms\n",
    "#df[\"Bathrooms\"] =  df[\"Full Bath\"] + df[\"Half Bath\"]\n",
    "#df[\"Bsmt bathrooms\"] =  df[\"Bsmt Half Bath\"] + df[\"Bsmt Full Bath\"]"
   ]
  },
  {
   "cell_type": "markdown",
   "metadata": {},
   "source": [
    "**Exercise 3.** Create a categorical variable that indicates whether or not a home has a pool."
   ]
  },
  {
   "cell_type": "code",
   "execution_count": 18,
   "metadata": {},
   "outputs": [
    {
     "data": {
      "text/plain": [
       "0       NaN\n",
       "1       NaN\n",
       "2       NaN\n",
       "3       NaN\n",
       "4       NaN\n",
       "       ... \n",
       "2925    NaN\n",
       "2926    NaN\n",
       "2927    NaN\n",
       "2928    NaN\n",
       "2929    NaN\n",
       "Name: Pool QC Binary, Length: 2930, dtype: object"
      ]
     },
     "execution_count": 18,
     "metadata": {},
     "output_type": "execute_result"
    }
   ],
   "source": [
    "df[\"Pool QC Binary\"] = df[\"Pool QC\"].map({ \"Ex\": \"Pool\",\"Gd\": \"Pool\", \"TA\": \"Pool\", \"Fa\": \"Pool\", \"Na\": \"No Pool\" })\n",
    "df[\"Pool QC Binary\"]"
   ]
  },
  {
   "cell_type": "markdown",
   "metadata": {},
   "source": [
    "**Exercise 4.** There are four types of utilities: electricity, gas, water, and sewage. Right now, the combination of utilities in a home is encoded in a single variable called \"Utilities\". Convert this variable into four boolean variables, each one indicating whether or not a home has a particular utility."
   ]
  },
  {
   "cell_type": "code",
   "execution_count": 19,
   "metadata": {},
   "outputs": [
    {
     "name": "stdout",
     "output_type": "stream",
     "text": [
      "0       Electricity Available\n",
      "1       Electricity Available\n",
      "2       Electricity Available\n",
      "3       Electricity Available\n",
      "4       Electricity Available\n",
      "                ...          \n",
      "2925    Electricity Available\n",
      "2926    Electricity Available\n",
      "2927    Electricity Available\n",
      "2928    Electricity Available\n",
      "2929    Electricity Available\n",
      "Name: Utilities, Length: 2930, dtype: object\n",
      "0       Gas Available\n",
      "1       Gas Available\n",
      "2       Gas Available\n",
      "3       Gas Available\n",
      "4       Gas Available\n",
      "            ...      \n",
      "2925    Gas Available\n",
      "2926    Gas Available\n",
      "2927    Gas Available\n",
      "2928    Gas Available\n",
      "2929    Gas Available\n",
      "Name: Utilities, Length: 2930, dtype: object\n",
      "0       Water Available\n",
      "1       Water Available\n",
      "2       Water Available\n",
      "3       Water Available\n",
      "4       Water Available\n",
      "             ...       \n",
      "2925    Water Available\n",
      "2926    Water Available\n",
      "2927    Water Available\n",
      "2928    Water Available\n",
      "2929    Water Available\n",
      "Name: Utilities, Length: 2930, dtype: object\n",
      "0       Sewage Available\n",
      "1       Sewage Available\n",
      "2       Sewage Available\n",
      "3       Sewage Available\n",
      "4       Sewage Available\n",
      "              ...       \n",
      "2925    Sewage Available\n",
      "2926    Sewage Available\n",
      "2927    Sewage Available\n",
      "2928    Sewage Available\n",
      "2929    Sewage Available\n",
      "Name: Utilities, Length: 2930, dtype: object\n"
     ]
    }
   ],
   "source": [
    "electricity = df[\"Utilities\"].map({ \n",
    "    \"AllPub\":\"Electricity Available\",\n",
    "    \"NoSewr\": \"Electricity Available\",\n",
    "    \"NoSeWa\": \"Electricity Available\"\n",
    "}) \n",
    "gas = df[\"Utilities\"].map({ \n",
    "    \"AllPub\":\"Gas Available\",\n",
    "    \"NoSewr\": \"Gas Available\",\n",
    "    \"NoSeWa\": \"Gas Available\"\n",
    "})\n",
    "water = df[\"Utilities\"].map({ \n",
    "    \"AllPub\":\"Water Available\",\n",
    "    \"NoSewr\":\"Water Unavailable\",\n",
    "    \"NoSeWa\":\"Water Unavailable\"\n",
    "})\n",
    "sewage = df[\"Utilities\"].map({ \n",
    "    \"AllPub\":\"Sewage Available\",\n",
    "    \"NoSewr\":\"Sewage Unavailable\",\n",
    "    \"NoSeWa\":\"Sewage Unavailable\"\n",
    "}) \n",
    "print(electricity)\n",
    "print(gas)\n",
    "print(water)\n",
    "print(sewage)"
   ]
  },
  {
   "cell_type": "markdown",
   "metadata": {},
   "source": [
    "Exercises 5-7 deal with the Tips data set (`tips.csv`)."
   ]
  },
  {
   "cell_type": "markdown",
   "metadata": {},
   "source": [
    "**Exercise 5.** Make a visualization that shows the distribution of the total bills. Transform the variable first so that it is approximately symmetric."
   ]
  },
  {
   "cell_type": "code",
   "execution_count": 20,
   "metadata": {},
   "outputs": [
    {
     "data": {
      "text/plain": [
       "<matplotlib.axes._subplots.AxesSubplot at 0x25b8d0d9c08>"
      ]
     },
     "execution_count": 20,
     "metadata": {},
     "output_type": "execute_result"
    },
    {
     "data": {
      "image/png": "[encoded data removed]",
      "text/plain": [
       "<Figure size 432x288 with 1 Axes>"
      ]
     },
     "metadata": {
      "needs_background": "light"
     },
     "output_type": "display_data"
    }
   ],
   "source": [
    "df_tips = pd.read_csv(\"tips.csv\")\n",
    "(df_tips[\"obs\"] ** 10).plot.hist()"
   ]
  },
  {
   "cell_type": "markdown",
   "metadata": {},
   "source": [
    "**Exercise 6.** Suppose the total bill + tip are divided evenly among the people in each party. Which table paid the most _per person_?"
   ]
  },
  {
   "cell_type": "code",
   "execution_count": 48,
   "metadata": {},
   "outputs": [
    {
     "data": {
      "text/plain": [
       "184"
      ]
     },
     "execution_count": 48,
     "metadata": {},
     "output_type": "execute_result"
    }
   ],
   "source": [
    "df_tips[\"Table Paid\"] = (df_tips[\"totbill\"] + df_tips[\"tip\"] ) / df_tips[\"size\"]\n",
    "df_tips[\"Table Paid\"].idxmax()"
   ]
  },
  {
   "cell_type": "markdown",
   "metadata": {},
   "source": [
    "# Answer:\n",
    "Table 184 paid the most per person."
   ]
  },
  {
   "cell_type": "markdown",
   "metadata": {},
   "source": [
    "**Exercise 7.** Make a visualization that shows how busy the restaurant is by day. Your visualization should display the full name of each day, i.e., \"Thursday\" instead of \"Thur\"."
   ]
  },
  {
   "cell_type": "code",
   "execution_count": 53,
   "metadata": {},
   "outputs": [
    {
     "data": {
      "text/plain": [
       "<matplotlib.axes._subplots.AxesSubplot at 0x25b8d474988>"
      ]
     },
     "execution_count": 53,
     "metadata": {},
     "output_type": "execute_result"
    },
    {
     "data": {
      "image/png": "[encoded data removed]",
      "text/plain": [
       "<Figure size 432x288 with 1 Axes>"
      ]
     },
     "metadata": {
      "needs_background": "light"
     },
     "output_type": "display_data"
    }
   ],
   "source": [
    "df_tips[\"day\"].map({\n",
    "       \"Sun\": \"Sunday\",\n",
    "       \"Sat\": \"Saturday\",\n",
    "       \"Fri\": \"Friday\",\n",
    "       \"Thu\": \"Thursday\",\n",
    "}).value_counts()[[\"Sunday\", \"Saturday\", \"Friday\", \"Thursday\"]].plot.bar()"
   ]
  }
 ],
 "metadata": {
  "kernelspec": {
   "display_name": "Python 3",
   "language": "python",
   "name": "python3"
  },
  "language_info": {
   "codemirror_mode": {
    "name": "ipython",
    "version": 3
   },
   "file_extension": ".py",
   "mimetype": "text/x-python",
   "name": "python",
   "nbconvert_exporter": "python",
   "pygments_lexer": "ipython3",
   "version": "3.7.4"
  }
 },
 "nbformat": 4,
 "nbformat_minor": 2
}
