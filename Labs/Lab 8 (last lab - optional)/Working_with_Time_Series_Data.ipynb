{
 "cells": [
  {
   "cell_type": "markdown",
   "metadata": {
    "colab_type": "text",
    "id": "fIkB7OAmFGYX"
   },
   "source": [
    "# Time Series Data (optional lab)\n",
    "\n",
    "A _time series_ is simply a series of measurements indexed by time. We will discuss strategies for analyzing and visualizing time series data."
   ]
  },
  {
   "cell_type": "markdown",
   "metadata": {
    "colab_type": "text",
    "id": "T_B5ltlGFGYb"
   },
   "source": [
    "# Working with Time Series Data\n",
    "\n",
    "In this lesson, we will work with [a data set from the National Oceanic & Atmospheric Administration (NOAA)](http://www.esrl.noaa.gov/gmd/ccgg/trends/) consisting of weekly measurements of atmospheric carbon dioxide ($\\text{CO}_2$) at the Mauna Loa Observatory in Hawaii, dating back to 1974. Since atmospheric $\\text{CO}_2$ is considered to be one of the primary drivers of climate change, this time series is highly relevant to climate policy.\n",
    "\n",
    "First, let's read in the data set."
   ]
  },
  {
   "cell_type": "code",
   "execution_count": 1,
   "metadata": {
    "colab": {},
    "colab_type": "code",
    "id": "O8t64e2-FGYc"
   },
   "outputs": [
    {
     "data": {
      "text/html": [
       "<div>\n",
       "<style scoped>\n",
       "    .dataframe tbody tr th:only-of-type {\n",
       "        vertical-align: middle;\n",
       "    }\n",
       "\n",
       "    .dataframe tbody tr th {\n",
       "        vertical-align: top;\n",
       "    }\n",
       "\n",
       "    .dataframe thead th {\n",
       "        text-align: right;\n",
       "    }\n",
       "</style>\n",
       "<table border=\"1\" class=\"dataframe\">\n",
       "  <thead>\n",
       "    <tr style=\"text-align: right;\">\n",
       "      <th></th>\n",
       "      <th>date</th>\n",
       "      <th>ppm</th>\n",
       "      <th>#days</th>\n",
       "    </tr>\n",
       "  </thead>\n",
       "  <tbody>\n",
       "    <tr>\n",
       "      <th>0</th>\n",
       "      <td>1974-05-19</td>\n",
       "      <td>333.34</td>\n",
       "      <td>6</td>\n",
       "    </tr>\n",
       "    <tr>\n",
       "      <th>1</th>\n",
       "      <td>1974-05-26</td>\n",
       "      <td>332.95</td>\n",
       "      <td>6</td>\n",
       "    </tr>\n",
       "    <tr>\n",
       "      <th>2</th>\n",
       "      <td>1974-06-02</td>\n",
       "      <td>332.32</td>\n",
       "      <td>5</td>\n",
       "    </tr>\n",
       "    <tr>\n",
       "      <th>3</th>\n",
       "      <td>1974-06-09</td>\n",
       "      <td>332.18</td>\n",
       "      <td>7</td>\n",
       "    </tr>\n",
       "    <tr>\n",
       "      <th>4</th>\n",
       "      <td>1974-06-16</td>\n",
       "      <td>332.37</td>\n",
       "      <td>7</td>\n",
       "    </tr>\n",
       "    <tr>\n",
       "      <th>...</th>\n",
       "      <td>...</td>\n",
       "      <td>...</td>\n",
       "      <td>...</td>\n",
       "    </tr>\n",
       "    <tr>\n",
       "      <th>2384</th>\n",
       "      <td>2020-01-26</td>\n",
       "      <td>414.09</td>\n",
       "      <td>7</td>\n",
       "    </tr>\n",
       "    <tr>\n",
       "      <th>2385</th>\n",
       "      <td>2020-02-02</td>\n",
       "      <td>414.33</td>\n",
       "      <td>7</td>\n",
       "    </tr>\n",
       "    <tr>\n",
       "      <th>2386</th>\n",
       "      <td>2020-02-09</td>\n",
       "      <td>414.40</td>\n",
       "      <td>6</td>\n",
       "    </tr>\n",
       "    <tr>\n",
       "      <th>2387</th>\n",
       "      <td>2020-02-16</td>\n",
       "      <td>414.01</td>\n",
       "      <td>7</td>\n",
       "    </tr>\n",
       "    <tr>\n",
       "      <th>2388</th>\n",
       "      <td>2020-02-23</td>\n",
       "      <td>413.72</td>\n",
       "      <td>7</td>\n",
       "    </tr>\n",
       "  </tbody>\n",
       "</table>\n",
       "<p>2389 rows × 3 columns</p>\n",
       "</div>"
      ],
      "text/plain": [
       "            date     ppm  #days\n",
       "0     1974-05-19  333.34      6\n",
       "1     1974-05-26  332.95      6\n",
       "2     1974-06-02  332.32      5\n",
       "3     1974-06-09  332.18      7\n",
       "4     1974-06-16  332.37      7\n",
       "...          ...     ...    ...\n",
       "2384  2020-01-26  414.09      7\n",
       "2385  2020-02-02  414.33      7\n",
       "2386  2020-02-09  414.40      6\n",
       "2387  2020-02-16  414.01      7\n",
       "2388  2020-02-23  413.72      7\n",
       "\n",
       "[2389 rows x 3 columns]"
      ]
     },
     "execution_count": 1,
     "metadata": {},
     "output_type": "execute_result"
    }
   ],
   "source": [
    "import pandas as pd\n",
    "df_co2 = pd.read_csv(\"mauna_loa_co2_weekly.csv\")\n",
    "df_co2"
   ]
  },
  {
   "cell_type": "markdown",
   "metadata": {
    "colab_type": "text",
    "id": "mKCMrnZdFGYg"
   },
   "source": [
    "By default, the dates are stored as strings. In order to make `pandas` recognize them as dates, we call `pd.to_datetime`."
   ]
  },
  {
   "cell_type": "code",
   "execution_count": 2,
   "metadata": {
    "colab": {},
    "colab_type": "code",
    "id": "_xBxlcKUFGYh"
   },
   "outputs": [
    {
     "data": {
      "text/plain": [
       "0      1974-05-19\n",
       "1      1974-05-26\n",
       "2      1974-06-02\n",
       "3      1974-06-09\n",
       "4      1974-06-16\n",
       "          ...    \n",
       "2384   2020-01-26\n",
       "2385   2020-02-02\n",
       "2386   2020-02-09\n",
       "2387   2020-02-16\n",
       "2388   2020-02-23\n",
       "Name: date, Length: 2389, dtype: datetime64[ns]"
      ]
     },
     "execution_count": 2,
     "metadata": {},
     "output_type": "execute_result"
    }
   ],
   "source": [
    "pd.to_datetime(df_co2[\"date\"])"
   ]
  },
  {
   "cell_type": "markdown",
   "metadata": {
    "colab_type": "text",
    "id": "4EUrgfFMFGYl"
   },
   "source": [
    "Notice that the `dtype` of this `Series` is `datetime64[ns]`, which is a special type for storing dates and times. \n",
    "\n",
    "In this particular example, `pandas` was able to automatically infer the correct formatting of the dates; however, we can also specify the format explicitly, using the [standard format codes](https://docs.python.org/3/library/datetime.html#strftime-and-strptime-behavior)."
   ]
  },
  {
   "cell_type": "code",
   "execution_count": 3,
   "metadata": {
    "colab": {},
    "colab_type": "code",
    "id": "-ctQgSHBFGYm"
   },
   "outputs": [
    {
     "data": {
      "text/plain": [
       "0      1974-05-19\n",
       "1      1974-05-26\n",
       "2      1974-06-02\n",
       "3      1974-06-09\n",
       "4      1974-06-16\n",
       "          ...    \n",
       "2384   2020-01-26\n",
       "2385   2020-02-02\n",
       "2386   2020-02-09\n",
       "2387   2020-02-16\n",
       "2388   2020-02-23\n",
       "Name: date, Length: 2389, dtype: datetime64[ns]"
      ]
     },
     "execution_count": 3,
     "metadata": {},
     "output_type": "execute_result"
    }
   ],
   "source": [
    "pd.to_datetime(df_co2[\"date\"], format=\"%Y-%m-%d\")"
   ]
  },
  {
   "cell_type": "markdown",
   "metadata": {
    "colab_type": "text",
    "id": "Xe1Rtr1hFGYp"
   },
   "source": [
    "It makes sense to make the date the index of this `DataFrame`."
   ]
  },
  {
   "cell_type": "code",
   "execution_count": 4,
   "metadata": {
    "colab": {},
    "colab_type": "code",
    "id": "M_lSoRqhFGYq"
   },
   "outputs": [
    {
     "data": {
      "text/html": [
       "<div>\n",
       "<style scoped>\n",
       "    .dataframe tbody tr th:only-of-type {\n",
       "        vertical-align: middle;\n",
       "    }\n",
       "\n",
       "    .dataframe tbody tr th {\n",
       "        vertical-align: top;\n",
       "    }\n",
       "\n",
       "    .dataframe thead th {\n",
       "        text-align: right;\n",
       "    }\n",
       "</style>\n",
       "<table border=\"1\" class=\"dataframe\">\n",
       "  <thead>\n",
       "    <tr style=\"text-align: right;\">\n",
       "      <th></th>\n",
       "      <th>date</th>\n",
       "      <th>ppm</th>\n",
       "      <th>#days</th>\n",
       "    </tr>\n",
       "    <tr>\n",
       "      <th>date</th>\n",
       "      <th></th>\n",
       "      <th></th>\n",
       "      <th></th>\n",
       "    </tr>\n",
       "  </thead>\n",
       "  <tbody>\n",
       "    <tr>\n",
       "      <th>1974-05-19</th>\n",
       "      <td>1974-05-19</td>\n",
       "      <td>333.34</td>\n",
       "      <td>6</td>\n",
       "    </tr>\n",
       "    <tr>\n",
       "      <th>1974-05-26</th>\n",
       "      <td>1974-05-26</td>\n",
       "      <td>332.95</td>\n",
       "      <td>6</td>\n",
       "    </tr>\n",
       "    <tr>\n",
       "      <th>1974-06-02</th>\n",
       "      <td>1974-06-02</td>\n",
       "      <td>332.32</td>\n",
       "      <td>5</td>\n",
       "    </tr>\n",
       "    <tr>\n",
       "      <th>1974-06-09</th>\n",
       "      <td>1974-06-09</td>\n",
       "      <td>332.18</td>\n",
       "      <td>7</td>\n",
       "    </tr>\n",
       "    <tr>\n",
       "      <th>1974-06-16</th>\n",
       "      <td>1974-06-16</td>\n",
       "      <td>332.37</td>\n",
       "      <td>7</td>\n",
       "    </tr>\n",
       "    <tr>\n",
       "      <th>...</th>\n",
       "      <td>...</td>\n",
       "      <td>...</td>\n",
       "      <td>...</td>\n",
       "    </tr>\n",
       "    <tr>\n",
       "      <th>2020-01-26</th>\n",
       "      <td>2020-01-26</td>\n",
       "      <td>414.09</td>\n",
       "      <td>7</td>\n",
       "    </tr>\n",
       "    <tr>\n",
       "      <th>2020-02-02</th>\n",
       "      <td>2020-02-02</td>\n",
       "      <td>414.33</td>\n",
       "      <td>7</td>\n",
       "    </tr>\n",
       "    <tr>\n",
       "      <th>2020-02-09</th>\n",
       "      <td>2020-02-09</td>\n",
       "      <td>414.40</td>\n",
       "      <td>6</td>\n",
       "    </tr>\n",
       "    <tr>\n",
       "      <th>2020-02-16</th>\n",
       "      <td>2020-02-16</td>\n",
       "      <td>414.01</td>\n",
       "      <td>7</td>\n",
       "    </tr>\n",
       "    <tr>\n",
       "      <th>2020-02-23</th>\n",
       "      <td>2020-02-23</td>\n",
       "      <td>413.72</td>\n",
       "      <td>7</td>\n",
       "    </tr>\n",
       "  </tbody>\n",
       "</table>\n",
       "<p>2389 rows × 3 columns</p>\n",
       "</div>"
      ],
      "text/plain": [
       "                  date     ppm  #days\n",
       "date                                 \n",
       "1974-05-19  1974-05-19  333.34      6\n",
       "1974-05-26  1974-05-26  332.95      6\n",
       "1974-06-02  1974-06-02  332.32      5\n",
       "1974-06-09  1974-06-09  332.18      7\n",
       "1974-06-16  1974-06-16  332.37      7\n",
       "...                ...     ...    ...\n",
       "2020-01-26  2020-01-26  414.09      7\n",
       "2020-02-02  2020-02-02  414.33      7\n",
       "2020-02-09  2020-02-09  414.40      6\n",
       "2020-02-16  2020-02-16  414.01      7\n",
       "2020-02-23  2020-02-23  413.72      7\n",
       "\n",
       "[2389 rows x 3 columns]"
      ]
     },
     "execution_count": 4,
     "metadata": {},
     "output_type": "execute_result"
    }
   ],
   "source": [
    "df_co2.index = pd.to_datetime(df_co2[\"date\"], format=\"%Y-%m-%d\")\n",
    "df_co2"
   ]
  },
  {
   "cell_type": "markdown",
   "metadata": {
    "colab_type": "text",
    "id": "puytsxXeFGYt"
   },
   "source": [
    "Another way to achieve (essentially) the same result is to read in the **date** column as the index and to specify that the values should be parsed as dates."
   ]
  },
  {
   "cell_type": "code",
   "execution_count": 6,
   "metadata": {
    "colab": {},
    "colab_type": "code",
    "id": "Hz0S0_4mFGYv"
   },
   "outputs": [
    {
     "data": {
      "text/html": [
       "<div>\n",
       "<style scoped>\n",
       "    .dataframe tbody tr th:only-of-type {\n",
       "        vertical-align: middle;\n",
       "    }\n",
       "\n",
       "    .dataframe tbody tr th {\n",
       "        vertical-align: top;\n",
       "    }\n",
       "\n",
       "    .dataframe thead th {\n",
       "        text-align: right;\n",
       "    }\n",
       "</style>\n",
       "<table border=\"1\" class=\"dataframe\">\n",
       "  <thead>\n",
       "    <tr style=\"text-align: right;\">\n",
       "      <th></th>\n",
       "      <th>ppm</th>\n",
       "      <th>#days</th>\n",
       "    </tr>\n",
       "    <tr>\n",
       "      <th>date</th>\n",
       "      <th></th>\n",
       "      <th></th>\n",
       "    </tr>\n",
       "  </thead>\n",
       "  <tbody>\n",
       "    <tr>\n",
       "      <th>1974-05-19</th>\n",
       "      <td>333.34</td>\n",
       "      <td>6</td>\n",
       "    </tr>\n",
       "    <tr>\n",
       "      <th>1974-05-26</th>\n",
       "      <td>332.95</td>\n",
       "      <td>6</td>\n",
       "    </tr>\n",
       "    <tr>\n",
       "      <th>1974-06-02</th>\n",
       "      <td>332.32</td>\n",
       "      <td>5</td>\n",
       "    </tr>\n",
       "    <tr>\n",
       "      <th>1974-06-09</th>\n",
       "      <td>332.18</td>\n",
       "      <td>7</td>\n",
       "    </tr>\n",
       "    <tr>\n",
       "      <th>1974-06-16</th>\n",
       "      <td>332.37</td>\n",
       "      <td>7</td>\n",
       "    </tr>\n",
       "    <tr>\n",
       "      <th>...</th>\n",
       "      <td>...</td>\n",
       "      <td>...</td>\n",
       "    </tr>\n",
       "    <tr>\n",
       "      <th>2020-01-26</th>\n",
       "      <td>414.09</td>\n",
       "      <td>7</td>\n",
       "    </tr>\n",
       "    <tr>\n",
       "      <th>2020-02-02</th>\n",
       "      <td>414.33</td>\n",
       "      <td>7</td>\n",
       "    </tr>\n",
       "    <tr>\n",
       "      <th>2020-02-09</th>\n",
       "      <td>414.40</td>\n",
       "      <td>6</td>\n",
       "    </tr>\n",
       "    <tr>\n",
       "      <th>2020-02-16</th>\n",
       "      <td>414.01</td>\n",
       "      <td>7</td>\n",
       "    </tr>\n",
       "    <tr>\n",
       "      <th>2020-02-23</th>\n",
       "      <td>413.72</td>\n",
       "      <td>7</td>\n",
       "    </tr>\n",
       "  </tbody>\n",
       "</table>\n",
       "<p>2389 rows × 2 columns</p>\n",
       "</div>"
      ],
      "text/plain": [
       "               ppm  #days\n",
       "date                     \n",
       "1974-05-19  333.34      6\n",
       "1974-05-26  332.95      6\n",
       "1974-06-02  332.32      5\n",
       "1974-06-09  332.18      7\n",
       "1974-06-16  332.37      7\n",
       "...            ...    ...\n",
       "2020-01-26  414.09      7\n",
       "2020-02-02  414.33      7\n",
       "2020-02-09  414.40      6\n",
       "2020-02-16  414.01      7\n",
       "2020-02-23  413.72      7\n",
       "\n",
       "[2389 rows x 2 columns]"
      ]
     },
     "execution_count": 6,
     "metadata": {},
     "output_type": "execute_result"
    }
   ],
   "source": [
    "pd.read_csv(\"mauna_loa_co2_weekly.csv\",\n",
    "            index_col=\"date\",\n",
    "            parse_dates=True)"
   ]
  },
  {
   "cell_type": "markdown",
   "metadata": {
    "colab_type": "text",
    "id": "LmBqG_9EFGY2"
   },
   "source": [
    "## Visualizing Time Series\n",
    "\n",
    "Time series are typically plotted as a line, with time on the $x$-axis and the measurement on the $y$-axis. Since our `DataFrame` is already indexed by time, we can simply select the variable we want to plot (**ppm**, the concentration of $\\text{CO}_2$ in parts per million) and call `.plot.line()`."
   ]
  },
  {
   "cell_type": "code",
   "execution_count": 7,
   "metadata": {
    "colab": {},
    "colab_type": "code",
    "id": "6RDc_Fo-FGY3"
   },
   "outputs": [
    {
     "data": {
      "text/plain": [
       "<matplotlib.axes._subplots.AxesSubplot at 0x19895161288>"
      ]
     },
     "execution_count": 7,
     "metadata": {},
     "output_type": "execute_result"
    },
    {
     "data": {
      "image/png": "[encoded data removed]",
      "text/plain": [
       "<Figure size 432x288 with 1 Axes>"
      ]
     },
     "metadata": {
      "needs_background": "light"
     },
     "output_type": "display_data"
    }
   ],
   "source": [
    "df_co2[\"ppm\"].plot.line()"
   ]
  },
  {
   "cell_type": "markdown",
   "metadata": {
    "colab_type": "text",
    "id": "cIWwHP0HFGY5"
   },
   "source": [
    "Oops! It seems that there are some missing values in the data that are coded as $-999.99$."
   ]
  },
  {
   "cell_type": "code",
   "execution_count": 8,
   "metadata": {
    "colab": {},
    "colab_type": "code",
    "id": "pS1uAWuXFGY6"
   },
   "outputs": [
    {
     "data": {
      "text/plain": [
       "date\n",
       "1975-10-05   -999.99\n",
       "1975-12-07   -999.99\n",
       "1975-12-14   -999.99\n",
       "1975-12-21   -999.99\n",
       "1975-12-28   -999.99\n",
       "1976-06-27   -999.99\n",
       "1979-05-20   -999.99\n",
       "1982-03-21   -999.99\n",
       "1982-04-11   -999.99\n",
       "1982-04-18   -999.99\n",
       "1983-08-07   -999.99\n",
       "1984-04-01   -999.99\n",
       "1984-04-08   -999.99\n",
       "1984-04-15   -999.99\n",
       "1984-04-22   -999.99\n",
       "1984-12-02   -999.99\n",
       "2005-10-16   -999.99\n",
       "2008-06-29   -999.99\n",
       "2008-07-06   -999.99\n",
       "2008-07-13   -999.99\n",
       "Name: ppm, dtype: float64"
      ]
     },
     "execution_count": 8,
     "metadata": {},
     "output_type": "execute_result"
    }
   ],
   "source": [
    "df_co2[df_co2[\"ppm\"] < 0][\"ppm\"]"
   ]
  },
  {
   "cell_type": "markdown",
   "metadata": {
    "colab_type": "text",
    "id": "McyUKM0zFGY9"
   },
   "source": [
    "Let's replace these values with `NaN`s and recreate the plot."
   ]
  },
  {
   "cell_type": "code",
   "execution_count": 9,
   "metadata": {
    "colab": {},
    "colab_type": "code",
    "id": "a9iDPjV1FGY-"
   },
   "outputs": [
    {
     "data": {
      "text/plain": [
       "<matplotlib.axes._subplots.AxesSubplot at 0x19895aef888>"
      ]
     },
     "execution_count": 9,
     "metadata": {},
     "output_type": "execute_result"
    },
    {
     "data": {
      "image/png": "[encoded data removed]",
      "text/plain": [
       "<Figure size 432x288 with 1 Axes>"
      ]
     },
     "metadata": {
      "needs_background": "light"
     },
     "output_type": "display_data"
    }
   ],
   "source": [
    "import numpy as np\n",
    "df_co2 = df_co2.replace(-999.99, np.nan)\n",
    "ppm = df_co2[\"ppm\"]\n",
    "ppm.plot.line()"
   ]
  },
  {
   "cell_type": "markdown",
   "metadata": {
    "colab_type": "text",
    "id": "2eqcjtYkFGZA"
   },
   "source": [
    "The upward trend in this graph has been cause of great consternation.\n",
    "\n",
    "Let's take a closer look at what `pandas` did with those missing values that we filtered out. We saw above that measurements were missing for all 4 weeks in December 1975. Let's zoom in on this region by restricting to dates before February 1976. We can compare use logical operators (`<`, `>`, `==`, etc.) to compare dates, except that we have to be sure to compare dates with dates, creating `datetime` objects as necessary."
   ]
  },
  {
   "cell_type": "code",
   "execution_count": 10,
   "metadata": {
    "colab": {},
    "colab_type": "code",
    "id": "UbFjUm_dFGZB"
   },
   "outputs": [
    {
     "data": {
      "text/plain": [
       "<matplotlib.axes._subplots.AxesSubplot at 0x19895bf7088>"
      ]
     },
     "execution_count": 10,
     "metadata": {},
     "output_type": "execute_result"
    },
    {
     "data": {
      "image/png": "[encoded data removed]",
      "text/plain": [
       "<Figure size 432x288 with 1 Axes>"
      ]
     },
     "metadata": {
      "needs_background": "light"
     },
     "output_type": "display_data"
    }
   ],
   "source": [
    "from datetime import datetime\n",
    "\n",
    "(ppm[ppm.index < datetime(1976, 2, 1)].\n",
    " plot.line(style=\"o-\"))"
   ]
  },
  {
   "cell_type": "markdown",
   "metadata": {
    "colab_type": "text",
    "id": "DPN7BhOnFGZE"
   },
   "source": [
    "Notice how `pandas` left the appropriate space between the measurement on 1975-11-30 and the next available measurement on 1976-01-04. This is one advantage of casting dates to `datetime`s, rather than simply leaving them as strings. If we had instead made a line plot using the **date** column (which stores the dates as strings), then the values would still have been plotted in the right order, but the points would be uniformly spaced, instead of spaced according to how far apart they are in time."
   ]
  },
  {
   "cell_type": "code",
   "execution_count": 11,
   "metadata": {
    "colab": {},
    "colab_type": "code",
    "id": "K99jtn4xFGZE"
   },
   "outputs": [
    {
     "data": {
      "text/plain": [
       "<matplotlib.axes._subplots.AxesSubplot at 0x19895c8c3c8>"
      ]
     },
     "execution_count": 11,
     "metadata": {},
     "output_type": "execute_result"
    },
    {
     "data": {
      "image/png": "[encoded data removed]",
      "text/plain": [
       "<Figure size 432x288 with 1 Axes>"
      ]
     },
     "metadata": {
      "needs_background": "light"
     },
     "output_type": "display_data"
    }
   ],
   "source": [
    "df_co2_no_na = df_co2.dropna()\n",
    "\n",
    "(df_co2_no_na[df_co2_no_na.index < datetime(1976, 2, 1)].\n",
    " plot.line(x=\"date\", y=\"ppm\", style=\"o-\"))"
   ]
  },
  {
   "cell_type": "markdown",
   "metadata": {
    "colab_type": "text",
    "id": "nx2sBWoyFGZH"
   },
   "source": [
    "## Changing the Sampling Frequency\n",
    "\n",
    "From the graph, there is a clear seasonal pattern in $\\text{CO}_2$ levels. The levels increase in the winter (in the northern hemisphere), peaking around May of each year, and then decline in the summer. Plants are responsible for this seasonal pattern. In the summer months, plants absorb $\\text{CO}_2$ from the atmosphere as part of photosynthesis, in order to grow flowers and leaves. In the winter months, these leaves fall to the ground, where they are broken down by microbes that emit $\\text{CO}_2$ in the process. \n",
    "\n",
    "However, these seasonal fluctuations are dwarfed by the overall increasing trend, which is thought to be caused by human activities. To see the overall trend more clearly, we can calculate the yearly average, therefore smoothing over all of the seasonal fluctuations. Although this can be done manually, `pandas` provides a convenience method, `.resample()`, that changes the sampling frequency of the time series. The `.resample()` function works like `.groupby()`; you have to specify a column and an aggregation function. In the code below, we average the **ppm** in each year to obtain a time series with a sampling frequency of 1 year."
   ]
  },
  {
   "cell_type": "code",
   "execution_count": 12,
   "metadata": {
    "colab": {},
    "colab_type": "code",
    "id": "2dQoZNVIFGZI"
   },
   "outputs": [
    {
     "data": {
      "text/plain": [
       "date\n",
       "1974-12-31    329.488182\n",
       "1975-12-31    331.217234\n",
       "1976-12-31    332.047843\n",
       "1977-12-31    333.830577\n",
       "1978-12-31    335.411887\n",
       "1979-12-31    336.851373\n",
       "1980-12-31    338.756154\n",
       "1981-12-31    340.120385\n",
       "1982-12-31    341.301224\n",
       "1983-12-31    343.073725\n",
       "1984-12-31    344.487292\n",
       "1985-12-31    346.126346\n",
       "1986-12-31    347.434808\n",
       "1987-12-31    349.213846\n",
       "1988-12-31    351.574038\n",
       "1989-12-31    353.129245\n",
       "1990-12-31    354.397885\n",
       "1991-12-31    355.645577\n",
       "1992-12-31    356.446923\n",
       "1993-12-31    357.115577\n",
       "1994-12-31    358.837308\n",
       "1995-12-31    360.831698\n",
       "1996-12-31    362.620000\n",
       "1997-12-31    363.742692\n",
       "1998-12-31    366.724231\n",
       "1999-12-31    368.363269\n",
       "2000-12-31    369.577547\n",
       "2001-12-31    371.166346\n",
       "2002-12-31    373.302308\n",
       "2003-12-31    375.807692\n",
       "2004-12-31    377.545000\n",
       "2005-12-31    379.867843\n",
       "2006-12-31    381.891698\n",
       "2007-12-31    383.849038\n",
       "2008-12-31    385.557551\n",
       "2009-12-31    387.452308\n",
       "2010-12-31    389.879808\n",
       "2011-12-31    391.655769\n",
       "2012-12-31    393.867358\n",
       "2013-12-31    396.556731\n",
       "2014-12-31    398.685577\n",
       "2015-12-31    400.841538\n",
       "2016-12-31    404.258269\n",
       "2017-12-31    406.570943\n",
       "2018-12-31    408.553654\n",
       "2019-12-31    411.470385\n",
       "2020-12-31    413.798750\n",
       "Freq: A-DEC, Name: ppm, dtype: float64"
      ]
     },
     "execution_count": 12,
     "metadata": {},
     "output_type": "execute_result"
    },
    {
     "data": {
      "image/png": "[encoded data removed]",
      "text/plain": [
       "<Figure size 432x288 with 1 Axes>"
      ]
     },
     "metadata": {
      "needs_background": "light"
     },
     "output_type": "display_data"
    }
   ],
   "source": [
    "ppm_1y = df_co2.resample(\"1Y\")[\"ppm\"].mean()\n",
    "ppm_1y.plot.line()\n",
    "ppm_1y"
   ]
  },
  {
   "cell_type": "markdown",
   "metadata": {
    "colab_type": "text",
    "id": "_-9YcweFFGZM"
   },
   "source": [
    "## Lags and Differences\n",
    "\n",
    "Another way to remove the effect of seasonality is to take differences. If we take each measurement and subtract the measurement from a year earlier, then any seasonal effect should cancel out, since we are comparing winter measurements to winter measurements and summer measurements to summer measurements.\n",
    "\n",
    "The easiest way to take this difference is to shift (or _lag_) all of the values in the `DataFrame`. Since each row in our `DataFrame` represents 1 week, we should shift the `DataFrame` by 52 rows so that every value is lined up with its value 1 year ago."
   ]
  },
  {
   "cell_type": "code",
   "execution_count": 13,
   "metadata": {
    "colab": {},
    "colab_type": "code",
    "id": "4IkCDDfJFGZM"
   },
   "outputs": [
    {
     "data": {
      "text/html": [
       "<div>\n",
       "<style scoped>\n",
       "    .dataframe tbody tr th:only-of-type {\n",
       "        vertical-align: middle;\n",
       "    }\n",
       "\n",
       "    .dataframe tbody tr th {\n",
       "        vertical-align: top;\n",
       "    }\n",
       "\n",
       "    .dataframe thead th {\n",
       "        text-align: right;\n",
       "    }\n",
       "</style>\n",
       "<table border=\"1\" class=\"dataframe\">\n",
       "  <thead>\n",
       "    <tr style=\"text-align: right;\">\n",
       "      <th></th>\n",
       "      <th>date</th>\n",
       "      <th>ppm</th>\n",
       "      <th>#days</th>\n",
       "    </tr>\n",
       "    <tr>\n",
       "      <th>date</th>\n",
       "      <th></th>\n",
       "      <th></th>\n",
       "      <th></th>\n",
       "    </tr>\n",
       "  </thead>\n",
       "  <tbody>\n",
       "    <tr>\n",
       "      <th>1974-05-19</th>\n",
       "      <td>NaN</td>\n",
       "      <td>NaN</td>\n",
       "      <td>NaN</td>\n",
       "    </tr>\n",
       "    <tr>\n",
       "      <th>1974-05-26</th>\n",
       "      <td>NaN</td>\n",
       "      <td>NaN</td>\n",
       "      <td>NaN</td>\n",
       "    </tr>\n",
       "    <tr>\n",
       "      <th>1974-06-02</th>\n",
       "      <td>NaN</td>\n",
       "      <td>NaN</td>\n",
       "      <td>NaN</td>\n",
       "    </tr>\n",
       "    <tr>\n",
       "      <th>1974-06-09</th>\n",
       "      <td>NaN</td>\n",
       "      <td>NaN</td>\n",
       "      <td>NaN</td>\n",
       "    </tr>\n",
       "    <tr>\n",
       "      <th>1974-06-16</th>\n",
       "      <td>NaN</td>\n",
       "      <td>NaN</td>\n",
       "      <td>NaN</td>\n",
       "    </tr>\n",
       "    <tr>\n",
       "      <th>...</th>\n",
       "      <td>...</td>\n",
       "      <td>...</td>\n",
       "      <td>...</td>\n",
       "    </tr>\n",
       "    <tr>\n",
       "      <th>2020-01-26</th>\n",
       "      <td>2019-01-27</td>\n",
       "      <td>411.02</td>\n",
       "      <td>7.0</td>\n",
       "    </tr>\n",
       "    <tr>\n",
       "      <th>2020-02-02</th>\n",
       "      <td>2019-02-03</td>\n",
       "      <td>411.63</td>\n",
       "      <td>7.0</td>\n",
       "    </tr>\n",
       "    <tr>\n",
       "      <th>2020-02-09</th>\n",
       "      <td>2019-02-10</td>\n",
       "      <td>412.41</td>\n",
       "      <td>6.0</td>\n",
       "    </tr>\n",
       "    <tr>\n",
       "      <th>2020-02-16</th>\n",
       "      <td>2019-02-17</td>\n",
       "      <td>410.98</td>\n",
       "      <td>7.0</td>\n",
       "    </tr>\n",
       "    <tr>\n",
       "      <th>2020-02-23</th>\n",
       "      <td>2019-02-24</td>\n",
       "      <td>412.40</td>\n",
       "      <td>7.0</td>\n",
       "    </tr>\n",
       "  </tbody>\n",
       "</table>\n",
       "<p>2389 rows × 3 columns</p>\n",
       "</div>"
      ],
      "text/plain": [
       "                  date     ppm  #days\n",
       "date                                 \n",
       "1974-05-19         NaN     NaN    NaN\n",
       "1974-05-26         NaN     NaN    NaN\n",
       "1974-06-02         NaN     NaN    NaN\n",
       "1974-06-09         NaN     NaN    NaN\n",
       "1974-06-16         NaN     NaN    NaN\n",
       "...                ...     ...    ...\n",
       "2020-01-26  2019-01-27  411.02    7.0\n",
       "2020-02-02  2019-02-03  411.63    7.0\n",
       "2020-02-09  2019-02-10  412.41    6.0\n",
       "2020-02-16  2019-02-17  410.98    7.0\n",
       "2020-02-23  2019-02-24  412.40    7.0\n",
       "\n",
       "[2389 rows x 3 columns]"
      ]
     },
     "execution_count": 13,
     "metadata": {},
     "output_type": "execute_result"
    }
   ],
   "source": [
    "df_co2_lag = df_co2.shift(52)\n",
    "df_co2_lag"
   ]
  },
  {
   "cell_type": "markdown",
   "metadata": {
    "colab_type": "text",
    "id": "Bn-sZw_qFGZV"
   },
   "source": [
    "By comparing the **date** index (which was not shifted) to the **date** column (which was shifted), we see that the values in the `DataFrame` correspond to approximately 1 year earlier than the date in the index. Therefore, if we subtract these lagged **ppm** values from the original **ppm** values, we obtain a `Series` of one-year changes in **ppm**."
   ]
  },
  {
   "cell_type": "code",
   "execution_count": 14,
   "metadata": {
    "colab": {},
    "colab_type": "code",
    "id": "4rT44qKqFGZW"
   },
   "outputs": [
    {
     "data": {
      "text/plain": [
       "date\n",
       "1974-05-19     NaN\n",
       "1974-05-26     NaN\n",
       "1974-06-02     NaN\n",
       "1974-06-09     NaN\n",
       "1974-06-16     NaN\n",
       "              ... \n",
       "2020-01-26    3.07\n",
       "2020-02-02    2.70\n",
       "2020-02-09    1.99\n",
       "2020-02-16    3.03\n",
       "2020-02-23    1.32\n",
       "Name: ppm, Length: 2389, dtype: float64"
      ]
     },
     "execution_count": 14,
     "metadata": {},
     "output_type": "execute_result"
    },
    {
     "data": {
      "image/png": "[encoded data removed]",
      "text/plain": [
       "<Figure size 432x288 with 1 Axes>"
      ]
     },
     "metadata": {
      "needs_background": "light"
     },
     "output_type": "display_data"
    }
   ],
   "source": [
    "diffs = df_co2[\"ppm\"] - df_co2_lag[\"ppm\"]\n",
    "diffs.plot.line()\n",
    "diffs"
   ]
  },
  {
   "cell_type": "markdown",
   "metadata": {
    "colab_type": "text",
    "id": "91CMYvmEFGZc"
   },
   "source": [
    "The seasonality is gone, but so is the trend. The fact that these differences hover around 1.5 tells us that **ppm** has been increasing by about 1.5 ppm per year.\n",
    "\n",
    "In accounting, these types of metrics are called \"Year-over-Year\" (YoY) metrics. They are valuable precisely because they eliminate the seasonal effects that are common in many industries (e.g., holiday season for retail businesses)."
   ]
  },
  {
   "cell_type": "markdown",
   "metadata": {
    "colab_type": "text",
    "id": "w4R0CC3JFGZd"
   },
   "source": [
    "## Exercises\n",
    "\n",
    "Exercises 1-2 ask you to work with the Austin weather data set (austin_weather_2019.csv ), which contains hourly measurements of the weather in Austin, TX in 2019. This data set was collected from the [NOAA](https://www.ncdc.noaa.gov/crn/qcdatasets.html). See the [data documentation](https://www1.ncdc.noaa.gov/pub/data/uscrn/products/hourly02/README.txt) for more information."
   ]
  },
  {
   "cell_type": "markdown",
   "metadata": {
    "colab_type": "text",
    "id": "s3OiF3tnFGZe"
   },
   "source": [
    "1\\. Read in the data set. Plot the hourly temperature (**T_HR_AVG**) time series as a function of the local date and time (**LST_DATE**, **LST_TIME**)."
   ]
  },
  {
   "cell_type": "code",
   "execution_count": null,
   "metadata": {},
   "outputs": [],
   "source": []
  },
  {
   "cell_type": "markdown",
   "metadata": {
    "colab_type": "text",
    "id": "6wbLPI28FGZe"
   },
   "source": [
    "2\\. The hourly temperature plot is extremely noisy. Plot the daily average temperature and weekly average temperature to get a better sense of the climate in Austin, TX."
   ]
  }
 ],
 "metadata": {
  "colab": {
   "name": "8.1 Working with Time Series Data.ipynb",
   "provenance": []
  },
  "kernelspec": {
   "display_name": "Python 3",
   "language": "python",
   "name": "python3"
  },
  "language_info": {
   "codemirror_mode": {
    "name": "ipython",
    "version": 3
   },
   "file_extension": ".py",
   "mimetype": "text/x-python",
   "name": "python",
   "nbconvert_exporter": "python",
   "pygments_lexer": "ipython3",
   "version": "3.7.4"
  }
 },
 "nbformat": 4,
 "nbformat_minor": 1
}
