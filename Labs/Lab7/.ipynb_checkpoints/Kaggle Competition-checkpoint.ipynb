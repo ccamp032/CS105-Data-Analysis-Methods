{
 "cells": [
  {
   "cell_type": "markdown",
   "metadata": {},
   "source": [
    "Kaggle is a website that hosts ML competitions. In this lab, you will participate in a Kaggle competition with other students in this class! The top 3 people will earn up to bonus points. To join the competition, visit this link. You will need to register an account with Kaggle, but you can use your Google account.\n",
    "\n"
   ]
  },
  {
   "cell_type": "code",
   "execution_count": 23,
   "metadata": {},
   "outputs": [
    {
     "data": {
      "text/html": [
       "<div>\n",
       "<style scoped>\n",
       "    .dataframe tbody tr th:only-of-type {\n",
       "        vertical-align: middle;\n",
       "    }\n",
       "\n",
       "    .dataframe tbody tr th {\n",
       "        vertical-align: top;\n",
       "    }\n",
       "\n",
       "    .dataframe thead th {\n",
       "        text-align: right;\n",
       "    }\n",
       "</style>\n",
       "<table border=\"1\" class=\"dataframe\">\n",
       "  <thead>\n",
       "    <tr style=\"text-align: right;\">\n",
       "      <th></th>\n",
       "      <th>abv</th>\n",
       "      <th>available</th>\n",
       "      <th>description</th>\n",
       "      <th>glass</th>\n",
       "      <th>ibu</th>\n",
       "      <th>isOrganic</th>\n",
       "      <th>name</th>\n",
       "      <th>originalGravity</th>\n",
       "      <th>srm</th>\n",
       "    </tr>\n",
       "    <tr>\n",
       "      <th>id</th>\n",
       "      <th></th>\n",
       "      <th></th>\n",
       "      <th></th>\n",
       "      <th></th>\n",
       "      <th></th>\n",
       "      <th></th>\n",
       "      <th></th>\n",
       "      <th></th>\n",
       "      <th></th>\n",
       "    </tr>\n",
       "  </thead>\n",
       "  <tbody>\n",
       "    <tr>\n",
       "      <th>0</th>\n",
       "      <td>8.2</td>\n",
       "      <td>Available at the same time of year, every year.</td>\n",
       "      <td>A Belgian-Abbey-Style Tripel that is big in al...</td>\n",
       "      <td>NaN</td>\n",
       "      <td>31.0</td>\n",
       "      <td>N</td>\n",
       "      <td>LoonyToonTripel</td>\n",
       "      <td>1.070</td>\n",
       "      <td>8</td>\n",
       "    </tr>\n",
       "    <tr>\n",
       "      <th>1</th>\n",
       "      <td>5.7</td>\n",
       "      <td>Available at the same time of year, every year.</td>\n",
       "      <td>Covert Hops is a crafty ale. Its stealthy dark...</td>\n",
       "      <td>Pint</td>\n",
       "      <td>45.0</td>\n",
       "      <td>N</td>\n",
       "      <td>Covert Hops</td>\n",
       "      <td>1.056</td>\n",
       "      <td>35</td>\n",
       "    </tr>\n",
       "    <tr>\n",
       "      <th>2</th>\n",
       "      <td>5.8</td>\n",
       "      <td>Available at the same time of year, every year.</td>\n",
       "      <td>This is a traditional German-style Marzen char...</td>\n",
       "      <td>Mug</td>\n",
       "      <td>25.0</td>\n",
       "      <td>N</td>\n",
       "      <td>Oktoberfest</td>\n",
       "      <td>1.048</td>\n",
       "      <td>10</td>\n",
       "    </tr>\n",
       "    <tr>\n",
       "      <th>3</th>\n",
       "      <td>5.5</td>\n",
       "      <td>Available year round as a staple beer.</td>\n",
       "      <td>A West Coast-Style Pale Ale balancing plenty o...</td>\n",
       "      <td>Pint</td>\n",
       "      <td>55.0</td>\n",
       "      <td>N</td>\n",
       "      <td>Pale Ale</td>\n",
       "      <td>1.044</td>\n",
       "      <td>5</td>\n",
       "    </tr>\n",
       "    <tr>\n",
       "      <th>4</th>\n",
       "      <td>4.8</td>\n",
       "      <td>Available year round as a staple beer.</td>\n",
       "      <td>This Bombshell has a tantalizing crisp and cle...</td>\n",
       "      <td>Pint</td>\n",
       "      <td>11.4</td>\n",
       "      <td>N</td>\n",
       "      <td>Head Turner Blonde Ale</td>\n",
       "      <td>1.045</td>\n",
       "      <td>3</td>\n",
       "    </tr>\n",
       "  </tbody>\n",
       "</table>\n",
       "</div>"
      ],
      "text/plain": [
       "    abv                                        available  \\\n",
       "id                                                         \n",
       "0   8.2  Available at the same time of year, every year.   \n",
       "1   5.7  Available at the same time of year, every year.   \n",
       "2   5.8  Available at the same time of year, every year.   \n",
       "3   5.5           Available year round as a staple beer.   \n",
       "4   4.8           Available year round as a staple beer.   \n",
       "\n",
       "                                          description glass   ibu isOrganic  \\\n",
       "id                                                                            \n",
       "0   A Belgian-Abbey-Style Tripel that is big in al...   NaN  31.0         N   \n",
       "1   Covert Hops is a crafty ale. Its stealthy dark...  Pint  45.0         N   \n",
       "2   This is a traditional German-style Marzen char...   Mug  25.0         N   \n",
       "3   A West Coast-Style Pale Ale balancing plenty o...  Pint  55.0         N   \n",
       "4   This Bombshell has a tantalizing crisp and cle...  Pint  11.4         N   \n",
       "\n",
       "                      name  originalGravity srm  \n",
       "id                                               \n",
       "0          LoonyToonTripel            1.070   8  \n",
       "1              Covert Hops            1.056  35  \n",
       "2              Oktoberfest            1.048  10  \n",
       "3                 Pale Ale            1.044   5  \n",
       "4   Head Turner Blonde Ale            1.045   3  "
      ]
     },
     "execution_count": 23,
     "metadata": {},
     "output_type": "execute_result"
    }
   ],
   "source": [
    "# https://www.kaggle.com/c/beer2019/overview\n",
    "# predict the bitterness of the beer \n",
    "\n",
    "#import warnings\n",
    "#warnings.filterwarnings('ignore')\n",
    "import pandas as pd\n",
    "import numpy as np\n",
    "\n",
    "df_train = pd.read_csv(\"dataset/beer_train.csv\", index_col=\"id\")\n",
    "df_train.head(5)"
   ]
  },
  {
   "cell_type": "code",
   "execution_count": 24,
   "metadata": {
    "scrolled": true
   },
   "outputs": [
    {
     "data": {
      "text/html": [
       "<div>\n",
       "<style scoped>\n",
       "    .dataframe tbody tr th:only-of-type {\n",
       "        vertical-align: middle;\n",
       "    }\n",
       "\n",
       "    .dataframe tbody tr th {\n",
       "        vertical-align: top;\n",
       "    }\n",
       "\n",
       "    .dataframe thead th {\n",
       "        text-align: right;\n",
       "    }\n",
       "</style>\n",
       "<table border=\"1\" class=\"dataframe\">\n",
       "  <thead>\n",
       "    <tr style=\"text-align: right;\">\n",
       "      <th></th>\n",
       "      <th>abv</th>\n",
       "      <th>available</th>\n",
       "      <th>description</th>\n",
       "      <th>glass</th>\n",
       "      <th>ibu</th>\n",
       "      <th>isOrganic</th>\n",
       "      <th>name</th>\n",
       "      <th>originalGravity</th>\n",
       "      <th>srm</th>\n",
       "    </tr>\n",
       "    <tr>\n",
       "      <th>id</th>\n",
       "      <th></th>\n",
       "      <th></th>\n",
       "      <th></th>\n",
       "      <th></th>\n",
       "      <th></th>\n",
       "      <th></th>\n",
       "      <th></th>\n",
       "      <th></th>\n",
       "      <th></th>\n",
       "    </tr>\n",
       "  </thead>\n",
       "  <tbody>\n",
       "    <tr>\n",
       "      <th>6000</th>\n",
       "      <td>10.0</td>\n",
       "      <td>Limited availability.</td>\n",
       "      <td>A classic Belgian Trappist style strong ale wi...</td>\n",
       "      <td>Tulip</td>\n",
       "      <td>NaN</td>\n",
       "      <td>N</td>\n",
       "      <td>She WILL!</td>\n",
       "      <td>1.084</td>\n",
       "      <td>17</td>\n",
       "    </tr>\n",
       "    <tr>\n",
       "      <th>6001</th>\n",
       "      <td>5.2</td>\n",
       "      <td>Available year round as a staple beer.</td>\n",
       "      <td>An American-style of Pale Ale brewed with a ba...</td>\n",
       "      <td>Pint</td>\n",
       "      <td>NaN</td>\n",
       "      <td>N</td>\n",
       "      <td>Defender American Pale Ale</td>\n",
       "      <td>1.044</td>\n",
       "      <td>22</td>\n",
       "    </tr>\n",
       "    <tr>\n",
       "      <th>6002</th>\n",
       "      <td>4.0</td>\n",
       "      <td>Available during the winter months.</td>\n",
       "      <td>This amber wheat ale has a balanced malt body,...</td>\n",
       "      <td>Tulip</td>\n",
       "      <td>NaN</td>\n",
       "      <td>Y</td>\n",
       "      <td>Hazel</td>\n",
       "      <td>1.036</td>\n",
       "      <td>19</td>\n",
       "    </tr>\n",
       "    <tr>\n",
       "      <th>6003</th>\n",
       "      <td>10.2</td>\n",
       "      <td>Available year round as a staple beer.</td>\n",
       "      <td>A uniquely large beer developed by taking our ...</td>\n",
       "      <td>Pint</td>\n",
       "      <td>NaN</td>\n",
       "      <td>N</td>\n",
       "      <td>Cinderella’s Twin Double IPA</td>\n",
       "      <td>1.087</td>\n",
       "      <td>11</td>\n",
       "    </tr>\n",
       "    <tr>\n",
       "      <th>6004</th>\n",
       "      <td>6.0</td>\n",
       "      <td>Limited availability.</td>\n",
       "      <td>An American red ale with crisp hop flavor.</td>\n",
       "      <td>NaN</td>\n",
       "      <td>NaN</td>\n",
       "      <td>N</td>\n",
       "      <td>Independence Ale</td>\n",
       "      <td>1.048</td>\n",
       "      <td>14</td>\n",
       "    </tr>\n",
       "  </tbody>\n",
       "</table>\n",
       "</div>"
      ],
      "text/plain": [
       "       abv                               available  \\\n",
       "id                                                   \n",
       "6000  10.0                   Limited availability.   \n",
       "6001   5.2  Available year round as a staple beer.   \n",
       "6002   4.0     Available during the winter months.   \n",
       "6003  10.2  Available year round as a staple beer.   \n",
       "6004   6.0                   Limited availability.   \n",
       "\n",
       "                                            description  glass  ibu isOrganic  \\\n",
       "id                                                                              \n",
       "6000  A classic Belgian Trappist style strong ale wi...  Tulip  NaN         N   \n",
       "6001  An American-style of Pale Ale brewed with a ba...   Pint  NaN         N   \n",
       "6002  This amber wheat ale has a balanced malt body,...  Tulip  NaN         Y   \n",
       "6003  A uniquely large beer developed by taking our ...   Pint  NaN         N   \n",
       "6004         An American red ale with crisp hop flavor.    NaN  NaN         N   \n",
       "\n",
       "                              name  originalGravity srm  \n",
       "id                                                       \n",
       "6000                     She WILL!            1.084  17  \n",
       "6001    Defender American Pale Ale            1.044  22  \n",
       "6002                         Hazel            1.036  19  \n",
       "6003  Cinderella’s Twin Double IPA            1.087  11  \n",
       "6004              Independence Ale            1.048  14  "
      ]
     },
     "execution_count": 24,
     "metadata": {},
     "output_type": "execute_result"
    }
   ],
   "source": [
    "# Later, we will ask you to read-in the beer_test.csv file into a dataframe. \n",
    "# uncomment the following code, and proceed to apply the same transformations to df_test as we did for df_train\n",
    "\n",
    "df_test = pd.read_csv(\"dataset/beer_test.csv\", index_col=\"id\")\n",
    "df_test.head(5)"
   ]
  },
  {
   "cell_type": "code",
   "execution_count": 25,
   "metadata": {},
   "outputs": [
    {
     "data": {
      "text/plain": [
       "(6000, 9)"
      ]
     },
     "execution_count": 25,
     "metadata": {},
     "output_type": "execute_result"
    }
   ],
   "source": [
    "df_train.shape"
   ]
  },
  {
   "cell_type": "code",
   "execution_count": 26,
   "metadata": {},
   "outputs": [
    {
     "data": {
      "text/html": [
       "<div>\n",
       "<style scoped>\n",
       "    .dataframe tbody tr th:only-of-type {\n",
       "        vertical-align: middle;\n",
       "    }\n",
       "\n",
       "    .dataframe tbody tr th {\n",
       "        vertical-align: top;\n",
       "    }\n",
       "\n",
       "    .dataframe thead th {\n",
       "        text-align: right;\n",
       "    }\n",
       "</style>\n",
       "<table border=\"1\" class=\"dataframe\">\n",
       "  <thead>\n",
       "    <tr style=\"text-align: right;\">\n",
       "      <th></th>\n",
       "      <th>abv</th>\n",
       "      <th>ibu</th>\n",
       "      <th>originalGravity</th>\n",
       "    </tr>\n",
       "  </thead>\n",
       "  <tbody>\n",
       "    <tr>\n",
       "      <th>count</th>\n",
       "      <td>6000.000000</td>\n",
       "      <td>6000.000000</td>\n",
       "      <td>6000.000000</td>\n",
       "    </tr>\n",
       "    <tr>\n",
       "      <th>mean</th>\n",
       "      <td>6.502388</td>\n",
       "      <td>41.196878</td>\n",
       "      <td>1.053993</td>\n",
       "    </tr>\n",
       "    <tr>\n",
       "      <th>std</th>\n",
       "      <td>1.833054</td>\n",
       "      <td>28.846228</td>\n",
       "      <td>0.021747</td>\n",
       "    </tr>\n",
       "    <tr>\n",
       "      <th>min</th>\n",
       "      <td>0.200000</td>\n",
       "      <td>1.000000</td>\n",
       "      <td>1.000000</td>\n",
       "    </tr>\n",
       "    <tr>\n",
       "      <th>25%</th>\n",
       "      <td>5.200000</td>\n",
       "      <td>22.000000</td>\n",
       "      <td>1.044000</td>\n",
       "    </tr>\n",
       "    <tr>\n",
       "      <th>50%</th>\n",
       "      <td>6.000000</td>\n",
       "      <td>33.000000</td>\n",
       "      <td>1.050000</td>\n",
       "    </tr>\n",
       "    <tr>\n",
       "      <th>75%</th>\n",
       "      <td>7.400000</td>\n",
       "      <td>55.000000</td>\n",
       "      <td>1.060000</td>\n",
       "    </tr>\n",
       "    <tr>\n",
       "      <th>max</th>\n",
       "      <td>19.700000</td>\n",
       "      <td>1000.000000</td>\n",
       "      <td>1.980000</td>\n",
       "    </tr>\n",
       "  </tbody>\n",
       "</table>\n",
       "</div>"
      ],
      "text/plain": [
       "               abv          ibu  originalGravity\n",
       "count  6000.000000  6000.000000      6000.000000\n",
       "mean      6.502388    41.196878         1.053993\n",
       "std       1.833054    28.846228         0.021747\n",
       "min       0.200000     1.000000         1.000000\n",
       "25%       5.200000    22.000000         1.044000\n",
       "50%       6.000000    33.000000         1.050000\n",
       "75%       7.400000    55.000000         1.060000\n",
       "max      19.700000  1000.000000         1.980000"
      ]
     },
     "execution_count": 26,
     "metadata": {},
     "output_type": "execute_result"
    }
   ],
   "source": [
    "#df_train.shape\n",
    "df_train.describe()"
   ]
  },
  {
   "cell_type": "code",
   "execution_count": 27,
   "metadata": {
    "scrolled": true
   },
   "outputs": [
    {
     "data": {
      "text/plain": [
       "abv                   0\n",
       "available             0\n",
       "description         479\n",
       "glass              2342\n",
       "ibu                   0\n",
       "isOrganic             0\n",
       "name                  0\n",
       "originalGravity       0\n",
       "srm                   0\n",
       "dtype: int64"
      ]
     },
     "execution_count": 27,
     "metadata": {},
     "output_type": "execute_result"
    }
   ],
   "source": [
    "# print the nulls by column\n",
    "df_train.isna().sum()"
   ]
  },
  {
   "cell_type": "code",
   "execution_count": 28,
   "metadata": {},
   "outputs": [
    {
     "data": {
      "text/plain": [
       "abv                   0\n",
       "available             0\n",
       "description         397\n",
       "glass              1919\n",
       "ibu                4753\n",
       "isOrganic             0\n",
       "name                  0\n",
       "originalGravity       0\n",
       "srm                   0\n",
       "dtype: int64"
      ]
     },
     "execution_count": 28,
     "metadata": {},
     "output_type": "execute_result"
    }
   ],
   "source": [
    "df_test.isna().sum()"
   ]
  },
  {
   "cell_type": "code",
   "execution_count": 29,
   "metadata": {},
   "outputs": [],
   "source": [
    "# drop the column 'glass' since it has too many NULLs\n",
    "# *** TODO ***\n",
    "df_train.drop('glass', axis = 1, inplace = True)\n",
    "df_test.drop('glass', axis = 1, inplace = True)"
   ]
  },
  {
   "cell_type": "code",
   "execution_count": 30,
   "metadata": {},
   "outputs": [],
   "source": [
    "# isOrganic is a binary value, lets convert it to 0/1\n",
    "# *** TODO ***\n",
    "df_train['isOrganic'] = df_train['isOrganic'].map({'N':0, 'Y':1})\n",
    "df_test['isOrganic'] = df_test['isOrganic'].map({'N':0, 'Y':1})"
   ]
  },
  {
   "cell_type": "code",
   "execution_count": 31,
   "metadata": {},
   "outputs": [
    {
     "data": {
      "text/plain": [
       "Available year round as a staple beer.             2812\n",
       "Limited availability.                              1204\n",
       "Available at the same time of year, every year.    1192\n",
       "Beer is not available.                              255\n",
       "Available during the summer months.                 159\n",
       "Available during the winter months.                 142\n",
       "Available during the fall months.                   141\n",
       "Available during the spring months.                  95\n",
       "Name: available, dtype: int64"
      ]
     },
     "execution_count": 31,
     "metadata": {},
     "output_type": "execute_result"
    }
   ],
   "source": [
    "# Lets examine the column 'available'. Note that it is a categorical variable\n",
    "df_train[\"available\"].value_counts()"
   ]
  },
  {
   "cell_type": "code",
   "execution_count": 32,
   "metadata": {},
   "outputs": [
    {
     "data": {
      "text/plain": [
       "Available year round as a staple beer.             2231\n",
       "Available at the same time of year, every year.     959\n",
       "Limited availability.                               945\n",
       "Beer is not available.                              246\n",
       "Available during the winter months.                 106\n",
       "Available during the summer months.                 101\n",
       "Available during the fall months.                    92\n",
       "Available during the spring months.                  73\n",
       "Name: available, dtype: int64"
      ]
     },
     "execution_count": 32,
     "metadata": {},
     "output_type": "execute_result"
    }
   ],
   "source": [
    "df_test[\"available\"].value_counts()"
   ]
  },
  {
   "cell_type": "code",
   "execution_count": 33,
   "metadata": {},
   "outputs": [
    {
     "data": {
      "text/plain": [
       "count    6000.000000\n",
       "mean       41.196878\n",
       "std        28.846228\n",
       "min         1.000000\n",
       "25%        22.000000\n",
       "50%        33.000000\n",
       "75%        55.000000\n",
       "max      1000.000000\n",
       "Name: ibu, dtype: float64"
      ]
     },
     "execution_count": 33,
     "metadata": {},
     "output_type": "execute_result"
    }
   ],
   "source": [
    "df_train['ibu'].describe()"
   ]
  },
  {
   "cell_type": "code",
   "execution_count": 34,
   "metadata": {},
   "outputs": [],
   "source": [
    "#indexes = df_train[df_train['ibu'] > 120].index\n",
    "\n",
    "#df_train.drop(indexes , inplace = True)"
   ]
  },
  {
   "cell_type": "code",
   "execution_count": 35,
   "metadata": {},
   "outputs": [
    {
     "data": {
      "text/plain": [
       "abv                float64\n",
       "available           object\n",
       "description         object\n",
       "ibu                float64\n",
       "isOrganic            int64\n",
       "name                object\n",
       "originalGravity    float64\n",
       "srm                 object\n",
       "dtype: object"
      ]
     },
     "execution_count": 35,
     "metadata": {},
     "output_type": "execute_result"
    }
   ],
   "source": [
    "df_train.dtypes"
   ]
  },
  {
   "cell_type": "code",
   "execution_count": 36,
   "metadata": {},
   "outputs": [
    {
     "data": {
      "text/plain": [
       "count    6000.000000\n",
       "mean       41.196878\n",
       "std        28.846228\n",
       "min         1.000000\n",
       "25%        22.000000\n",
       "50%        33.000000\n",
       "75%        55.000000\n",
       "max      1000.000000\n",
       "Name: ibu, dtype: float64"
      ]
     },
     "execution_count": 36,
     "metadata": {},
     "output_type": "execute_result"
    }
   ],
   "source": [
    "df_train['ibu'].describe()"
   ]
  },
  {
   "cell_type": "code",
   "execution_count": 37,
   "metadata": {},
   "outputs": [],
   "source": [
    "# Convert column 'available' using oneHotEncoding/get_dummies\n",
    "\n",
    "df_train = pd.concat([df_train, pd.get_dummies(df_train['available'], prefix='available', dummy_na=True)], \n",
    "                     axis=1).drop(['available'], axis=1)\n",
    "\n",
    "df_test = pd.concat([df_test, pd.get_dummies(df_test['available'], prefix='available', dummy_na=True)], \n",
    "                     axis=1).drop(['available'], axis=1)\n",
    "\n",
    "\n",
    "# It probably makes sense to rename those columns to something shorter. \n",
    "# Look up how to rename columns (inplace) in a dataframe\n",
    "\n",
    "df_train.columns = ['abv', 'description', 'ibu', 'isOrganic', 'name', 'originalGravity', 'srm', 'av_same_time',\n",
    "                   'av_fall', 'av_spring', 'av_summer', 'av_winter', 'av_staple', 'av_not', 'av_limited', 'av_nan']\n",
    "df_test.columns = ['abv', 'description', 'ibu', 'isOrganic', 'name', 'originalGravity', 'srm', 'av_same_time',\n",
    "                   'av_fall', 'av_spring', 'av_summer', 'av_winter', 'av_staple', 'av_not', 'av_limited', 'av_nan']"
   ]
  },
  {
   "cell_type": "code",
   "execution_count": 38,
   "metadata": {},
   "outputs": [],
   "source": [
    "# You might have noticed that SRM appears to be numeric, but its not listed as a numeric column. \n",
    "# There is probably some rows that are strings that need to be fixed. \n",
    "# Correct rows in column 'SRM' so that string values 'Over 40' are replaced with 40\n",
    "df_train['srm'] = pd.to_numeric(df_train['srm'].replace('Over 40', 40))\n",
    "df_test['srm'] = pd.to_numeric(df_test['srm'].replace('Over 40', 40))"
   ]
  },
  {
   "cell_type": "code",
   "execution_count": 39,
   "metadata": {},
   "outputs": [
    {
     "data": {
      "text/plain": [
       "abv                float64\n",
       "description         object\n",
       "ibu                float64\n",
       "isOrganic            int64\n",
       "name                object\n",
       "originalGravity    float64\n",
       "srm                  int64\n",
       "av_same_time         uint8\n",
       "av_fall              uint8\n",
       "av_spring            uint8\n",
       "av_summer            uint8\n",
       "av_winter            uint8\n",
       "av_staple            uint8\n",
       "av_not               uint8\n",
       "av_limited           uint8\n",
       "av_nan               uint8\n",
       "dtype: object"
      ]
     },
     "execution_count": 39,
     "metadata": {},
     "output_type": "execute_result"
    }
   ],
   "source": [
    "df_train.dtypes"
   ]
  },
  {
   "cell_type": "markdown",
   "metadata": {},
   "source": [
    "# Setting up model"
   ]
  },
  {
   "cell_type": "code",
   "execution_count": 40,
   "metadata": {
    "scrolled": true
   },
   "outputs": [
    {
     "data": {
      "text/html": [
       "<div>\n",
       "<style scoped>\n",
       "    .dataframe tbody tr th:only-of-type {\n",
       "        vertical-align: middle;\n",
       "    }\n",
       "\n",
       "    .dataframe tbody tr th {\n",
       "        vertical-align: top;\n",
       "    }\n",
       "\n",
       "    .dataframe thead th {\n",
       "        text-align: right;\n",
       "    }\n",
       "</style>\n",
       "<table border=\"1\" class=\"dataframe\">\n",
       "  <thead>\n",
       "    <tr style=\"text-align: right;\">\n",
       "      <th></th>\n",
       "      <th>abv</th>\n",
       "      <th>isOrganic</th>\n",
       "      <th>originalGravity</th>\n",
       "      <th>srm</th>\n",
       "      <th>av_same_time</th>\n",
       "      <th>av_fall</th>\n",
       "      <th>av_spring</th>\n",
       "      <th>av_summer</th>\n",
       "      <th>av_winter</th>\n",
       "      <th>av_staple</th>\n",
       "      <th>av_not</th>\n",
       "      <th>av_limited</th>\n",
       "      <th>av_nan</th>\n",
       "    </tr>\n",
       "    <tr>\n",
       "      <th>id</th>\n",
       "      <th></th>\n",
       "      <th></th>\n",
       "      <th></th>\n",
       "      <th></th>\n",
       "      <th></th>\n",
       "      <th></th>\n",
       "      <th></th>\n",
       "      <th></th>\n",
       "      <th></th>\n",
       "      <th></th>\n",
       "      <th></th>\n",
       "      <th></th>\n",
       "      <th></th>\n",
       "    </tr>\n",
       "  </thead>\n",
       "  <tbody>\n",
       "    <tr>\n",
       "      <th>0</th>\n",
       "      <td>8.2</td>\n",
       "      <td>0</td>\n",
       "      <td>1.070</td>\n",
       "      <td>8</td>\n",
       "      <td>1</td>\n",
       "      <td>0</td>\n",
       "      <td>0</td>\n",
       "      <td>0</td>\n",
       "      <td>0</td>\n",
       "      <td>0</td>\n",
       "      <td>0</td>\n",
       "      <td>0</td>\n",
       "      <td>0</td>\n",
       "    </tr>\n",
       "    <tr>\n",
       "      <th>1</th>\n",
       "      <td>5.7</td>\n",
       "      <td>0</td>\n",
       "      <td>1.056</td>\n",
       "      <td>35</td>\n",
       "      <td>1</td>\n",
       "      <td>0</td>\n",
       "      <td>0</td>\n",
       "      <td>0</td>\n",
       "      <td>0</td>\n",
       "      <td>0</td>\n",
       "      <td>0</td>\n",
       "      <td>0</td>\n",
       "      <td>0</td>\n",
       "    </tr>\n",
       "  </tbody>\n",
       "</table>\n",
       "</div>"
      ],
      "text/plain": [
       "    abv  isOrganic  originalGravity  srm  av_same_time  av_fall  av_spring  \\\n",
       "id                                                                           \n",
       "0   8.2          0            1.070    8             1        0          0   \n",
       "1   5.7          0            1.056   35             1        0          0   \n",
       "\n",
       "    av_summer  av_winter  av_staple  av_not  av_limited  av_nan  \n",
       "id                                                               \n",
       "0           0          0          0       0           0       0  \n",
       "1           0          0          0       0           0       0  "
      ]
     },
     "execution_count": 40,
     "metadata": {},
     "output_type": "execute_result"
    }
   ],
   "source": [
    "X_train = df_train.copy(deep=True) # copy the dataframe \n",
    "X_train.drop(['description', 'name', 'ibu'], axis = 1, inplace = True) # use only 1 feature for trainings to start off \n",
    "X_train.head(2)"
   ]
  },
  {
   "cell_type": "code",
   "execution_count": 41,
   "metadata": {},
   "outputs": [
    {
     "data": {
      "text/html": [
       "<div>\n",
       "<style scoped>\n",
       "    .dataframe tbody tr th:only-of-type {\n",
       "        vertical-align: middle;\n",
       "    }\n",
       "\n",
       "    .dataframe tbody tr th {\n",
       "        vertical-align: top;\n",
       "    }\n",
       "\n",
       "    .dataframe thead th {\n",
       "        text-align: right;\n",
       "    }\n",
       "</style>\n",
       "<table border=\"1\" class=\"dataframe\">\n",
       "  <thead>\n",
       "    <tr style=\"text-align: right;\">\n",
       "      <th></th>\n",
       "      <th>abv</th>\n",
       "      <th>isOrganic</th>\n",
       "      <th>originalGravity</th>\n",
       "      <th>srm</th>\n",
       "      <th>av_same_time</th>\n",
       "      <th>av_fall</th>\n",
       "      <th>av_spring</th>\n",
       "      <th>av_summer</th>\n",
       "      <th>av_winter</th>\n",
       "      <th>av_staple</th>\n",
       "      <th>av_not</th>\n",
       "      <th>av_limited</th>\n",
       "      <th>av_nan</th>\n",
       "    </tr>\n",
       "    <tr>\n",
       "      <th>id</th>\n",
       "      <th></th>\n",
       "      <th></th>\n",
       "      <th></th>\n",
       "      <th></th>\n",
       "      <th></th>\n",
       "      <th></th>\n",
       "      <th></th>\n",
       "      <th></th>\n",
       "      <th></th>\n",
       "      <th></th>\n",
       "      <th></th>\n",
       "      <th></th>\n",
       "      <th></th>\n",
       "    </tr>\n",
       "  </thead>\n",
       "  <tbody>\n",
       "    <tr>\n",
       "      <th>6000</th>\n",
       "      <td>10.0</td>\n",
       "      <td>0</td>\n",
       "      <td>1.084</td>\n",
       "      <td>17</td>\n",
       "      <td>0</td>\n",
       "      <td>0</td>\n",
       "      <td>0</td>\n",
       "      <td>0</td>\n",
       "      <td>0</td>\n",
       "      <td>0</td>\n",
       "      <td>0</td>\n",
       "      <td>1</td>\n",
       "      <td>0</td>\n",
       "    </tr>\n",
       "    <tr>\n",
       "      <th>6001</th>\n",
       "      <td>5.2</td>\n",
       "      <td>0</td>\n",
       "      <td>1.044</td>\n",
       "      <td>22</td>\n",
       "      <td>0</td>\n",
       "      <td>0</td>\n",
       "      <td>0</td>\n",
       "      <td>0</td>\n",
       "      <td>0</td>\n",
       "      <td>1</td>\n",
       "      <td>0</td>\n",
       "      <td>0</td>\n",
       "      <td>0</td>\n",
       "    </tr>\n",
       "  </tbody>\n",
       "</table>\n",
       "</div>"
      ],
      "text/plain": [
       "       abv  isOrganic  originalGravity  srm  av_same_time  av_fall  av_spring  \\\n",
       "id                                                                              \n",
       "6000  10.0          0            1.084   17             0        0          0   \n",
       "6001   5.2          0            1.044   22             0        0          0   \n",
       "\n",
       "      av_summer  av_winter  av_staple  av_not  av_limited  av_nan  \n",
       "id                                                                 \n",
       "6000          0          0          0       0           1       0  \n",
       "6001          0          0          1       0           0       0  "
      ]
     },
     "execution_count": 41,
     "metadata": {},
     "output_type": "execute_result"
    }
   ],
   "source": [
    "X_test = df_test.copy(deep=True) # copy the dataframe \n",
    "X_test.drop(['description', 'name', 'ibu'], axis = 1, inplace = True) # use only 1 feature for trainings to start off \n",
    "X_test.head(2)"
   ]
  },
  {
   "cell_type": "code",
   "execution_count": 42,
   "metadata": {},
   "outputs": [],
   "source": [
    "from sklearn.linear_model import LinearRegression\n",
    "\n",
    "y_train = df_train[\"ibu\"]\n",
    "\n",
    "model = LinearRegression()\n",
    "model.fit(X=X_train, y=y_train)\n",
    "Y_predict = model.predict(X_test) # TODO , change X=X_train to X_test once you create X_test per the instructions below"
   ]
  },
  {
   "cell_type": "code",
   "execution_count": 43,
   "metadata": {
    "scrolled": true
   },
   "outputs": [
    {
     "data": {
      "text/plain": [
       "array([ 7.24200055e+00, -7.43751084e-02,  1.29501477e+02, -1.71948874e-01,\n",
       "        6.61557890e-01, -7.53252589e+00,  8.25975631e-01, -1.92186109e+00,\n",
       "       -2.49812507e+00,  5.70090609e+00,  2.08202353e+00,  2.68204891e+00,\n",
       "        0.00000000e+00])"
      ]
     },
     "execution_count": 43,
     "metadata": {},
     "output_type": "execute_result"
    }
   ],
   "source": [
    "# Examine the model coefficients, what can you conclude ??\n",
    "model.coef_\n",
    "\n",
    "# ** TODO ** Observations / comments"
   ]
  },
  {
   "cell_type": "code",
   "execution_count": 44,
   "metadata": {},
   "outputs": [],
   "source": [
    "output = pd.DataFrame(data = {\"id\":df_test.index, \"ibu\":Y_predict}) # first need to create df_test \n",
    "\n",
    "output.to_csv(path_or_buf = \"results.csv\", index = False, quoting=3, sep=',')"
   ]
  },
  {
   "cell_type": "markdown",
   "metadata": {},
   "source": [
    "Next, we want to evaluate this model on the test dataset and submit our predictions to Kaggle. \n",
    "\n",
    "1) Evaluate the code from the first cell and add a new dataframe called df_test to read in the beer_test.csv file. \n",
    "\n",
    "2) For each step / transformation that was applied to the training dataset, apply it to the test dataset\n",
    "\n",
    "3) Go to Kaggle, create an account\n",
    "\n",
    "4) Submit the results.csv file for this compeition to Kaggle\n",
    "\n",
    "5) What score did you get?? <br> Score: 25.9\n",
    "\n",
    "6) Now, experiment with a differnt set of features. What is the best score recieved? What subset of features / columns did you use?"
   ]
  },
  {
   "cell_type": "markdown",
   "metadata": {},
   "source": [
    "# Build model using validation dataset\n",
    "\n",
    "Now, lets use cross-validation to train our model. "
   ]
  },
  {
   "cell_type": "code",
   "execution_count": 47,
   "metadata": {},
   "outputs": [
    {
     "data": {
      "text/plain": [
       "array([0.2637006 , 0.28076459, 0.09181001, 0.2904624 , 0.1695955 ])"
      ]
     },
     "execution_count": 47,
     "metadata": {},
     "output_type": "execute_result"
    }
   ],
   "source": [
    "from sklearn.model_selection import cross_val_score\n",
    "from sklearn.metrics import mean_squared_error\n",
    "from sklearn.preprocessing import StandardScaler\n",
    "from sklearn.linear_model import SGDRegressor\n",
    "from sklearn.pipeline import make_pipeline\n",
    "\n",
    "# pipeline and fit to training set\n",
    "pipeline = make_pipeline(\n",
    "    StandardScaler(),\n",
    "    SGDRegressor()\n",
    ")\n",
    "pipeline.fit(X=X_train, y=y_train)\n",
    "    \n",
    "scores = cross_val_score(pipeline, \n",
    "                         X=X_train,\n",
    "                         y=y_train,\n",
    "                         cv=5)  # cv refers to number of cross-validation cuts\n",
    "scores"
   ]
  },
  {
   "cell_type": "code",
   "execution_count": 48,
   "metadata": {},
   "outputs": [],
   "source": [
    "Y_predict = pipeline.predict(X = X_test)\n",
    "output = pd.DataFrame(data = {\"id\":df_test.index, \"ibu\":Y_predict}) \n",
    "\n",
    "output.to_csv(path_or_buf = \"results.csv\", index = False, quoting = 3, sep = ',')"
   ]
  },
  {
   "cell_type": "markdown",
   "metadata": {},
   "source": [
    "Resubmit your results.csv file to Kaggle. Did cross-validation improve accuracy this time around??<br>\n",
    "Nope, I did 10 cross validation and my resubmission score is 26.12. <br>\n",
    "Nope, I tried 5 cross validation and my resubmission score is 26.017."
   ]
  },
  {
   "cell_type": "markdown",
   "metadata": {},
   "source": [
    "# Text Features\n",
    "Now, lets examine how we can use text columns as features. We will transform the column 'description' by \n",
    "\n",
    "1) finding the relevant features (keywords) in the description and assigning them weights based on 'importance'\n",
    "\n",
    "2) Creating a dataframe for each feature (or keyword) with the given weight\n",
    "\n",
    "3) Combine the new description features with the original df_train dataframe"
   ]
  },
  {
   "cell_type": "code",
   "execution_count": 49,
   "metadata": {},
   "outputs": [],
   "source": [
    "df_train['description'].fillna('', inplace=True) # fill Nulls with empty space\n",
    "df_test['description'].fillna('', inplace=True)"
   ]
  },
  {
   "cell_type": "code",
   "execution_count": 50,
   "metadata": {},
   "outputs": [],
   "source": [
    "#df_train.isna().sum() # list number of Nulls"
   ]
  },
  {
   "cell_type": "code",
   "execution_count": 51,
   "metadata": {},
   "outputs": [],
   "source": [
    "# Use TFIDF to find important features from the 'description' column\n",
    "from sklearn.feature_extraction.text import TfidfVectorizer \n",
    " \n",
    "# settings that you use for count vectorizer will go here\n",
    "tfidf_vectorizer_train = TfidfVectorizer(lowercase=True,use_idf=True, \n",
    "                                         max_features=100, stop_words='english')\n",
    "\n",
    "tfidf_vectorizer_test = TfidfVectorizer(lowercase=True,use_idf=True, \n",
    "                                         max_features=100, stop_words='english')\n",
    "\n",
    "\n",
    "# just send in all your docs here\n",
    "tfidf_vectorizer_vectors_train = tfidf_vectorizer_train.fit_transform(df_train[\"description\"])\n",
    "tfidf_vectorizer_vectors_test = tfidf_vectorizer_test.fit_transform(df_test[\"description\"])\n",
    "\n",
    "\n",
    "df_train_tfidf = pd.DataFrame(tfidf_vectorizer_vectors_train.todense(), \n",
    "                              columns=tfidf_vectorizer_train.get_feature_names())\n",
    "\n",
    "df_test_tfidf = pd.DataFrame(tfidf_vectorizer_vectors_test.todense(), \n",
    "                              columns=tfidf_vectorizer_test.get_feature_names())"
   ]
  },
  {
   "cell_type": "code",
   "execution_count": 52,
   "metadata": {},
   "outputs": [],
   "source": [
    "df_train = pd.concat([df_train, df_train_tfidf], axis=1)"
   ]
  },
  {
   "cell_type": "code",
   "execution_count": 53,
   "metadata": {},
   "outputs": [],
   "source": [
    "df_test_tfidf.index = range(6000,len(df_test_tfidf) + 6000)"
   ]
  },
  {
   "cell_type": "code",
   "execution_count": 54,
   "metadata": {},
   "outputs": [],
   "source": [
    "df_test = pd.concat([df_test, df_test_tfidf], axis=1)"
   ]
  },
  {
   "cell_type": "code",
   "execution_count": 55,
   "metadata": {},
   "outputs": [
    {
     "data": {
      "text/html": [
       "<div>\n",
       "<style scoped>\n",
       "    .dataframe tbody tr th:only-of-type {\n",
       "        vertical-align: middle;\n",
       "    }\n",
       "\n",
       "    .dataframe tbody tr th {\n",
       "        vertical-align: top;\n",
       "    }\n",
       "\n",
       "    .dataframe thead th {\n",
       "        text-align: right;\n",
       "    }\n",
       "</style>\n",
       "<table border=\"1\" class=\"dataframe\">\n",
       "  <thead>\n",
       "    <tr style=\"text-align: right;\">\n",
       "      <th></th>\n",
       "      <th>abv</th>\n",
       "      <th>isOrganic</th>\n",
       "      <th>originalGravity</th>\n",
       "      <th>srm</th>\n",
       "      <th>av_same_time</th>\n",
       "      <th>av_fall</th>\n",
       "      <th>av_spring</th>\n",
       "      <th>av_summer</th>\n",
       "      <th>av_winter</th>\n",
       "      <th>av_staple</th>\n",
       "      <th>...</th>\n",
       "      <th>sweetness</th>\n",
       "      <th>taste</th>\n",
       "      <th>time</th>\n",
       "      <th>traditional</th>\n",
       "      <th>unique</th>\n",
       "      <th>used</th>\n",
       "      <th>wheat</th>\n",
       "      <th>winter</th>\n",
       "      <th>year</th>\n",
       "      <th>yeast</th>\n",
       "    </tr>\n",
       "  </thead>\n",
       "  <tbody>\n",
       "    <tr>\n",
       "      <th>0</th>\n",
       "      <td>8.2</td>\n",
       "      <td>0</td>\n",
       "      <td>1.070</td>\n",
       "      <td>8</td>\n",
       "      <td>1</td>\n",
       "      <td>0</td>\n",
       "      <td>0</td>\n",
       "      <td>0</td>\n",
       "      <td>0</td>\n",
       "      <td>0</td>\n",
       "      <td>...</td>\n",
       "      <td>0.0</td>\n",
       "      <td>0.0</td>\n",
       "      <td>0.0</td>\n",
       "      <td>0.0</td>\n",
       "      <td>0.0</td>\n",
       "      <td>0.0</td>\n",
       "      <td>0.0</td>\n",
       "      <td>0.0</td>\n",
       "      <td>0.0</td>\n",
       "      <td>0.308244</td>\n",
       "    </tr>\n",
       "    <tr>\n",
       "      <th>1</th>\n",
       "      <td>5.7</td>\n",
       "      <td>0</td>\n",
       "      <td>1.056</td>\n",
       "      <td>35</td>\n",
       "      <td>1</td>\n",
       "      <td>0</td>\n",
       "      <td>0</td>\n",
       "      <td>0</td>\n",
       "      <td>0</td>\n",
       "      <td>0</td>\n",
       "      <td>...</td>\n",
       "      <td>0.0</td>\n",
       "      <td>0.0</td>\n",
       "      <td>0.0</td>\n",
       "      <td>0.0</td>\n",
       "      <td>0.0</td>\n",
       "      <td>0.0</td>\n",
       "      <td>0.0</td>\n",
       "      <td>0.0</td>\n",
       "      <td>0.0</td>\n",
       "      <td>0.000000</td>\n",
       "    </tr>\n",
       "  </tbody>\n",
       "</table>\n",
       "<p>2 rows × 113 columns</p>\n",
       "</div>"
      ],
      "text/plain": [
       "   abv  isOrganic  originalGravity  srm  av_same_time  av_fall  av_spring  \\\n",
       "0  8.2          0            1.070    8             1        0          0   \n",
       "1  5.7          0            1.056   35             1        0          0   \n",
       "\n",
       "   av_summer  av_winter  av_staple  ...  sweetness  taste  time  traditional  \\\n",
       "0          0          0          0  ...        0.0    0.0   0.0          0.0   \n",
       "1          0          0          0  ...        0.0    0.0   0.0          0.0   \n",
       "\n",
       "   unique  used  wheat  winter  year     yeast  \n",
       "0     0.0   0.0    0.0     0.0   0.0  0.308244  \n",
       "1     0.0   0.0    0.0     0.0   0.0  0.000000  \n",
       "\n",
       "[2 rows x 113 columns]"
      ]
     },
     "execution_count": 55,
     "metadata": {},
     "output_type": "execute_result"
    }
   ],
   "source": [
    "X_train = df_train.copy(deep = True) # copy the dataframe \n",
    "X_train.drop(['description', 'name', 'ibu'], axis = 1, inplace = True)\n",
    "X_train.head(2)"
   ]
  },
  {
   "cell_type": "code",
   "execution_count": 56,
   "metadata": {},
   "outputs": [],
   "source": [
    "y_train = df_train[\"ibu\"]"
   ]
  },
  {
   "cell_type": "code",
   "execution_count": 57,
   "metadata": {},
   "outputs": [
    {
     "data": {
      "text/html": [
       "<div>\n",
       "<style scoped>\n",
       "    .dataframe tbody tr th:only-of-type {\n",
       "        vertical-align: middle;\n",
       "    }\n",
       "\n",
       "    .dataframe tbody tr th {\n",
       "        vertical-align: top;\n",
       "    }\n",
       "\n",
       "    .dataframe thead th {\n",
       "        text-align: right;\n",
       "    }\n",
       "</style>\n",
       "<table border=\"1\" class=\"dataframe\">\n",
       "  <thead>\n",
       "    <tr style=\"text-align: right;\">\n",
       "      <th></th>\n",
       "      <th>abv</th>\n",
       "      <th>isOrganic</th>\n",
       "      <th>originalGravity</th>\n",
       "      <th>srm</th>\n",
       "      <th>av_same_time</th>\n",
       "      <th>av_fall</th>\n",
       "      <th>av_spring</th>\n",
       "      <th>av_summer</th>\n",
       "      <th>av_winter</th>\n",
       "      <th>av_staple</th>\n",
       "      <th>...</th>\n",
       "      <th>time</th>\n",
       "      <th>traditional</th>\n",
       "      <th>unique</th>\n",
       "      <th>used</th>\n",
       "      <th>wheat</th>\n",
       "      <th>white</th>\n",
       "      <th>winter</th>\n",
       "      <th>world</th>\n",
       "      <th>year</th>\n",
       "      <th>yeast</th>\n",
       "    </tr>\n",
       "  </thead>\n",
       "  <tbody>\n",
       "    <tr>\n",
       "      <th>6000</th>\n",
       "      <td>10.0</td>\n",
       "      <td>0</td>\n",
       "      <td>1.084</td>\n",
       "      <td>17</td>\n",
       "      <td>0</td>\n",
       "      <td>0</td>\n",
       "      <td>0</td>\n",
       "      <td>0</td>\n",
       "      <td>0</td>\n",
       "      <td>0</td>\n",
       "      <td>...</td>\n",
       "      <td>0.0</td>\n",
       "      <td>0.0</td>\n",
       "      <td>0.0</td>\n",
       "      <td>0.0</td>\n",
       "      <td>0.0</td>\n",
       "      <td>0.0</td>\n",
       "      <td>0.0</td>\n",
       "      <td>0.0</td>\n",
       "      <td>0.0</td>\n",
       "      <td>0.00000</td>\n",
       "    </tr>\n",
       "    <tr>\n",
       "      <th>6001</th>\n",
       "      <td>5.2</td>\n",
       "      <td>0</td>\n",
       "      <td>1.044</td>\n",
       "      <td>22</td>\n",
       "      <td>0</td>\n",
       "      <td>0</td>\n",
       "      <td>0</td>\n",
       "      <td>0</td>\n",
       "      <td>0</td>\n",
       "      <td>1</td>\n",
       "      <td>...</td>\n",
       "      <td>0.0</td>\n",
       "      <td>0.0</td>\n",
       "      <td>0.0</td>\n",
       "      <td>0.0</td>\n",
       "      <td>0.0</td>\n",
       "      <td>0.0</td>\n",
       "      <td>0.0</td>\n",
       "      <td>0.0</td>\n",
       "      <td>0.0</td>\n",
       "      <td>0.16772</td>\n",
       "    </tr>\n",
       "  </tbody>\n",
       "</table>\n",
       "<p>2 rows × 113 columns</p>\n",
       "</div>"
      ],
      "text/plain": [
       "       abv  isOrganic  originalGravity  srm  av_same_time  av_fall  av_spring  \\\n",
       "6000  10.0          0            1.084   17             0        0          0   \n",
       "6001   5.2          0            1.044   22             0        0          0   \n",
       "\n",
       "      av_summer  av_winter  av_staple  ...  time  traditional  unique  used  \\\n",
       "6000          0          0          0  ...   0.0          0.0     0.0   0.0   \n",
       "6001          0          0          1  ...   0.0          0.0     0.0   0.0   \n",
       "\n",
       "      wheat  white  winter  world  year    yeast  \n",
       "6000    0.0    0.0     0.0    0.0   0.0  0.00000  \n",
       "6001    0.0    0.0     0.0    0.0   0.0  0.16772  \n",
       "\n",
       "[2 rows x 113 columns]"
      ]
     },
     "execution_count": 57,
     "metadata": {},
     "output_type": "execute_result"
    }
   ],
   "source": [
    "X_test = df_test.copy(deep = True) # copy the dataframe \n",
    "X_test.drop(['description', 'name', 'ibu'], axis = 1, inplace = True)\n",
    "X_test.head(2)"
   ]
  },
  {
   "cell_type": "code",
   "execution_count": 58,
   "metadata": {},
   "outputs": [
    {
     "data": {
      "text/plain": [
       "array([0.52720865, 0.56546462, 0.36592962, 0.51347067, 0.27949936])"
      ]
     },
     "execution_count": 58,
     "metadata": {},
     "output_type": "execute_result"
    }
   ],
   "source": [
    "from sklearn.model_selection import cross_val_score\n",
    "from sklearn.metrics import mean_squared_error\n",
    "from sklearn.preprocessing import StandardScaler\n",
    "from sklearn.linear_model import SGDRegressor\n",
    "from sklearn.pipeline import make_pipeline\n",
    "\n",
    "# pipeline and fit to training set\n",
    "pipeline = make_pipeline(\n",
    "    StandardScaler(),\n",
    "    SGDRegressor()\n",
    ")\n",
    "pipeline.fit(X=X_train, y=y_train)\n",
    "    \n",
    "scores = cross_val_score(pipeline, \n",
    "                         X=X_train,\n",
    "                         y=y_train,\n",
    "                         cv=5)  # cv refers to number of cross-validation cuts\n",
    "scores"
   ]
  },
  {
   "cell_type": "code",
   "execution_count": 59,
   "metadata": {},
   "outputs": [],
   "source": [
    "Y_predict = pipeline.predict(X=X_test)\n",
    "output=pd.DataFrame(data={\"id\":df_test.index,\"ibu\":Y_predict}) \n",
    "\n",
    "output.to_csv(path_or_buf=\"results.csv\",index=False,quoting=3,sep=',')"
   ]
  },
  {
   "cell_type": "markdown",
   "metadata": {},
   "source": [
    "Rerun the model with the additional features. Did you receieve a better score??<br>\n",
    "Score: 24.97"
   ]
  },
  {
   "cell_type": "markdown",
   "metadata": {},
   "source": [
    "# Additional Models\n",
    "\n",
    "Try additional models or approaches to try to get a better score.  Submit your completed notebook and a snapshot of the best score you obtained on Kaggle to iLearn. "
   ]
  },
  {
   "cell_type": "code",
   "execution_count": 60,
   "metadata": {},
   "outputs": [
    {
     "data": {
      "text/plain": [
       "AdaBoostRegressor(base_estimator=DecisionTreeRegressor(ccp_alpha=0.0,\n",
       "                                                       criterion='mse',\n",
       "                                                       max_depth=4,\n",
       "                                                       max_features=None,\n",
       "                                                       max_leaf_nodes=None,\n",
       "                                                       min_impurity_decrease=0.0,\n",
       "                                                       min_impurity_split=None,\n",
       "                                                       min_samples_leaf=1,\n",
       "                                                       min_samples_split=2,\n",
       "                                                       min_weight_fraction_leaf=0.0,\n",
       "                                                       presort='deprecated',\n",
       "                                                       random_state=None,\n",
       "                                                       splitter='best'),\n",
       "                  learning_rate=1.0, loss='linear', n_estimators=300,\n",
       "                  random_state=None)"
      ]
     },
     "execution_count": 60,
     "metadata": {},
     "output_type": "execute_result"
    }
   ],
   "source": [
    "from sklearn.tree import DecisionTreeRegressor\n",
    "from sklearn.ensemble import AdaBoostRegressor\n",
    "\n",
    "regr_1 = DecisionTreeRegressor(max_depth=4)\n",
    "regr_2 = AdaBoostRegressor(DecisionTreeRegressor(max_depth=4), n_estimators=300)\n",
    "regr_1.fit(X_train, y_train)\n",
    "regr_2.fit(X_train, y_train)"
   ]
  },
  {
   "cell_type": "code",
   "execution_count": 61,
   "metadata": {},
   "outputs": [],
   "source": [
    "Y_predict = regr_2.predict(X=X_test)\n",
    "output=pd.DataFrame(data={\"id\":df_test.index,\"ibu\":Y_predict}) \n",
    "\n",
    "output.to_csv(path_or_buf=\"results.csv\",index=False,quoting=3,sep=',')"
   ]
  },
  {
   "cell_type": "markdown",
   "metadata": {},
   "source": [
    "Score: 42.7"
   ]
  }
 ],
 "metadata": {
  "kernelspec": {
   "display_name": "Python 3",
   "language": "python",
   "name": "python3"
  },
  "language_info": {
   "codemirror_mode": {
    "name": "ipython",
    "version": 3
   },
   "file_extension": ".py",
   "mimetype": "text/x-python",
   "name": "python",
   "nbconvert_exporter": "python",
   "pygments_lexer": "ipython3",
   "version": "3.7.4"
  }
 },
 "nbformat": 4,
 "nbformat_minor": 4
}
