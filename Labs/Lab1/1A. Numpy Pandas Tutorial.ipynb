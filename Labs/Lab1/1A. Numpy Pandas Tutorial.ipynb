{
 "cells": [
  {
   "cell_type": "markdown",
   "metadata": {},
   "source": [
    "# Numpy\n",
    "\n",
    "Provides various utilities functions on top of N-dimensional array such statistical calculation (.mean(), .std()) and vectorized operation.\n",
    "\n",
    "A numpy array is a N-dimensional array, all of the same type, and is indexed by nonnegative integers. The number of dimensions is the rank of the array; the shape of an array is a tuple of integers giving the size of the array along each dimension.\n",
    "\n",
    "We can initialize numpy arrays from nested Python lists, and access elements using square brackets:"
   ]
  },
  {
   "cell_type": "code",
   "execution_count": 16,
   "metadata": {
    "scrolled": false
   },
   "outputs": [
    {
     "name": "stdout",
     "output_type": "stream",
     "text": [
      "[[ 0  1  2  3  4]\n",
      " [ 5  6  7  8  9]\n",
      " [10 11 12 13 14]]\n",
      "Shape of a: (3, 5)\n",
      "# dimensions: 2\n",
      "datatype of elements in a: int64\n",
      "# of elements: 15\n",
      "Type of a: <type 'numpy.ndarray'>\n",
      "Type of b: <type 'numpy.ndarray'>\n"
     ]
    }
   ],
   "source": [
    "from numpy import *\n",
    "\n",
    "a = arange(15).reshape(3, 5)\n",
    "print a\n",
    "\n",
    "print \"Type of a:\", type(a)\n",
    "print \"Shape of a:\", a.shape\n",
    "print \"# dimensions:\", a.ndim\n",
    "print \"datatype of elements in a:\", a.dtype.name\n",
    "print \"# of elements:\", a.size\n",
    "\n",
    "b = array([6,7,8])\n",
    "print \"Type of b:\", type(b)\n",
    "\n",
    "print \"1st elem in b:\", b[0] # print first element in b "
   ]
  },
  {
   "cell_type": "markdown",
   "metadata": {},
   "source": [
    "### Array creation\n",
    "Numpy also provides many functions to create arrays. You can also read more about array creation here : https://docs.scipy.org/doc/numpy/user/basics.creation.html#arrays-creation\n"
   ]
  },
  {
   "cell_type": "code",
   "execution_count": 39,
   "metadata": {},
   "outputs": [
    {
     "name": "stdout",
     "output_type": "stream",
     "text": [
      "a:\n",
      "[[ 0.  0.]\n",
      " [ 0.  0.]]\n",
      "b:\n",
      "[[ 1.  1.]]\n",
      "c:\n",
      "[[ 7.  7.]\n",
      " [ 7.  7.]]\n",
      "d:\n",
      "[[ 1.  0.]\n",
      " [ 0.  1.]]\n",
      "e:\n",
      "[[ 0.06939502  0.98031338]\n",
      " [ 0.71210968  0.31308969]]\n"
     ]
    }
   ],
   "source": [
    "a = np.zeros((2,2))   # Create an array of all zeros\n",
    "print \"a:\\n\", a\n",
    "\n",
    "b = np.ones((1,2))    # Create an array of all ones\n",
    "print \"b:\\n\", b\n",
    "\n",
    "c = np.full((2,2), 7)  # Create an array with a constant\n",
    "print \"c:\\n\", c\n",
    "\n",
    "d = np.eye(2)         # Create a 2x2 identity matrix\n",
    "print \"d:\\n\", d\n",
    "\n",
    "e = np.random.random((2,2))  # Create an array filled with random values\n",
    "print \"e:\\n\", e"
   ]
  },
  {
   "cell_type": "markdown",
   "metadata": {},
   "source": [
    "###Array indexing \n",
    "\n",
    "Numpy offers several ways to index into arrays.\n",
    "\n",
    "Slicing: Similar to Python lists, numpy arrays can be sliced. Since arrays may be multidimensional, you must specify a slice for each dimension of the array:"
   ]
  },
  {
   "cell_type": "code",
   "execution_count": null,
   "metadata": {
    "collapsed": true
   },
   "outputs": [],
   "source": [
    "# Create the following rank 2 array with shape (3, 4)\n",
    "# [[ 1  2  3  4]\n",
    "#  [ 5  6  7  8]\n",
    "#  [ 9 10 11 12]]\n",
    "a = np.array([[1,2,3,4], [5,6,7,8], [9,10,11,12]])\n",
    "\n",
    "# Use slicing to pull out the subarray consisting of the first 2 rows\n",
    "# and columns 1 and 2; b is the following array of shape (2, 2):\n",
    "# [[2 3]\n",
    "#  [6 7]]\n",
    "b = a[:2, 1:3]\n",
    "\n",
    "# A slice of an array is a view into the same data, so modifying it\n",
    "# will modify the original array.\n",
    "print(a[0, 1])   # Prints \"2\"\n",
    "b[0, 0] = 77     # b[0, 0] is the same piece of data as a[0, 1]\n",
    "print(a[0, 1])   # Prints \"77\""
   ]
  },
  {
   "cell_type": "markdown",
   "metadata": {},
   "source": [
    "You can also mix integer indexing with slice indexing. However, doing so will yield an array of lower rank than the original array. "
   ]
  },
  {
   "cell_type": "code",
   "execution_count": null,
   "metadata": {
    "collapsed": true
   },
   "outputs": [],
   "source": [
    "# Create the following rank 2 array with shape (3, 4)\n",
    "# [[ 1  2  3  4]\n",
    "#  [ 5  6  7  8]\n",
    "#  [ 9 10 11 12]]\n",
    "a = np.array([[1,2,3,4], [5,6,7,8], [9,10,11,12]])\n",
    "\n",
    "# Two ways of accessing the data in the middle row of the array.\n",
    "# Mixing integer indexing with slices yields an array of lower rank,\n",
    "# while using only slices yields an array of the same rank as the\n",
    "# original array:\n",
    "row_r1 = a[1, :]    # Rank 1 view of the second row of a\n",
    "row_r2 = a[1:2, :]  # Rank 2 view of the second row of a\n",
    "print(row_r1, row_r1.shape)  # Prints \"[5 6 7 8] (4,)\"\n",
    "print(row_r2, row_r2.shape)  # Prints \"[[5 6 7 8]] (1, 4)\"\n",
    "\n",
    "# We can make the same distinction when accessing columns of an array:\n",
    "col_r1 = a[:, 1]\n",
    "col_r2 = a[:, 1:2]\n",
    "print(col_r1, col_r1.shape)  # Prints \"[ 2  6 10] (3,)\"\n",
    "print(col_r2, col_r2.shape)  # Prints \"[[ 2]\n",
    "                             #          [ 6]\n",
    "                             #          [10]] (3, 1)\""
   ]
  },
  {
   "cell_type": "markdown",
   "metadata": {},
   "source": [
    "### Array math\n",
    "Basic mathematical functions operate elementwise on arrays, and are available both as operator overloads and as functions in the numpy module:"
   ]
  },
  {
   "cell_type": "code",
   "execution_count": 42,
   "metadata": {},
   "outputs": [
    {
     "name": "stdout",
     "output_type": "stream",
     "text": [
      "matrix sum:\n",
      "[[  6.   8.]\n",
      " [ 10.  12.]]\n",
      "matrix sum:\n",
      "[[  6.   8.]\n",
      " [ 10.  12.]]\n",
      "matrix difference:\n",
      "[[-4. -4.]\n",
      " [-4. -4.]]\n",
      "matrix difference:\n",
      "[[-4. -4.]\n",
      " [-4. -4.]]\n",
      "matrix prodcut:\n",
      "[[  5.  12.]\n",
      " [ 21.  32.]]\n",
      "matrix prodcut:\n",
      "[[  5.  12.]\n",
      " [ 21.  32.]]\n",
      "matrix division:\n",
      "[[ 0.2         0.33333333]\n",
      " [ 0.42857143  0.5       ]]\n",
      "matrix division:\n",
      "[[ 0.2         0.33333333]\n",
      " [ 0.42857143  0.5       ]]\n",
      "square root:\n",
      "[[ 1.          1.41421356]\n",
      " [ 1.73205081  2.        ]]\n",
      "matrix by scaler:\n",
      "[[ 2.  4.]\n",
      " [ 6.  8.]]\n"
     ]
    }
   ],
   "source": [
    "x = np.array([[1,2],[3,4]], dtype=np.float64)\n",
    "y = np.array([[5,6],[7,8]], dtype=np.float64)\n",
    "\n",
    "# Elementwise sum; both produce the array\n",
    "print \"matrix sum:\\n\", x + y\n",
    "print \"matrix sum:\\n\", add(x, y)\n",
    "\n",
    "# Elementwise difference; both produce the array\n",
    "print \"matrix difference:\\n\", x - y\n",
    "print \"matrix difference:\\n\", subtract(x, y)\n",
    "\n",
    "# Elementwise product; both produce the array\n",
    "print \"matrix prodcut:\\n\", x * y\n",
    "print \"matrix prodcut:\\n\", multiply(x, y)\n",
    "\n",
    "# Elementwise division; both produce the array\n",
    "print \"matrix division:\\n\", x / y\n",
    "print \"matrix division:\\n\", divide(x, y)\n",
    "\n",
    "# Elementwise square root; produces the array\n",
    "print \"square root:\\n\", sqrt(x)\n",
    "\n",
    "# Elementwise product by scaler\n",
    "print \"matrix by scaler:\\n\", x * 2\n"
   ]
  },
  {
   "cell_type": "markdown",
   "metadata": {},
   "source": [
    "### Linear algebra operations "
   ]
  },
  {
   "cell_type": "code",
   "execution_count": 30,
   "metadata": {},
   "outputs": [
    {
     "name": "stdout",
     "output_type": "stream",
     "text": [
      "A*B:\n",
      "[[2 0]\n",
      " [0 4]]\n",
      "dot(A,B):\n",
      "[[5 4]\n",
      " [3 4]]\n",
      "a:\n",
      "[[3 3 3]\n",
      " [3 3 3]]\n",
      "b\n",
      ": [[ 3.51665755  3.15221622  3.896464  ]\n",
      " [ 3.42767488  3.25868986  3.42485715]]\n"
     ]
    }
   ],
   "source": [
    "A = array( [[1,1], [0,1]] )\n",
    "B = array( [[2,0], [3,4]] )\n",
    "\n",
    "print \"A*B:\\n\", A*B # elementwise product \n",
    "\n",
    "print \"dot(A,B):\\n\", dot(A,B) # matrix product\n",
    "\n",
    "a = ones((2,3), dtype=int) # create matrix all 1s of size 2 x 3\n",
    "b = random.random((2,3)) # create matrix of size 2 x 3, randomly\n",
    "\n",
    "a *= 3 # multiply each element by 3\n",
    "print \"a:\\n\", a\n",
    "\n",
    "b += a  # add two matrices, and assign to matrix b\n",
    "print \"b\\n:\", b"
   ]
  },
  {
   "cell_type": "code",
   "execution_count": 43,
   "metadata": {
    "scrolled": true
   },
   "outputs": [
    {
     "name": "stdout",
     "output_type": "stream",
     "text": [
      "matrix a:\n",
      "[[ 0.59257921  0.72241258  0.32824592]\n",
      " [ 0.67982578  0.71641435  0.02639753]]\n",
      "sum:\n",
      "3.06587536152\n",
      "min:\n",
      "0.0263975324349\n",
      "max:\n",
      "0.722412578383\n"
     ]
    }
   ],
   "source": [
    "a = random.random((2,3))\n",
    "\n",
    "print \"matrix a:\\n\", a\n",
    "\n",
    "print \"sum:\\n\", a.sum()\n",
    "print \"min:\\n\",a.min()\n",
    "print \"max:\\n\",a.max()\n"
   ]
  },
  {
   "cell_type": "code",
   "execution_count": 32,
   "metadata": {
    "scrolled": true
   },
   "outputs": [
    {
     "name": "stdout",
     "output_type": "stream",
     "text": [
      "v: [ 1.5313893   1.64101043  2.08524406 ...,  1.90037084  2.06093174\n",
      "  2.38886047]\n"
     ]
    },
    {
     "data": {
      "image/png": "[encoded data removed]",
      "text/plain": [
       "<matplotlib.figure.Figure at 0x104e71fd0>"
      ]
     },
     "metadata": {},
     "output_type": "display_data"
    },
    {
     "data": {
      "image/png": "[encoded data removed]",
      "text/plain": [
       "<matplotlib.figure.Figure at 0x1061b7310>"
      ]
     },
     "metadata": {},
     "output_type": "display_data"
    }
   ],
   "source": [
    "# show histogram of elements in array \n",
    "import numpy\n",
    "import pylab\n",
    "\n",
    "# Build a vector of 10000 normal deviates with variance 0.5^2 and mean 2\n",
    "mu, sigma = 2, 0.5\n",
    "v = numpy.random.normal(mu,sigma,10000)\n",
    "print \"v:\", v\n",
    "\n",
    "# Plot a normalized histogram with 50 bins\n",
    "pylab.hist(v, bins=50, normed=1)       # matplotlib version (plot)\n",
    "pylab.show()\n",
    "\n",
    "# Compute the histogram with numpy and then plot it\n",
    "(n, bins) = numpy.histogram(v, bins=50, normed=True)  # NumPy version (no plot)\n",
    "pylab.plot(.5*(bins[1:]+bins[:-1]), n)\n",
    "pylab.show()"
   ]
  }
 ],
 "metadata": {
  "kernelspec": {
   "display_name": "Python 2",
   "language": "python",
   "name": "python2"
  },
  "language_info": {
   "codemirror_mode": {
    "name": "ipython",
    "version": 2
   },
   "file_extension": ".py",
   "mimetype": "text/x-python",
   "name": "python",
   "nbconvert_exporter": "python",
   "pygments_lexer": "ipython2",
   "version": "2.7.12"
  }
 },
 "nbformat": 4,
 "nbformat_minor": 2
}
