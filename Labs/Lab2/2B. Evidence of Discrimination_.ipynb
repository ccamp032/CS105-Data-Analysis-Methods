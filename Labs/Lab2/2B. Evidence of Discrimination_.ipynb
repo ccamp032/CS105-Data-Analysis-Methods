{
 "cells": [
  {
   "cell_type": "markdown",
   "metadata": {},
   "source": [
    "# Evidence of Discrimination?\n",
    "\n",
    "The Department of Developmental Services (DDS) in California is responsible for allocating funds to support over 250,000 developmentally-disabled residents. The data set `ca_dds_expenditures.csv` contains data about 1,000 of these residents. The data comes from a discrimination lawsuit which alleged that California's Department of Developmental Services (DDS) privileged white (non-Hispanic) residents over Hispanic residents in allocating funds. We will focus on comparing the allocation of funds (i.e., expenditures) for these two ethnicities only, although there are other ethnicities in this data set.\n",
    "\n",
    "There are 6 variables in this data set:\n",
    "\n",
    "- Id:  5-digit, unique identification code for each consumer (similar to a social security number and used for identification purposes)  \n",
    "- Age Cohort:  Binned age variable represented as six age cohorts (0-5, 6-12, 13-17, 18-21, 22-50, and 51+)\n",
    "- Age:  Unbinned age variable\n",
    "- Gender:  Male or Female\n",
    "- Expenditures:  Dollar amount of annual expenditures spent on each consumer\n",
    "- Ethnicity:  Eight ethnic groups (American Indian, Asian, Black, Hispanic, Multi-race, Native Hawaiian, Other, and White non-Hispanic)"
   ]
  },
  {
   "cell_type": "markdown",
   "metadata": {},
   "source": [
    "# Question 1\n",
    "\n",
    "Read in the data set. Make a graphic that compares the _average_ expenditures by the DDS on Hispanic residents and white (non-Hispanic) residents. Comment on what you see."
   ]
  },
  {
   "cell_type": "code",
   "execution_count": 1,
   "metadata": {},
   "outputs": [],
   "source": [
    "%matplotlib inline\n",
    "import numpy as np\n",
    "import pandas as pd"
   ]
  },
  {
   "cell_type": "code",
   "execution_count": 2,
   "metadata": {},
   "outputs": [
    {
     "data": {
      "text/html": [
       "<div>\n",
       "<style scoped>\n",
       "    .dataframe tbody tr th:only-of-type {\n",
       "        vertical-align: middle;\n",
       "    }\n",
       "\n",
       "    .dataframe tbody tr th {\n",
       "        vertical-align: top;\n",
       "    }\n",
       "\n",
       "    .dataframe thead th {\n",
       "        text-align: right;\n",
       "    }\n",
       "</style>\n",
       "<table border=\"1\" class=\"dataframe\">\n",
       "  <thead>\n",
       "    <tr style=\"text-align: right;\">\n",
       "      <th></th>\n",
       "      <th>Id</th>\n",
       "      <th>Age Cohort</th>\n",
       "      <th>Age</th>\n",
       "      <th>Gender</th>\n",
       "      <th>Expenditures</th>\n",
       "      <th>Ethnicity</th>\n",
       "    </tr>\n",
       "  </thead>\n",
       "  <tbody>\n",
       "    <tr>\n",
       "      <th>0</th>\n",
       "      <td>10210</td>\n",
       "      <td>13 to 17</td>\n",
       "      <td>17</td>\n",
       "      <td>Female</td>\n",
       "      <td>2113</td>\n",
       "      <td>White not Hispanic</td>\n",
       "    </tr>\n",
       "    <tr>\n",
       "      <th>1</th>\n",
       "      <td>10409</td>\n",
       "      <td>22 to 50</td>\n",
       "      <td>37</td>\n",
       "      <td>Male</td>\n",
       "      <td>41924</td>\n",
       "      <td>White not Hispanic</td>\n",
       "    </tr>\n",
       "    <tr>\n",
       "      <th>2</th>\n",
       "      <td>10486</td>\n",
       "      <td>0 to 5</td>\n",
       "      <td>3</td>\n",
       "      <td>Male</td>\n",
       "      <td>1454</td>\n",
       "      <td>Hispanic</td>\n",
       "    </tr>\n",
       "    <tr>\n",
       "      <th>3</th>\n",
       "      <td>10538</td>\n",
       "      <td>18 to 21</td>\n",
       "      <td>19</td>\n",
       "      <td>Female</td>\n",
       "      <td>6400</td>\n",
       "      <td>Hispanic</td>\n",
       "    </tr>\n",
       "    <tr>\n",
       "      <th>4</th>\n",
       "      <td>10568</td>\n",
       "      <td>13 to 17</td>\n",
       "      <td>13</td>\n",
       "      <td>Male</td>\n",
       "      <td>4412</td>\n",
       "      <td>White not Hispanic</td>\n",
       "    </tr>\n",
       "    <tr>\n",
       "      <th>...</th>\n",
       "      <td>...</td>\n",
       "      <td>...</td>\n",
       "      <td>...</td>\n",
       "      <td>...</td>\n",
       "      <td>...</td>\n",
       "      <td>...</td>\n",
       "    </tr>\n",
       "    <tr>\n",
       "      <th>995</th>\n",
       "      <td>99622</td>\n",
       "      <td>51+</td>\n",
       "      <td>86</td>\n",
       "      <td>Female</td>\n",
       "      <td>57055</td>\n",
       "      <td>White not Hispanic</td>\n",
       "    </tr>\n",
       "    <tr>\n",
       "      <th>996</th>\n",
       "      <td>99715</td>\n",
       "      <td>18 to 21</td>\n",
       "      <td>20</td>\n",
       "      <td>Male</td>\n",
       "      <td>7494</td>\n",
       "      <td>Hispanic</td>\n",
       "    </tr>\n",
       "    <tr>\n",
       "      <th>997</th>\n",
       "      <td>99718</td>\n",
       "      <td>13 to 17</td>\n",
       "      <td>17</td>\n",
       "      <td>Female</td>\n",
       "      <td>3673</td>\n",
       "      <td>Multi Race</td>\n",
       "    </tr>\n",
       "    <tr>\n",
       "      <th>998</th>\n",
       "      <td>99791</td>\n",
       "      <td>6 to 12</td>\n",
       "      <td>10</td>\n",
       "      <td>Male</td>\n",
       "      <td>3638</td>\n",
       "      <td>Hispanic</td>\n",
       "    </tr>\n",
       "    <tr>\n",
       "      <th>999</th>\n",
       "      <td>99898</td>\n",
       "      <td>22 to 50</td>\n",
       "      <td>23</td>\n",
       "      <td>Male</td>\n",
       "      <td>26702</td>\n",
       "      <td>White not Hispanic</td>\n",
       "    </tr>\n",
       "  </tbody>\n",
       "</table>\n",
       "<p>1000 rows × 6 columns</p>\n",
       "</div>"
      ],
      "text/plain": [
       "        Id Age Cohort  Age  Gender  Expenditures           Ethnicity\n",
       "0    10210   13 to 17   17  Female          2113  White not Hispanic\n",
       "1    10409   22 to 50   37    Male         41924  White not Hispanic\n",
       "2    10486     0 to 5    3    Male          1454            Hispanic\n",
       "3    10538   18 to 21   19  Female          6400            Hispanic\n",
       "4    10568   13 to 17   13    Male          4412  White not Hispanic\n",
       "..     ...        ...  ...     ...           ...                 ...\n",
       "995  99622        51+   86  Female         57055  White not Hispanic\n",
       "996  99715   18 to 21   20    Male          7494            Hispanic\n",
       "997  99718   13 to 17   17  Female          3673          Multi Race\n",
       "998  99791    6 to 12   10    Male          3638            Hispanic\n",
       "999  99898   22 to 50   23    Male         26702  White not Hispanic\n",
       "\n",
       "[1000 rows x 6 columns]"
      ]
     },
     "execution_count": 2,
     "metadata": {},
     "output_type": "execute_result"
    }
   ],
   "source": [
    "dds_data = pd.read_csv(\"ca_dds_expenditures.csv\")\n",
    "dds_data"
   ]
  },
  {
   "cell_type": "markdown",
   "metadata": {},
   "source": [
    "<br><br>\n",
    "Create the cube with index Ethnicity and values average Expenditures<br>\n",
    "Then plot the graph for only 2 category: Hispanic and Whites"
   ]
  },
  {
   "cell_type": "code",
   "execution_count": 3,
   "metadata": {},
   "outputs": [
    {
     "data": {
      "text/plain": [
       "<matplotlib.axes._subplots.AxesSubplot at 0x26cc36f7088>"
      ]
     },
     "execution_count": 3,
     "metadata": {},
     "output_type": "execute_result"
    },
    {
     "data": {
      "image/png": "[encoded data removed]",
      "text/plain": [
       "<Figure size 432x288 with 1 Axes>"
      ]
     },
     "metadata": {
      "needs_background": "light"
     },
     "output_type": "display_data"
    }
   ],
   "source": [
    "expend_cube = dds_data.pivot_table(index = \"Ethnicity\", values = \"Expenditures\", aggfunc = np.mean)\n",
    "expend_cube.loc[[\"Hispanic\", \"White not Hispanic\"]].plot.bar()"
   ]
  },
  {
   "cell_type": "code",
   "execution_count": 4,
   "metadata": {},
   "outputs": [
    {
     "data": {
      "text/plain": [
       "array([<matplotlib.axes._subplots.AxesSubplot object at 0x0000026CC3A48E88>],\n",
       "      dtype=object)"
      ]
     },
     "execution_count": 4,
     "metadata": {},
     "output_type": "execute_result"
    },
    {
     "data": {
      "image/png": "[encoded data removed]",
      "text/plain": [
       "<Figure size 432x288 with 1 Axes>"
      ]
     },
     "metadata": {},
     "output_type": "display_data"
    }
   ],
   "source": [
    "expend_cube.loc[[\"Hispanic\", \"White not Hispanic\"]].plot.pie(subplots=True)"
   ]
  },
  {
   "cell_type": "markdown",
   "metadata": {},
   "source": [
    "As we can see from the bar and pie charts,Department of Developmental Services (DDS) spents more money for 'White not Hispanic' than for 'Hispanic'.\n",
    "<br>\n",
    "However, let's try to plot a different way as shown below. "
   ]
  },
  {
   "cell_type": "markdown",
   "metadata": {},
   "source": [
    "# Question 2\n",
    "\n",
    "Now, calculate the average expenditures by ethnicity and age cohort. Make a graphic that compares the average expenditure on Hispanic residents and white (non-Hispanic) residents, _within each age cohort_. \n",
    "\n",
    "Comment on what you see. How do these results appear to contradict the results you obtained in Question 1?"
   ]
  },
  {
   "cell_type": "code",
   "execution_count": 5,
   "metadata": {},
   "outputs": [
    {
     "data": {
      "text/plain": [
       "<matplotlib.axes._subplots.AxesSubplot at 0x26cc3a53488>"
      ]
     },
     "execution_count": 5,
     "metadata": {},
     "output_type": "execute_result"
    },
    {
     "data": {
      "image/png": "[encoded data removed]",
      "text/plain": [
       "<Figure size 432x288 with 1 Axes>"
      ]
     },
     "metadata": {
      "needs_background": "light"
     },
     "output_type": "display_data"
    }
   ],
   "source": [
    "expend_cube = dds_data.pivot_table(index = \"Ethnicity\", columns = \"Age Cohort\", values = \"Expenditures\", aggfunc = np.mean)\n",
    "expend_cube.loc[[\"Hispanic\", \"White not Hispanic\"]].plot.bar()"
   ]
  },
  {
   "cell_type": "markdown",
   "metadata": {},
   "source": [
    "This graph contradicts our assumption of Department of Developmental Services (DDS) spending more money for 'White not Hispanic' than for 'Hispanic'.\n",
    "<br>\n",
    "Question 1 graphs are deceiving.<br>\n",
    "There are some biased in question 1 graphs. <br>\n",
    "This graph shows that there's no baised on white race."
   ]
  },
  {
   "cell_type": "markdown",
   "metadata": {},
   "source": [
    "# Question 3\n",
    "\n",
    "Can you explain the discrepancy between the two analyses you conducted above (i.e., Questions 1 and 2)? Try to tell a complete story that interweaves tables, graphics, and explanation.\n",
    "\n",
    "_Hint:_ You might want to consider looking at:\n",
    "\n",
    "- the distributions of ages of Hispanics and whites\n",
    "- the average expenditure as a function of age"
   ]
  },
  {
   "cell_type": "markdown",
   "metadata": {},
   "source": [
    "<br><br>\n",
    "Destribution among age groups within White not Hispanic"
   ]
  },
  {
   "cell_type": "code",
   "execution_count": 6,
   "metadata": {},
   "outputs": [
    {
     "data": {
      "text/plain": [
       "<matplotlib.axes._subplots.AxesSubplot at 0x26cc3b77588>"
      ]
     },
     "execution_count": 6,
     "metadata": {},
     "output_type": "execute_result"
    },
    {
     "data": {
      "image/png": "[encoded data removed]",
      "text/plain": [
       "<Figure size 432x288 with 1 Axes>"
      ]
     },
     "metadata": {
      "needs_background": "light"
     },
     "output_type": "display_data"
    }
   ],
   "source": [
    "dds_data.loc[dds_data[\"Ethnicity\"] == \"White not Hispanic\",\"Age Cohort\"].value_counts().plot.bar()"
   ]
  },
  {
   "cell_type": "markdown",
   "metadata": {},
   "source": [
    "<br><br>\n",
    "Destribution among age groups within Hispanic"
   ]
  },
  {
   "cell_type": "code",
   "execution_count": 7,
   "metadata": {},
   "outputs": [
    {
     "data": {
      "text/plain": [
       "<matplotlib.axes._subplots.AxesSubplot at 0x26cc3bfba48>"
      ]
     },
     "execution_count": 7,
     "metadata": {},
     "output_type": "execute_result"
    },
    {
     "data": {
      "image/png": "[encoded data removed]",
      "text/plain": [
       "<Figure size 432x288 with 1 Axes>"
      ]
     },
     "metadata": {
      "needs_background": "light"
     },
     "output_type": "display_data"
    }
   ],
   "source": [
    "dds_data.loc[dds_data[\"Ethnicity\"] == \"Hispanic\",\"Age Cohort\"].value_counts().plot.bar()"
   ]
  },
  {
   "cell_type": "markdown",
   "metadata": {},
   "source": [
    "<br><br>\n",
    "Average Expenditures for each age group despite race"
   ]
  },
  {
   "cell_type": "code",
   "execution_count": 8,
   "metadata": {},
   "outputs": [
    {
     "data": {
      "text/plain": [
       "<matplotlib.axes._subplots.AxesSubplot at 0x26cc3c6fbc8>"
      ]
     },
     "execution_count": 8,
     "metadata": {},
     "output_type": "execute_result"
    },
    {
     "data": {
      "image/png": "[encoded data removed]",
      "text/plain": [
       "<Figure size 432x288 with 1 Axes>"
      ]
     },
     "metadata": {
      "needs_background": "light"
     },
     "output_type": "display_data"
    }
   ],
   "source": [
    "dds_data.groupby(\"Age Cohort\")[\"Expenditures\"].mean().plot.bar()"
   ]
  },
  {
   "cell_type": "markdown",
   "metadata": {},
   "source": [
    "Expendures spent for 51+ have high volume.<br>\n",
    "Hispanic has only 17 people in this category and White has approximately 66.<br>\n",
    "The second highest spent group 22 to 50. <br>\n",
    "Hispanic has approximately 43 people and White has approximately 133.<br>\n",
    "They may have the same mean, but the total amounts of money for these categories are different."
   ]
  },
  {
   "cell_type": "markdown",
   "metadata": {},
   "source": [
    "## Submission Instructions\n",
    "\n",
    "Once you are finished, follow these steps:\n",
    "\n",
    "1. Restart the kernel and re-run this notebook from beginning to end by going to `Kernel > Restart Kernel and Run All Cells`.\n",
    "\n",
    "2. If this process stops halfway through, that means there was an error. Correct the error and repeat Step 1 until the notebook runs from beginning to end.\n",
    "\n",
    "3. Double check that there is a number next to each code cell and that these numbers are in order.\n",
    "\n",
    "Then, submit your lab as follows:\n",
    "\n",
    "1. Go to `File > Export Notebook As > PDF`.\n",
    "\n",
    "2. Double check that the entire notebook, from beginning to end, is in this PDF file. (If the notebook is cut off, try first exporting the notebook to HTML and printing to PDF.)\n",
    "\n",
    "3. Upload the PDF and Notebook (ipynb) iLearn."
   ]
  }
 ],
 "metadata": {
  "kernelspec": {
   "display_name": "Python 3",
   "language": "python",
   "name": "python3"
  },
  "language_info": {
   "codemirror_mode": {
    "name": "ipython",
    "version": 3
   },
   "file_extension": ".py",
   "mimetype": "text/x-python",
   "name": "python",
   "nbconvert_exporter": "python",
   "pygments_lexer": "ipython3",
   "version": "3.7.4"
  }
 },
 "nbformat": 4,
 "nbformat_minor": 4
}
