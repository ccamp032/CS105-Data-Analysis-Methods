{
 "cells": [
  {
   "cell_type": "markdown",
   "metadata": {},
   "source": [
    "This example is based on the EDA example in Doing Data Science Ch. 2. There are 31 datasets named nyt1.csv, nyt2.csv,…,nyt31.csv, which you can find here: https://github.com/oreillymedia/doing_data_science. I have already downloaded the dataset for you to use under the folder: /nytdata\n",
    "\n",
    "Each file represents one (simulated) day’s worth of ads shown and clicks recorded on the New York Times home page in May 2012. Each row represents a single user. There are five columns: age, gender (0=female, 1=male), number impressions, number clicks, and logged-in."
   ]
  },
  {
   "cell_type": "code",
   "execution_count": 1,
   "metadata": {},
   "outputs": [],
   "source": [
    "import pandas as pd\n",
    "import numpy as np\n",
    "import matplotlib.pyplot as plt"
   ]
  },
  {
   "cell_type": "markdown",
   "metadata": {},
   "source": [
    "Lets start off analyzing one file"
   ]
  },
  {
   "cell_type": "code",
   "execution_count": 2,
   "metadata": {},
   "outputs": [
    {
     "data": {
      "text/html": [
       "<div>\n",
       "<style scoped>\n",
       "    .dataframe tbody tr th:only-of-type {\n",
       "        vertical-align: middle;\n",
       "    }\n",
       "\n",
       "    .dataframe tbody tr th {\n",
       "        vertical-align: top;\n",
       "    }\n",
       "\n",
       "    .dataframe thead th {\n",
       "        text-align: right;\n",
       "    }\n",
       "</style>\n",
       "<table border=\"1\" class=\"dataframe\">\n",
       "  <thead>\n",
       "    <tr style=\"text-align: right;\">\n",
       "      <th></th>\n",
       "      <th>Age</th>\n",
       "      <th>Gender</th>\n",
       "      <th>Impressions</th>\n",
       "      <th>Clicks</th>\n",
       "      <th>Signed_In</th>\n",
       "    </tr>\n",
       "  </thead>\n",
       "  <tbody>\n",
       "    <tr>\n",
       "      <th>0</th>\n",
       "      <td>36</td>\n",
       "      <td>0</td>\n",
       "      <td>3</td>\n",
       "      <td>0</td>\n",
       "      <td>1</td>\n",
       "    </tr>\n",
       "    <tr>\n",
       "      <th>1</th>\n",
       "      <td>73</td>\n",
       "      <td>1</td>\n",
       "      <td>3</td>\n",
       "      <td>0</td>\n",
       "      <td>1</td>\n",
       "    </tr>\n",
       "    <tr>\n",
       "      <th>2</th>\n",
       "      <td>30</td>\n",
       "      <td>0</td>\n",
       "      <td>3</td>\n",
       "      <td>0</td>\n",
       "      <td>1</td>\n",
       "    </tr>\n",
       "    <tr>\n",
       "      <th>3</th>\n",
       "      <td>49</td>\n",
       "      <td>1</td>\n",
       "      <td>3</td>\n",
       "      <td>0</td>\n",
       "      <td>1</td>\n",
       "    </tr>\n",
       "    <tr>\n",
       "      <th>4</th>\n",
       "      <td>47</td>\n",
       "      <td>1</td>\n",
       "      <td>11</td>\n",
       "      <td>0</td>\n",
       "      <td>1</td>\n",
       "    </tr>\n",
       "  </tbody>\n",
       "</table>\n",
       "</div>"
      ],
      "text/plain": [
       "   Age  Gender  Impressions  Clicks  Signed_In\n",
       "0   36       0            3       0          1\n",
       "1   73       1            3       0          1\n",
       "2   30       0            3       0          1\n",
       "3   49       1            3       0          1\n",
       "4   47       1           11       0          1"
      ]
     },
     "execution_count": 2,
     "metadata": {},
     "output_type": "execute_result"
    }
   ],
   "source": [
    "df =  pd.read_csv(\"dds_ch2_nyt/nyt1.csv\") # read-in one file \n",
    "df.head()"
   ]
  },
  {
   "cell_type": "markdown",
   "metadata": {},
   "source": [
    "Once you have the data loaded, it’s time for some EDA:\n",
    "\n"
   ]
  },
  {
   "cell_type": "markdown",
   "metadata": {},
   "source": [
    "Create a new variable, age_group, that categorizes users as \"<18\", \"18-24\", \"25-34\", \"35-44\", \"45-54\", \"55-64\", and \"65+\"."
   ]
  },
  {
   "cell_type": "code",
   "execution_count": 3,
   "metadata": {},
   "outputs": [],
   "source": [
    "bins= [0,18,25,35,45,55,65,108]\n",
    "labels = ['<18','18-24','25-34','35-44','45-54','55-64','65+']\n",
    "df['age_group'] = pd.cut(df['Age'], bins=bins, labels=labels, right=False)\n"
   ]
  },
  {
   "cell_type": "code",
   "execution_count": 4,
   "metadata": {},
   "outputs": [
    {
     "data": {
      "text/plain": [
       "<matplotlib.axes._subplots.AxesSubplot at 0x1c65bc10748>"
      ]
     },
     "execution_count": 4,
     "metadata": {},
     "output_type": "execute_result"
    },
    {
     "data": {
      "image/png": "[encoded data removed]",
      "text/plain": [
       "<Figure size 432x288 with 1 Axes>"
      ]
     },
     "metadata": {
      "needs_background": "light"
     },
     "output_type": "display_data"
    }
   ],
   "source": [
    "df['age_group'].value_counts().plot(kind='bar')"
   ]
  },
  {
   "cell_type": "markdown",
   "metadata": {},
   "source": [
    "Plot the distributions of number impressions and click-through-rate for these six age categories."
   ]
  },
  {
   "cell_type": "code",
   "execution_count": 5,
   "metadata": {},
   "outputs": [
    {
     "data": {
      "text/plain": [
       "<matplotlib.axes._subplots.AxesSubplot at 0x1c65eddd208>"
      ]
     },
     "execution_count": 5,
     "metadata": {},
     "output_type": "execute_result"
    },
    {
     "data": {
      "image/png": "[encoded data removed]",
      "text/plain": [
       "<Figure size 432x288 with 1 Axes>"
      ]
     },
     "metadata": {
      "needs_background": "light"
     },
     "output_type": "display_data"
    }
   ],
   "source": [
    "df.groupby(\"age_group\")[\"Impressions\"].mean().plot(kind='bar')"
   ]
  },
  {
   "cell_type": "code",
   "execution_count": 6,
   "metadata": {},
   "outputs": [
    {
     "data": {
      "text/plain": [
       "<matplotlib.axes._subplots.AxesSubplot at 0x1c65ee4de48>"
      ]
     },
     "execution_count": 6,
     "metadata": {},
     "output_type": "execute_result"
    },
    {
     "data": {
      "image/png": "[encoded data removed]",
      "text/plain": [
       "<Figure size 432x288 with 1 Axes>"
      ]
     },
     "metadata": {
      "needs_background": "light"
     },
     "output_type": "display_data"
    }
   ],
   "source": [
    "df.groupby(\"age_group\").mean()[\"Clicks\"].plot(kind='bar')"
   ]
  },
  {
   "cell_type": "markdown",
   "metadata": {},
   "source": [
    "Explore the data and make visual and quantitative comparisons across user segments/demographics (<18-year-old males versus < 18-year-old females or logged-in versus not, for example)."
   ]
  },
  {
   "cell_type": "markdown",
   "metadata": {},
   "source": [
    "<br><br>\n",
    "Distribution of Signed_In among age_group.<br>\n",
    "All ages signed for 100% and only <18 signed for 9%\n",
    "<br>"
   ]
  },
  {
   "cell_type": "code",
   "execution_count": 7,
   "metadata": {},
   "outputs": [
    {
     "data": {
      "text/plain": [
       "<matplotlib.axes._subplots.AxesSubplot at 0x1c65eedc148>"
      ]
     },
     "execution_count": 7,
     "metadata": {},
     "output_type": "execute_result"
    },
    {
     "data": {
      "image/png": "[encoded data removed]",
      "text/plain": [
       "<Figure size 432x288 with 1 Axes>"
      ]
     },
     "metadata": {
      "needs_background": "light"
     },
     "output_type": "display_data"
    }
   ],
   "source": [
    "df.groupby('age_group')['Signed_In'].mean().plot.bar()"
   ]
  },
  {
   "cell_type": "markdown",
   "metadata": {},
   "source": [
    "<br><br>\n",
    "Distribution of Signed_In among Gender for age_group <18<br>\n",
    "Male signed in for 100%, Female signed in for 3%.<br>\n",
    "All people who is not signed in belongs to group of Female of age <18. And 97% of Female with age <18 are not signed in.\n",
    "<br>"
   ]
  },
  {
   "cell_type": "code",
   "execution_count": 8,
   "metadata": {},
   "outputs": [
    {
     "data": {
      "text/plain": [
       "<matplotlib.axes._subplots.AxesSubplot at 0x1c65ef40ec8>"
      ]
     },
     "execution_count": 8,
     "metadata": {},
     "output_type": "execute_result"
    },
    {
     "data": {
      "image/png": "[encoded data removed]",
      "text/plain": [
       "<Figure size 432x288 with 1 Axes>"
      ]
     },
     "metadata": {
      "needs_background": "light"
     },
     "output_type": "display_data"
    }
   ],
   "source": [
    "df.pivot_table(index='age_group', columns='Gender', values='Signed_In', \n",
    "               aggfunc=np.mean).loc['<18'].plot.bar()"
   ]
  },
  {
   "cell_type": "markdown",
   "metadata": {},
   "source": [
    "We analyzed just one file, but the dataset includes 31 files ("
   ]
  },
  {
   "cell_type": "code",
   "execution_count": 9,
   "metadata": {},
   "outputs": [],
   "source": [
    "import glob # used to read mutliple-files \n",
    "files = glob.glob('dds_ch2_nyt/nyt*.csv')\n",
    "dfs = []\n",
    "for file in files:\n",
    "    df = pd.read_csv(file)\n",
    "    df['filename'] = file[-6:-4]\n",
    "    dfs.append(df)\n",
    "df = pd.concat(dfs, ignore_index=True)"
   ]
  },
  {
   "cell_type": "code",
   "execution_count": 10,
   "metadata": {},
   "outputs": [
    {
     "data": {
      "text/html": [
       "<div>\n",
       "<style scoped>\n",
       "    .dataframe tbody tr th:only-of-type {\n",
       "        vertical-align: middle;\n",
       "    }\n",
       "\n",
       "    .dataframe tbody tr th {\n",
       "        vertical-align: top;\n",
       "    }\n",
       "\n",
       "    .dataframe thead th {\n",
       "        text-align: right;\n",
       "    }\n",
       "</style>\n",
       "<table border=\"1\" class=\"dataframe\">\n",
       "  <thead>\n",
       "    <tr style=\"text-align: right;\">\n",
       "      <th></th>\n",
       "      <th>Age</th>\n",
       "      <th>Gender</th>\n",
       "      <th>Impressions</th>\n",
       "      <th>Clicks</th>\n",
       "      <th>Signed_In</th>\n",
       "      <th>filename</th>\n",
       "    </tr>\n",
       "  </thead>\n",
       "  <tbody>\n",
       "    <tr>\n",
       "      <th>0</th>\n",
       "      <td>36</td>\n",
       "      <td>0</td>\n",
       "      <td>3</td>\n",
       "      <td>0</td>\n",
       "      <td>1</td>\n",
       "      <td>t1</td>\n",
       "    </tr>\n",
       "    <tr>\n",
       "      <th>1</th>\n",
       "      <td>73</td>\n",
       "      <td>1</td>\n",
       "      <td>3</td>\n",
       "      <td>0</td>\n",
       "      <td>1</td>\n",
       "      <td>t1</td>\n",
       "    </tr>\n",
       "    <tr>\n",
       "      <th>2</th>\n",
       "      <td>30</td>\n",
       "      <td>0</td>\n",
       "      <td>3</td>\n",
       "      <td>0</td>\n",
       "      <td>1</td>\n",
       "      <td>t1</td>\n",
       "    </tr>\n",
       "    <tr>\n",
       "      <th>3</th>\n",
       "      <td>49</td>\n",
       "      <td>1</td>\n",
       "      <td>3</td>\n",
       "      <td>0</td>\n",
       "      <td>1</td>\n",
       "      <td>t1</td>\n",
       "    </tr>\n",
       "    <tr>\n",
       "      <th>4</th>\n",
       "      <td>47</td>\n",
       "      <td>1</td>\n",
       "      <td>11</td>\n",
       "      <td>0</td>\n",
       "      <td>1</td>\n",
       "      <td>t1</td>\n",
       "    </tr>\n",
       "  </tbody>\n",
       "</table>\n",
       "</div>"
      ],
      "text/plain": [
       "   Age  Gender  Impressions  Clicks  Signed_In filename\n",
       "0   36       0            3       0          1       t1\n",
       "1   73       1            3       0          1       t1\n",
       "2   30       0            3       0          1       t1\n",
       "3   49       1            3       0          1       t1\n",
       "4   47       1           11       0          1       t1"
      ]
     },
     "execution_count": 10,
     "metadata": {},
     "output_type": "execute_result"
    }
   ],
   "source": [
    "df.head()"
   ]
  },
  {
   "cell_type": "markdown",
   "metadata": {},
   "source": [
    "Analyze trends over time since we now have a historic view of the data over 31 days. "
   ]
  },
  {
   "cell_type": "markdown",
   "metadata": {},
   "source": [
    "Drop all lines with Age = 0"
   ]
  },
  {
   "cell_type": "code",
   "execution_count": 11,
   "metadata": {},
   "outputs": [],
   "source": [
    "df_new = df[df['Age'] != 0].reset_index(drop=True)"
   ]
  },
  {
   "cell_type": "markdown",
   "metadata": {},
   "source": [
    "Add new column age_group"
   ]
  },
  {
   "cell_type": "code",
   "execution_count": 12,
   "metadata": {},
   "outputs": [],
   "source": [
    "bins= [0,18,25,35,45,55,65,108]\n",
    "labels = ['<18','18-24','25-34','35-44','45-54','55-64','65+']\n",
    "df['age_group'] = pd.cut(df['Age'], bins=bins, labels=labels, right=False)"
   ]
  },
  {
   "cell_type": "markdown",
   "metadata": {},
   "source": [
    "Plot 31 histograms (assuming files in temporary order: 1 is oldest, 31 is newest)<br>\n",
    "average amount of clicks for each age group, file by file"
   ]
  },
  {
   "cell_type": "code",
   "execution_count": 13,
   "metadata": {},
   "outputs": [],
   "source": [
    "cube = df.pivot_table(index = 'filename', columns = 'age_group', \n",
    "                          values = 'Clicks', aggfunc = np.mean)"
   ]
  },
  {
   "cell_type": "code",
   "execution_count": 14,
   "metadata": {},
   "outputs": [
    {
     "data": {
      "image/png": "[encoded data removed]",
      "text/plain": [
       "<Figure size 1008x1008 with 31 Axes>"
      ]
     },
     "metadata": {
      "needs_background": "light"
     },
     "output_type": "display_data"
    }
   ],
   "source": [
    "plt.figure(figsize = (14, 14))\n",
    "plt.subplots_adjust(hspace = .5, wspace=.5)\n",
    "for i in range(31):\n",
    "    plt.subplot(8, 4, i+1)\n",
    "    plt.title(str(i+1))\n",
    "    if i < 9:\n",
    "        cube.loc['t'+str(i+1)].plot.bar()\n",
    "    else:\n",
    "        cube.loc[str(i+1)].plot.bar()"
   ]
  },
  {
   "cell_type": "code",
   "execution_count": 15,
   "metadata": {},
   "outputs": [
    {
     "data": {
      "text/html": [
       "<div>\n",
       "<style scoped>\n",
       "    .dataframe tbody tr th:only-of-type {\n",
       "        vertical-align: middle;\n",
       "    }\n",
       "\n",
       "    .dataframe tbody tr th {\n",
       "        vertical-align: top;\n",
       "    }\n",
       "\n",
       "    .dataframe thead th {\n",
       "        text-align: right;\n",
       "    }\n",
       "</style>\n",
       "<table border=\"1\" class=\"dataframe\">\n",
       "  <thead>\n",
       "    <tr style=\"text-align: right;\">\n",
       "      <th>age_group</th>\n",
       "      <th>&lt;18</th>\n",
       "      <th>18-24</th>\n",
       "      <th>25-34</th>\n",
       "      <th>35-44</th>\n",
       "      <th>45-54</th>\n",
       "      <th>55-64</th>\n",
       "      <th>65+</th>\n",
       "    </tr>\n",
       "    <tr>\n",
       "      <th>filename</th>\n",
       "      <th></th>\n",
       "      <th></th>\n",
       "      <th></th>\n",
       "      <th></th>\n",
       "      <th></th>\n",
       "      <th></th>\n",
       "      <th></th>\n",
       "    </tr>\n",
       "  </thead>\n",
       "  <tbody>\n",
       "    <tr>\n",
       "      <th>10</th>\n",
       "      <td>0.141738</td>\n",
       "      <td>0.056574</td>\n",
       "      <td>0.051094</td>\n",
       "      <td>0.050666</td>\n",
       "      <td>0.047919</td>\n",
       "      <td>0.102387</td>\n",
       "      <td>0.148353</td>\n",
       "    </tr>\n",
       "    <tr>\n",
       "      <th>11</th>\n",
       "      <td>0.142153</td>\n",
       "      <td>0.055371</td>\n",
       "      <td>0.049670</td>\n",
       "      <td>0.049380</td>\n",
       "      <td>0.049904</td>\n",
       "      <td>0.098441</td>\n",
       "      <td>0.147955</td>\n",
       "    </tr>\n",
       "    <tr>\n",
       "      <th>12</th>\n",
       "      <td>0.143592</td>\n",
       "      <td>0.055351</td>\n",
       "      <td>0.050915</td>\n",
       "      <td>0.049545</td>\n",
       "      <td>0.049670</td>\n",
       "      <td>0.098402</td>\n",
       "      <td>0.153880</td>\n",
       "    </tr>\n",
       "    <tr>\n",
       "      <th>13</th>\n",
       "      <td>0.142580</td>\n",
       "      <td>0.054366</td>\n",
       "      <td>0.049996</td>\n",
       "      <td>0.049080</td>\n",
       "      <td>0.051341</td>\n",
       "      <td>0.099238</td>\n",
       "      <td>0.147507</td>\n",
       "    </tr>\n",
       "    <tr>\n",
       "      <th>14</th>\n",
       "      <td>0.140956</td>\n",
       "      <td>0.055297</td>\n",
       "      <td>0.048450</td>\n",
       "      <td>0.050696</td>\n",
       "      <td>0.047829</td>\n",
       "      <td>0.099695</td>\n",
       "      <td>0.149640</td>\n",
       "    </tr>\n",
       "    <tr>\n",
       "      <th>15</th>\n",
       "      <td>0.142761</td>\n",
       "      <td>0.055169</td>\n",
       "      <td>0.050083</td>\n",
       "      <td>0.048249</td>\n",
       "      <td>0.051136</td>\n",
       "      <td>0.100918</td>\n",
       "      <td>0.147434</td>\n",
       "    </tr>\n",
       "    <tr>\n",
       "      <th>16</th>\n",
       "      <td>0.141940</td>\n",
       "      <td>0.057544</td>\n",
       "      <td>0.050185</td>\n",
       "      <td>0.051617</td>\n",
       "      <td>0.051793</td>\n",
       "      <td>0.100063</td>\n",
       "      <td>0.149641</td>\n",
       "    </tr>\n",
       "    <tr>\n",
       "      <th>17</th>\n",
       "      <td>0.143263</td>\n",
       "      <td>0.052947</td>\n",
       "      <td>0.048191</td>\n",
       "      <td>0.049861</td>\n",
       "      <td>0.051999</td>\n",
       "      <td>0.099641</td>\n",
       "      <td>0.148668</td>\n",
       "    </tr>\n",
       "    <tr>\n",
       "      <th>18</th>\n",
       "      <td>0.142106</td>\n",
       "      <td>0.057218</td>\n",
       "      <td>0.050168</td>\n",
       "      <td>0.050047</td>\n",
       "      <td>0.050299</td>\n",
       "      <td>0.100256</td>\n",
       "      <td>0.148773</td>\n",
       "    </tr>\n",
       "    <tr>\n",
       "      <th>19</th>\n",
       "      <td>0.144004</td>\n",
       "      <td>0.054771</td>\n",
       "      <td>0.052331</td>\n",
       "      <td>0.050314</td>\n",
       "      <td>0.049764</td>\n",
       "      <td>0.101086</td>\n",
       "      <td>0.150796</td>\n",
       "    </tr>\n",
       "    <tr>\n",
       "      <th>20</th>\n",
       "      <td>0.142254</td>\n",
       "      <td>0.054444</td>\n",
       "      <td>0.049807</td>\n",
       "      <td>0.049257</td>\n",
       "      <td>0.050942</td>\n",
       "      <td>0.099324</td>\n",
       "      <td>0.149088</td>\n",
       "    </tr>\n",
       "    <tr>\n",
       "      <th>21</th>\n",
       "      <td>0.141397</td>\n",
       "      <td>0.055737</td>\n",
       "      <td>0.051669</td>\n",
       "      <td>0.048357</td>\n",
       "      <td>0.051901</td>\n",
       "      <td>0.101449</td>\n",
       "      <td>0.152648</td>\n",
       "    </tr>\n",
       "    <tr>\n",
       "      <th>22</th>\n",
       "      <td>0.142192</td>\n",
       "      <td>0.056213</td>\n",
       "      <td>0.051803</td>\n",
       "      <td>0.049064</td>\n",
       "      <td>0.048478</td>\n",
       "      <td>0.099595</td>\n",
       "      <td>0.154438</td>\n",
       "    </tr>\n",
       "    <tr>\n",
       "      <th>23</th>\n",
       "      <td>0.142334</td>\n",
       "      <td>0.057279</td>\n",
       "      <td>0.051306</td>\n",
       "      <td>0.048940</td>\n",
       "      <td>0.051930</td>\n",
       "      <td>0.098041</td>\n",
       "      <td>0.150719</td>\n",
       "    </tr>\n",
       "    <tr>\n",
       "      <th>24</th>\n",
       "      <td>0.142082</td>\n",
       "      <td>0.056174</td>\n",
       "      <td>0.049213</td>\n",
       "      <td>0.051510</td>\n",
       "      <td>0.049995</td>\n",
       "      <td>0.104382</td>\n",
       "      <td>0.154506</td>\n",
       "    </tr>\n",
       "    <tr>\n",
       "      <th>25</th>\n",
       "      <td>0.141157</td>\n",
       "      <td>0.054448</td>\n",
       "      <td>0.052398</td>\n",
       "      <td>0.047089</td>\n",
       "      <td>0.050833</td>\n",
       "      <td>0.097127</td>\n",
       "      <td>0.153550</td>\n",
       "    </tr>\n",
       "    <tr>\n",
       "      <th>26</th>\n",
       "      <td>0.141400</td>\n",
       "      <td>0.056060</td>\n",
       "      <td>0.049546</td>\n",
       "      <td>0.048835</td>\n",
       "      <td>0.051550</td>\n",
       "      <td>0.098814</td>\n",
       "      <td>0.152539</td>\n",
       "    </tr>\n",
       "    <tr>\n",
       "      <th>27</th>\n",
       "      <td>0.142562</td>\n",
       "      <td>0.056573</td>\n",
       "      <td>0.049288</td>\n",
       "      <td>0.050392</td>\n",
       "      <td>0.050328</td>\n",
       "      <td>0.101229</td>\n",
       "      <td>0.150987</td>\n",
       "    </tr>\n",
       "    <tr>\n",
       "      <th>28</th>\n",
       "      <td>0.141450</td>\n",
       "      <td>0.054152</td>\n",
       "      <td>0.049784</td>\n",
       "      <td>0.050988</td>\n",
       "      <td>0.050277</td>\n",
       "      <td>0.098467</td>\n",
       "      <td>0.146285</td>\n",
       "    </tr>\n",
       "    <tr>\n",
       "      <th>29</th>\n",
       "      <td>0.142944</td>\n",
       "      <td>0.054796</td>\n",
       "      <td>0.049160</td>\n",
       "      <td>0.050767</td>\n",
       "      <td>0.049461</td>\n",
       "      <td>0.098085</td>\n",
       "      <td>0.152145</td>\n",
       "    </tr>\n",
       "    <tr>\n",
       "      <th>30</th>\n",
       "      <td>0.141912</td>\n",
       "      <td>0.055050</td>\n",
       "      <td>0.050412</td>\n",
       "      <td>0.049569</td>\n",
       "      <td>0.049424</td>\n",
       "      <td>0.098937</td>\n",
       "      <td>0.150239</td>\n",
       "    </tr>\n",
       "    <tr>\n",
       "      <th>31</th>\n",
       "      <td>0.143429</td>\n",
       "      <td>0.055090</td>\n",
       "      <td>0.049857</td>\n",
       "      <td>0.050723</td>\n",
       "      <td>0.050919</td>\n",
       "      <td>0.101744</td>\n",
       "      <td>0.150379</td>\n",
       "    </tr>\n",
       "    <tr>\n",
       "      <th>t1</th>\n",
       "      <td>0.142745</td>\n",
       "      <td>0.053251</td>\n",
       "      <td>0.050486</td>\n",
       "      <td>0.051679</td>\n",
       "      <td>0.050274</td>\n",
       "      <td>0.101837</td>\n",
       "      <td>0.151294</td>\n",
       "    </tr>\n",
       "    <tr>\n",
       "      <th>t2</th>\n",
       "      <td>0.143053</td>\n",
       "      <td>0.056645</td>\n",
       "      <td>0.050230</td>\n",
       "      <td>0.051019</td>\n",
       "      <td>0.051227</td>\n",
       "      <td>0.101605</td>\n",
       "      <td>0.146404</td>\n",
       "    </tr>\n",
       "    <tr>\n",
       "      <th>t3</th>\n",
       "      <td>0.142241</td>\n",
       "      <td>0.056133</td>\n",
       "      <td>0.049663</td>\n",
       "      <td>0.050715</td>\n",
       "      <td>0.048965</td>\n",
       "      <td>0.099940</td>\n",
       "      <td>0.151569</td>\n",
       "    </tr>\n",
       "    <tr>\n",
       "      <th>t4</th>\n",
       "      <td>0.142278</td>\n",
       "      <td>0.054681</td>\n",
       "      <td>0.050135</td>\n",
       "      <td>0.050827</td>\n",
       "      <td>0.051295</td>\n",
       "      <td>0.100752</td>\n",
       "      <td>0.149912</td>\n",
       "    </tr>\n",
       "    <tr>\n",
       "      <th>t5</th>\n",
       "      <td>0.142581</td>\n",
       "      <td>0.056111</td>\n",
       "      <td>0.049553</td>\n",
       "      <td>0.049613</td>\n",
       "      <td>0.050261</td>\n",
       "      <td>0.097049</td>\n",
       "      <td>0.152668</td>\n",
       "    </tr>\n",
       "    <tr>\n",
       "      <th>t6</th>\n",
       "      <td>0.142884</td>\n",
       "      <td>0.054235</td>\n",
       "      <td>0.048985</td>\n",
       "      <td>0.050802</td>\n",
       "      <td>0.049909</td>\n",
       "      <td>0.101388</td>\n",
       "      <td>0.149404</td>\n",
       "    </tr>\n",
       "    <tr>\n",
       "      <th>t7</th>\n",
       "      <td>0.143911</td>\n",
       "      <td>0.054774</td>\n",
       "      <td>0.049774</td>\n",
       "      <td>0.050055</td>\n",
       "      <td>0.049352</td>\n",
       "      <td>0.099051</td>\n",
       "      <td>0.150312</td>\n",
       "    </tr>\n",
       "    <tr>\n",
       "      <th>t8</th>\n",
       "      <td>0.141422</td>\n",
       "      <td>0.054748</td>\n",
       "      <td>0.049187</td>\n",
       "      <td>0.050245</td>\n",
       "      <td>0.048803</td>\n",
       "      <td>0.100974</td>\n",
       "      <td>0.149303</td>\n",
       "    </tr>\n",
       "    <tr>\n",
       "      <th>t9</th>\n",
       "      <td>0.143433</td>\n",
       "      <td>0.055279</td>\n",
       "      <td>0.051100</td>\n",
       "      <td>0.051002</td>\n",
       "      <td>0.049970</td>\n",
       "      <td>0.098752</td>\n",
       "      <td>0.149121</td>\n",
       "    </tr>\n",
       "  </tbody>\n",
       "</table>\n",
       "</div>"
      ],
      "text/plain": [
       "age_group       <18     18-24     25-34     35-44     45-54     55-64  \\\n",
       "filename                                                                \n",
       "10         0.141738  0.056574  0.051094  0.050666  0.047919  0.102387   \n",
       "11         0.142153  0.055371  0.049670  0.049380  0.049904  0.098441   \n",
       "12         0.143592  0.055351  0.050915  0.049545  0.049670  0.098402   \n",
       "13         0.142580  0.054366  0.049996  0.049080  0.051341  0.099238   \n",
       "14         0.140956  0.055297  0.048450  0.050696  0.047829  0.099695   \n",
       "15         0.142761  0.055169  0.050083  0.048249  0.051136  0.100918   \n",
       "16         0.141940  0.057544  0.050185  0.051617  0.051793  0.100063   \n",
       "17         0.143263  0.052947  0.048191  0.049861  0.051999  0.099641   \n",
       "18         0.142106  0.057218  0.050168  0.050047  0.050299  0.100256   \n",
       "19         0.144004  0.054771  0.052331  0.050314  0.049764  0.101086   \n",
       "20         0.142254  0.054444  0.049807  0.049257  0.050942  0.099324   \n",
       "21         0.141397  0.055737  0.051669  0.048357  0.051901  0.101449   \n",
       "22         0.142192  0.056213  0.051803  0.049064  0.048478  0.099595   \n",
       "23         0.142334  0.057279  0.051306  0.048940  0.051930  0.098041   \n",
       "24         0.142082  0.056174  0.049213  0.051510  0.049995  0.104382   \n",
       "25         0.141157  0.054448  0.052398  0.047089  0.050833  0.097127   \n",
       "26         0.141400  0.056060  0.049546  0.048835  0.051550  0.098814   \n",
       "27         0.142562  0.056573  0.049288  0.050392  0.050328  0.101229   \n",
       "28         0.141450  0.054152  0.049784  0.050988  0.050277  0.098467   \n",
       "29         0.142944  0.054796  0.049160  0.050767  0.049461  0.098085   \n",
       "30         0.141912  0.055050  0.050412  0.049569  0.049424  0.098937   \n",
       "31         0.143429  0.055090  0.049857  0.050723  0.050919  0.101744   \n",
       "t1         0.142745  0.053251  0.050486  0.051679  0.050274  0.101837   \n",
       "t2         0.143053  0.056645  0.050230  0.051019  0.051227  0.101605   \n",
       "t3         0.142241  0.056133  0.049663  0.050715  0.048965  0.099940   \n",
       "t4         0.142278  0.054681  0.050135  0.050827  0.051295  0.100752   \n",
       "t5         0.142581  0.056111  0.049553  0.049613  0.050261  0.097049   \n",
       "t6         0.142884  0.054235  0.048985  0.050802  0.049909  0.101388   \n",
       "t7         0.143911  0.054774  0.049774  0.050055  0.049352  0.099051   \n",
       "t8         0.141422  0.054748  0.049187  0.050245  0.048803  0.100974   \n",
       "t9         0.143433  0.055279  0.051100  0.051002  0.049970  0.098752   \n",
       "\n",
       "age_group       65+  \n",
       "filename             \n",
       "10         0.148353  \n",
       "11         0.147955  \n",
       "12         0.153880  \n",
       "13         0.147507  \n",
       "14         0.149640  \n",
       "15         0.147434  \n",
       "16         0.149641  \n",
       "17         0.148668  \n",
       "18         0.148773  \n",
       "19         0.150796  \n",
       "20         0.149088  \n",
       "21         0.152648  \n",
       "22         0.154438  \n",
       "23         0.150719  \n",
       "24         0.154506  \n",
       "25         0.153550  \n",
       "26         0.152539  \n",
       "27         0.150987  \n",
       "28         0.146285  \n",
       "29         0.152145  \n",
       "30         0.150239  \n",
       "31         0.150379  \n",
       "t1         0.151294  \n",
       "t2         0.146404  \n",
       "t3         0.151569  \n",
       "t4         0.149912  \n",
       "t5         0.152668  \n",
       "t6         0.149404  \n",
       "t7         0.150312  \n",
       "t8         0.149303  \n",
       "t9         0.149121  "
      ]
     },
     "execution_count": 15,
     "metadata": {},
     "output_type": "execute_result"
    }
   ],
   "source": [
    "cube"
   ]
  },
  {
   "cell_type": "markdown",
   "metadata": {},
   "source": [
    "I tried different criterias and all graths look approximately the same over time. See example above\n",
    "<br><br>\n",
    "Only noticeble trend over time I found in age group <18, Female, Signed in percentage"
   ]
  },
  {
   "cell_type": "code",
   "execution_count": 16,
   "metadata": {},
   "outputs": [],
   "source": [
    "cube = df.pivot_table(index = 'filename', columns = ['age_group', 'Gender'], \n",
    "               values = 'Signed_In', aggfunc = np.mean)"
   ]
  },
  {
   "cell_type": "code",
   "execution_count": 17,
   "metadata": {},
   "outputs": [
    {
     "data": {
      "text/plain": [
       "<matplotlib.axes._subplots.AxesSubplot at 0x1c605a2b7c8>"
      ]
     },
     "execution_count": 17,
     "metadata": {},
     "output_type": "execute_result"
    },
    {
     "data": {
      "image/png": "[encoded data removed]",
      "text/plain": [
       "<Figure size 432x288 with 1 Axes>"
      ]
     },
     "metadata": {
      "needs_background": "light"
     },
     "output_type": "display_data"
    }
   ],
   "source": [
    "cube.xs('<18', level='age_group', axis=1)[0].plot()"
   ]
  },
  {
   "cell_type": "markdown",
   "metadata": {},
   "source": [
    "Looks like for the first half of data files, average signed in females of age <18 was about 3%. <br>\n",
    "For the second half of data it droped to ~1,6%.<br>\n",
    "The last sample it came back to 3%.<br>"
   ]
  }
 ],
 "metadata": {
  "kernelspec": {
   "display_name": "Python 3",
   "language": "python",
   "name": "python3"
  },
  "language_info": {
   "codemirror_mode": {
    "name": "ipython",
    "version": 3
   },
   "file_extension": ".py",
   "mimetype": "text/x-python",
   "name": "python",
   "nbconvert_exporter": "python",
   "pygments_lexer": "ipython3",
   "version": "3.7.4"
  }
 },
 "nbformat": 4,
 "nbformat_minor": 4
}
