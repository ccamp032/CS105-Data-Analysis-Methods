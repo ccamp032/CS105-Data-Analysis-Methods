{
 "cells": [
  {
   "cell_type": "code",
   "execution_count": 3,
   "metadata": {},
   "outputs": [
    {
     "data": {
      "text/html": [
       "<div>\n",
       "<style scoped>\n",
       "    .dataframe tbody tr th:only-of-type {\n",
       "        vertical-align: middle;\n",
       "    }\n",
       "\n",
       "    .dataframe tbody tr th {\n",
       "        vertical-align: top;\n",
       "    }\n",
       "\n",
       "    .dataframe thead th {\n",
       "        text-align: right;\n",
       "    }\n",
       "</style>\n",
       "<table border=\"1\" class=\"dataframe\">\n",
       "  <thead>\n",
       "    <tr style=\"text-align: right;\">\n",
       "      <th></th>\n",
       "      <th>abv</th>\n",
       "      <th>available</th>\n",
       "      <th>description</th>\n",
       "      <th>glass</th>\n",
       "      <th>ibu</th>\n",
       "      <th>isOrganic</th>\n",
       "      <th>name</th>\n",
       "      <th>originalGravity</th>\n",
       "      <th>srm</th>\n",
       "    </tr>\n",
       "    <tr>\n",
       "      <th>id</th>\n",
       "      <th></th>\n",
       "      <th></th>\n",
       "      <th></th>\n",
       "      <th></th>\n",
       "      <th></th>\n",
       "      <th></th>\n",
       "      <th></th>\n",
       "      <th></th>\n",
       "      <th></th>\n",
       "    </tr>\n",
       "  </thead>\n",
       "  <tbody>\n",
       "    <tr>\n",
       "      <th>0</th>\n",
       "      <td>8.2</td>\n",
       "      <td>Available at the same time of year, every year.</td>\n",
       "      <td>A Belgian-Abbey-Style Tripel that is big in al...</td>\n",
       "      <td>NaN</td>\n",
       "      <td>31.0</td>\n",
       "      <td>N</td>\n",
       "      <td>LoonyToonTripel</td>\n",
       "      <td>1.070</td>\n",
       "      <td>8</td>\n",
       "    </tr>\n",
       "    <tr>\n",
       "      <th>1</th>\n",
       "      <td>5.7</td>\n",
       "      <td>Available at the same time of year, every year.</td>\n",
       "      <td>Covert Hops is a crafty ale. Its stealthy dark...</td>\n",
       "      <td>Pint</td>\n",
       "      <td>45.0</td>\n",
       "      <td>N</td>\n",
       "      <td>Covert Hops</td>\n",
       "      <td>1.056</td>\n",
       "      <td>35</td>\n",
       "    </tr>\n",
       "    <tr>\n",
       "      <th>2</th>\n",
       "      <td>5.8</td>\n",
       "      <td>Available at the same time of year, every year.</td>\n",
       "      <td>This is a traditional German-style Marzen char...</td>\n",
       "      <td>Mug</td>\n",
       "      <td>25.0</td>\n",
       "      <td>N</td>\n",
       "      <td>Oktoberfest</td>\n",
       "      <td>1.048</td>\n",
       "      <td>10</td>\n",
       "    </tr>\n",
       "    <tr>\n",
       "      <th>3</th>\n",
       "      <td>5.5</td>\n",
       "      <td>Available year round as a staple beer.</td>\n",
       "      <td>A West Coast-Style Pale Ale balancing plenty o...</td>\n",
       "      <td>Pint</td>\n",
       "      <td>55.0</td>\n",
       "      <td>N</td>\n",
       "      <td>Pale Ale</td>\n",
       "      <td>1.044</td>\n",
       "      <td>5</td>\n",
       "    </tr>\n",
       "    <tr>\n",
       "      <th>4</th>\n",
       "      <td>4.8</td>\n",
       "      <td>Available year round as a staple beer.</td>\n",
       "      <td>This Bombshell has a tantalizing crisp and cle...</td>\n",
       "      <td>Pint</td>\n",
       "      <td>11.4</td>\n",
       "      <td>N</td>\n",
       "      <td>Head Turner Blonde Ale</td>\n",
       "      <td>1.045</td>\n",
       "      <td>3</td>\n",
       "    </tr>\n",
       "  </tbody>\n",
       "</table>\n",
       "</div>"
      ],
      "text/plain": [
       "    abv                                        available  \\\n",
       "id                                                         \n",
       "0   8.2  Available at the same time of year, every year.   \n",
       "1   5.7  Available at the same time of year, every year.   \n",
       "2   5.8  Available at the same time of year, every year.   \n",
       "3   5.5           Available year round as a staple beer.   \n",
       "4   4.8           Available year round as a staple beer.   \n",
       "\n",
       "                                          description glass   ibu isOrganic  \\\n",
       "id                                                                            \n",
       "0   A Belgian-Abbey-Style Tripel that is big in al...   NaN  31.0         N   \n",
       "1   Covert Hops is a crafty ale. Its stealthy dark...  Pint  45.0         N   \n",
       "2   This is a traditional German-style Marzen char...   Mug  25.0         N   \n",
       "3   A West Coast-Style Pale Ale balancing plenty o...  Pint  55.0         N   \n",
       "4   This Bombshell has a tantalizing crisp and cle...  Pint  11.4         N   \n",
       "\n",
       "                      name  originalGravity srm  \n",
       "id                                               \n",
       "0          LoonyToonTripel            1.070   8  \n",
       "1              Covert Hops            1.056  35  \n",
       "2              Oktoberfest            1.048  10  \n",
       "3                 Pale Ale            1.044   5  \n",
       "4   Head Turner Blonde Ale            1.045   3  "
      ]
     },
     "execution_count": 3,
     "metadata": {},
     "output_type": "execute_result"
    }
   ],
   "source": [
    "# https://www.kaggle.com/c/beer2019/overview\n",
    "# predict the bitterness of the beer \n",
    "\n",
    "import pandas as pd\n",
    "\n",
    "df_train = pd.read_csv(\"beer2020/beer_train.csv\", index_col=\"id\")\n",
    "df_test = pd.read_csv(\"beer2020/beer_test.csv\")\n",
    "df_train.head()"
   ]
  },
  {
   "cell_type": "code",
   "execution_count": 5,
   "metadata": {},
   "outputs": [
    {
     "data": {
      "text/plain": [
       "(6000, 9)"
      ]
     },
     "execution_count": 5,
     "metadata": {},
     "output_type": "execute_result"
    }
   ],
   "source": [
    "df_train.shape\n",
    "df_train.describe()"
   ]
  },
  {
   "cell_type": "code",
   "execution_count": 6,
   "metadata": {},
   "outputs": [
    {
     "data": {
      "text/plain": [
       "abv                   0\n",
       "available             0\n",
       "description         479\n",
       "glass              2342\n",
       "ibu                   0\n",
       "isOrganic             0\n",
       "name                  0\n",
       "originalGravity       0\n",
       "srm                   0\n",
       "dtype: int64"
      ]
     },
     "execution_count": 6,
     "metadata": {},
     "output_type": "execute_result"
    }
   ],
   "source": [
    "df_train.isna().sum()\n",
    "#df_train = df_train.drop(['glass'], axis=1)\n",
    "#df_test = df_test.drop(['glass'], axis=1)"
   ]
  },
  {
   "cell_type": "code",
   "execution_count": 8,
   "metadata": {},
   "outputs": [
    {
     "data": {
      "text/plain": [
       "0    5804\n",
       "1     196\n",
       "Name: isOrganic, dtype: int64"
      ]
     },
     "execution_count": 8,
     "metadata": {},
     "output_type": "execute_result"
    }
   ],
   "source": [
    "# isOrganic is a binary value, lets convert it to 0/1\n",
    "\n",
    "df_train.loc[df_train['isOrganic'] == 'N', 'isOrganic'] = 0\n",
    "df_train.loc[df_train['isOrganic'] == 'Y', 'isOrganic'] = 1\n",
    "\n",
    "df_test.loc[df_test['isOrganic'] == 'N', 'isOrganic'] = 0\n",
    "df_test.loc[df_test['isOrganic'] == 'Y', 'isOrganic'] = 1\n",
    "\n",
    "df_train[\"isOrganic\"].value_counts()"
   ]
  },
  {
   "cell_type": "code",
   "execution_count": 10,
   "metadata": {},
   "outputs": [
    {
     "data": {
      "text/plain": [
       "Available year round as a staple beer.             2812\n",
       "Limited availability.                              1204\n",
       "Available at the same time of year, every year.    1192\n",
       "Beer is not available.                              255\n",
       "Available during the summer months.                 159\n",
       "Available during the winter months.                 142\n",
       "Available during the fall months.                   141\n",
       "Available during the spring months.                  95\n",
       "Name: available, dtype: int64"
      ]
     },
     "execution_count": 10,
     "metadata": {},
     "output_type": "execute_result"
    }
   ],
   "source": [
    "df_train[\"available\"].value_counts()\n",
    "#df_train[\"available\"].isna().sum()"
   ]
  },
  {
   "cell_type": "code",
   "execution_count": 11,
   "metadata": {},
   "outputs": [],
   "source": [
    "# The 'available' column appears to be a categorical variable, lets convert it using oneHotEncoding\n",
    "\n",
    "df_train = pd.concat([df_train,pd.get_dummies(df_train['available'], prefix='available',dummy_na=True)],axis=1).drop(['available'],axis=1)\n",
    "df_test = pd.concat([df_test,pd.get_dummies(df_test['available'], prefix='available',dummy_na=True)],axis=1).drop(['available'],axis=1)\n",
    "\n"
   ]
  },
  {
   "cell_type": "code",
   "execution_count": 12,
   "metadata": {},
   "outputs": [
    {
     "data": {
      "text/html": [
       "<div>\n",
       "<style scoped>\n",
       "    .dataframe tbody tr th:only-of-type {\n",
       "        vertical-align: middle;\n",
       "    }\n",
       "\n",
       "    .dataframe tbody tr th {\n",
       "        vertical-align: top;\n",
       "    }\n",
       "\n",
       "    .dataframe thead th {\n",
       "        text-align: right;\n",
       "    }\n",
       "</style>\n",
       "<table border=\"1\" class=\"dataframe\">\n",
       "  <thead>\n",
       "    <tr style=\"text-align: right;\">\n",
       "      <th></th>\n",
       "      <th>abv</th>\n",
       "      <th>description</th>\n",
       "      <th>glass</th>\n",
       "      <th>ibu</th>\n",
       "      <th>isOrganic</th>\n",
       "      <th>name</th>\n",
       "      <th>originalGravity</th>\n",
       "      <th>srm</th>\n",
       "      <th>available_Available at the same time of year, every year.</th>\n",
       "      <th>available_Available during the fall months.</th>\n",
       "      <th>available_Available during the spring months.</th>\n",
       "      <th>available_Available during the summer months.</th>\n",
       "      <th>available_Available during the winter months.</th>\n",
       "      <th>available_Available year round as a staple beer.</th>\n",
       "      <th>available_Beer is not available.</th>\n",
       "      <th>available_Limited availability.</th>\n",
       "      <th>available_nan</th>\n",
       "    </tr>\n",
       "    <tr>\n",
       "      <th>id</th>\n",
       "      <th></th>\n",
       "      <th></th>\n",
       "      <th></th>\n",
       "      <th></th>\n",
       "      <th></th>\n",
       "      <th></th>\n",
       "      <th></th>\n",
       "      <th></th>\n",
       "      <th></th>\n",
       "      <th></th>\n",
       "      <th></th>\n",
       "      <th></th>\n",
       "      <th></th>\n",
       "      <th></th>\n",
       "      <th></th>\n",
       "      <th></th>\n",
       "      <th></th>\n",
       "    </tr>\n",
       "  </thead>\n",
       "  <tbody>\n",
       "    <tr>\n",
       "      <th>0</th>\n",
       "      <td>8.2</td>\n",
       "      <td>A Belgian-Abbey-Style Tripel that is big in al...</td>\n",
       "      <td>NaN</td>\n",
       "      <td>31.0</td>\n",
       "      <td>0</td>\n",
       "      <td>LoonyToonTripel</td>\n",
       "      <td>1.070</td>\n",
       "      <td>8</td>\n",
       "      <td>1</td>\n",
       "      <td>0</td>\n",
       "      <td>0</td>\n",
       "      <td>0</td>\n",
       "      <td>0</td>\n",
       "      <td>0</td>\n",
       "      <td>0</td>\n",
       "      <td>0</td>\n",
       "      <td>0</td>\n",
       "    </tr>\n",
       "    <tr>\n",
       "      <th>1</th>\n",
       "      <td>5.7</td>\n",
       "      <td>Covert Hops is a crafty ale. Its stealthy dark...</td>\n",
       "      <td>Pint</td>\n",
       "      <td>45.0</td>\n",
       "      <td>0</td>\n",
       "      <td>Covert Hops</td>\n",
       "      <td>1.056</td>\n",
       "      <td>35</td>\n",
       "      <td>1</td>\n",
       "      <td>0</td>\n",
       "      <td>0</td>\n",
       "      <td>0</td>\n",
       "      <td>0</td>\n",
       "      <td>0</td>\n",
       "      <td>0</td>\n",
       "      <td>0</td>\n",
       "      <td>0</td>\n",
       "    </tr>\n",
       "  </tbody>\n",
       "</table>\n",
       "</div>"
      ],
      "text/plain": [
       "    abv                                        description glass   ibu  \\\n",
       "id                                                                       \n",
       "0   8.2  A Belgian-Abbey-Style Tripel that is big in al...   NaN  31.0   \n",
       "1   5.7  Covert Hops is a crafty ale. Its stealthy dark...  Pint  45.0   \n",
       "\n",
       "    isOrganic             name  originalGravity srm  \\\n",
       "id                                                    \n",
       "0           0  LoonyToonTripel            1.070   8   \n",
       "1           0      Covert Hops            1.056  35   \n",
       "\n",
       "    available_Available at the same time of year, every year.  \\\n",
       "id                                                              \n",
       "0                                                   1           \n",
       "1                                                   1           \n",
       "\n",
       "    available_Available during the fall months.  \\\n",
       "id                                                \n",
       "0                                             0   \n",
       "1                                             0   \n",
       "\n",
       "    available_Available during the spring months.  \\\n",
       "id                                                  \n",
       "0                                               0   \n",
       "1                                               0   \n",
       "\n",
       "    available_Available during the summer months.  \\\n",
       "id                                                  \n",
       "0                                               0   \n",
       "1                                               0   \n",
       "\n",
       "    available_Available during the winter months.  \\\n",
       "id                                                  \n",
       "0                                               0   \n",
       "1                                               0   \n",
       "\n",
       "    available_Available year round as a staple beer.  \\\n",
       "id                                                     \n",
       "0                                                  0   \n",
       "1                                                  0   \n",
       "\n",
       "    available_Beer is not available.  available_Limited availability.  \\\n",
       "id                                                                      \n",
       "0                                  0                                0   \n",
       "1                                  0                                0   \n",
       "\n",
       "    available_nan  \n",
       "id                 \n",
       "0               0  \n",
       "1               0  "
      ]
     },
     "execution_count": 12,
     "metadata": {},
     "output_type": "execute_result"
    }
   ],
   "source": [
    "df_train.head(2)"
   ]
  },
  {
   "cell_type": "code",
   "execution_count": null,
   "metadata": {},
   "outputs": [],
   "source": [
    "\n",
    "df_train.isna().sum()\n",
    "#df = df.dropna(subset=['description'])\n",
    "df_train['description'].fillna('nan', inplace=True)\n",
    "df_test['description'].fillna('nan', inplace=True)\n",
    "df_train.isna().sum()"
   ]
  },
  {
   "cell_type": "code",
   "execution_count": null,
   "metadata": {},
   "outputs": [],
   "source": [
    "from sklearn.feature_extraction.text import TfidfVectorizer \n",
    " \n",
    "\n",
    "# settings that you use for count vectorizer will go here\n",
    "tfidf_vectorizer=TfidfVectorizer(use_idf=True)\n",
    " \n",
    "# just send in all your docs here\n",
    "tfidf_vectorizer_vectors=tfidf_vectorizer.fit_transform(df_train[\"description\"])\n",
    "print (tfidf_vectorizer_vectors)"
   ]
  },
  {
   "cell_type": "code",
   "execution_count": null,
   "metadata": {},
   "outputs": [],
   "source": [
    "df_train.head(2)"
   ]
  },
  {
   "cell_type": "code",
   "execution_count": null,
   "metadata": {},
   "outputs": [],
   "source": [
    "list(df_train.columns) "
   ]
  },
  {
   "cell_type": "code",
   "execution_count": null,
   "metadata": {},
   "outputs": [],
   "source": [
    "from sklearn.linear_model import LinearRegression\n",
    "\n",
    "X_train = df_train[[\"abv\"]]\n",
    "X_test = df_test[[\"abv\"]]\n",
    "Y_test = df_test[[\"ibu\"]]\n",
    "y_train = df_train[\"ibu\"]\n",
    "\n",
    "model = LinearRegression()\n",
    "model.fit(X=X_train, y=y_train)\n",
    "Y_predict = model.predict(X=X_test)"
   ]
  },
  {
   "cell_type": "code",
   "execution_count": null,
   "metadata": {},
   "outputs": [],
   "source": [
    "output=pd.DataFrame(data={\"id\":df_test[\"id\"],\"ibu\":Y_predict}) \n",
    "\n",
    "output.to_csv(path_or_buf=\"results.csv\",index=False,quoting=3,sep=',')"
   ]
  },
  {
   "cell_type": "code",
   "execution_count": null,
   "metadata": {},
   "outputs": [],
   "source": [
    "# todo"
   ]
  },
  {
   "cell_type": "code",
   "execution_count": null,
   "metadata": {},
   "outputs": [],
   "source": []
  },
  {
   "cell_type": "code",
   "execution_count": null,
   "metadata": {},
   "outputs": [],
   "source": []
  }
 ],
 "metadata": {
  "kernelspec": {
   "display_name": "Python 3",
   "language": "python",
   "name": "python3"
  },
  "language_info": {
   "codemirror_mode": {
    "name": "ipython",
    "version": 3
   },
   "file_extension": ".py",
   "mimetype": "text/x-python",
   "name": "python",
   "nbconvert_exporter": "python",
   "pygments_lexer": "ipython3",
   "version": "3.7.4"
  }
 },
 "nbformat": 4,
 "nbformat_minor": 2
}
