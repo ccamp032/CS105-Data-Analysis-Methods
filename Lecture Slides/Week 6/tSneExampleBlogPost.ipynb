{
 "cells": [
  {
   "cell_type": "code",
   "execution_count": 1,
   "metadata": {},
   "outputs": [
    {
     "name": "stdout",
     "output_type": "stream",
     "text": [
      "Populating the interactive namespace from numpy and matplotlib\n"
     ]
    }
   ],
   "source": [
    "%pylab inline"
   ]
  },
  {
   "cell_type": "code",
   "execution_count": 2,
   "metadata": {},
   "outputs": [
    {
     "name": "stdout",
     "output_type": "stream",
     "text": [
      "Help on class TSNE in module sklearn.manifold.t_sne:\n",
      "\n",
      "class TSNE(sklearn.base.BaseEstimator)\n",
      " |  TSNE(n_components=2, perplexity=30.0, early_exaggeration=12.0, learning_rate=200.0, n_iter=1000, n_iter_without_progress=300, min_grad_norm=1e-07, metric='euclidean', init='random', verbose=0, random_state=None, method='barnes_hut', angle=0.5)\n",
      " |  \n",
      " |  t-distributed Stochastic Neighbor Embedding.\n",
      " |  \n",
      " |  t-SNE [1] is a tool to visualize high-dimensional data. It converts\n",
      " |  similarities between data points to joint probabilities and tries\n",
      " |  to minimize the Kullback-Leibler divergence between the joint\n",
      " |  probabilities of the low-dimensional embedding and the\n",
      " |  high-dimensional data. t-SNE has a cost function that is not convex,\n",
      " |  i.e. with different initializations we can get different results.\n",
      " |  \n",
      " |  It is highly recommended to use another dimensionality reduction\n",
      " |  method (e.g. PCA for dense data or TruncatedSVD for sparse data)\n",
      " |  to reduce the number of dimensions to a reasonable amount (e.g. 50)\n",
      " |  if the number of features is very high. This will suppress some\n",
      " |  noise and speed up the computation of pairwise distances between\n",
      " |  samples. For more tips see Laurens van der Maaten's FAQ [2].\n",
      " |  \n",
      " |  Read more in the :ref:`User Guide <t_sne>`.\n",
      " |  \n",
      " |  Parameters\n",
      " |  ----------\n",
      " |  n_components : int, optional (default: 2)\n",
      " |      Dimension of the embedded space.\n",
      " |  \n",
      " |  perplexity : float, optional (default: 30)\n",
      " |      The perplexity is related to the number of nearest neighbors that\n",
      " |      is used in other manifold learning algorithms. Larger datasets\n",
      " |      usually require a larger perplexity. Consider selecting a value\n",
      " |      between 5 and 50. The choice is not extremely critical since t-SNE\n",
      " |      is quite insensitive to this parameter.\n",
      " |  \n",
      " |  early_exaggeration : float, optional (default: 12.0)\n",
      " |      Controls how tight natural clusters in the original space are in\n",
      " |      the embedded space and how much space will be between them. For\n",
      " |      larger values, the space between natural clusters will be larger\n",
      " |      in the embedded space. Again, the choice of this parameter is not\n",
      " |      very critical. If the cost function increases during initial\n",
      " |      optimization, the early exaggeration factor or the learning rate\n",
      " |      might be too high.\n",
      " |  \n",
      " |  learning_rate : float, optional (default: 200.0)\n",
      " |      The learning rate for t-SNE is usually in the range [10.0, 1000.0]. If\n",
      " |      the learning rate is too high, the data may look like a 'ball' with any\n",
      " |      point approximately equidistant from its nearest neighbours. If the\n",
      " |      learning rate is too low, most points may look compressed in a dense\n",
      " |      cloud with few outliers. If the cost function gets stuck in a bad local\n",
      " |      minimum increasing the learning rate may help.\n",
      " |  \n",
      " |  n_iter : int, optional (default: 1000)\n",
      " |      Maximum number of iterations for the optimization. Should be at\n",
      " |      least 250.\n",
      " |  \n",
      " |  n_iter_without_progress : int, optional (default: 300)\n",
      " |      Maximum number of iterations without progress before we abort the\n",
      " |      optimization, used after 250 initial iterations with early\n",
      " |      exaggeration. Note that progress is only checked every 50 iterations so\n",
      " |      this value is rounded to the next multiple of 50.\n",
      " |  \n",
      " |      .. versionadded:: 0.17\n",
      " |         parameter *n_iter_without_progress* to control stopping criteria.\n",
      " |  \n",
      " |  min_grad_norm : float, optional (default: 1e-7)\n",
      " |      If the gradient norm is below this threshold, the optimization will\n",
      " |      be stopped.\n",
      " |  \n",
      " |  metric : string or callable, optional\n",
      " |      The metric to use when calculating distance between instances in a\n",
      " |      feature array. If metric is a string, it must be one of the options\n",
      " |      allowed by scipy.spatial.distance.pdist for its metric parameter, or\n",
      " |      a metric listed in pairwise.PAIRWISE_DISTANCE_FUNCTIONS.\n",
      " |      If metric is \"precomputed\", X is assumed to be a distance matrix.\n",
      " |      Alternatively, if metric is a callable function, it is called on each\n",
      " |      pair of instances (rows) and the resulting value recorded. The callable\n",
      " |      should take two arrays from X as input and return a value indicating\n",
      " |      the distance between them. The default is \"euclidean\" which is\n",
      " |      interpreted as squared euclidean distance.\n",
      " |  \n",
      " |  init : string or numpy array, optional (default: \"random\")\n",
      " |      Initialization of embedding. Possible options are 'random', 'pca',\n",
      " |      and a numpy array of shape (n_samples, n_components).\n",
      " |      PCA initialization cannot be used with precomputed distances and is\n",
      " |      usually more globally stable than random initialization.\n",
      " |  \n",
      " |  verbose : int, optional (default: 0)\n",
      " |      Verbosity level.\n",
      " |  \n",
      " |  random_state : int, RandomState instance or None, optional (default: None)\n",
      " |      If int, random_state is the seed used by the random number generator;\n",
      " |      If RandomState instance, random_state is the random number generator;\n",
      " |      If None, the random number generator is the RandomState instance used\n",
      " |      by `np.random`.  Note that different initializations might result in\n",
      " |      different local minima of the cost function.\n",
      " |  \n",
      " |  method : string (default: 'barnes_hut')\n",
      " |      By default the gradient calculation algorithm uses Barnes-Hut\n",
      " |      approximation running in O(NlogN) time. method='exact'\n",
      " |      will run on the slower, but exact, algorithm in O(N^2) time. The\n",
      " |      exact algorithm should be used when nearest-neighbor errors need\n",
      " |      to be better than 3%. However, the exact method cannot scale to\n",
      " |      millions of examples.\n",
      " |  \n",
      " |      .. versionadded:: 0.17\n",
      " |         Approximate optimization *method* via the Barnes-Hut.\n",
      " |  \n",
      " |  angle : float (default: 0.5)\n",
      " |      Only used if method='barnes_hut'\n",
      " |      This is the trade-off between speed and accuracy for Barnes-Hut T-SNE.\n",
      " |      'angle' is the angular size (referred to as theta in [3]) of a distant\n",
      " |      node as measured from a point. If this size is below 'angle' then it is\n",
      " |      used as a summary node of all points contained within it.\n",
      " |      This method is not very sensitive to changes in this parameter\n",
      " |      in the range of 0.2 - 0.8. Angle less than 0.2 has quickly increasing\n",
      " |      computation time and angle greater 0.8 has quickly increasing error.\n",
      " |  \n",
      " |  Attributes\n",
      " |  ----------\n",
      " |  embedding_ : array-like, shape (n_samples, n_components)\n",
      " |      Stores the embedding vectors.\n",
      " |  \n",
      " |  kl_divergence_ : float\n",
      " |      Kullback-Leibler divergence after optimization.\n",
      " |  \n",
      " |  n_iter_ : int\n",
      " |      Number of iterations run.\n",
      " |  \n",
      " |  Examples\n",
      " |  --------\n",
      " |  \n",
      " |  >>> import numpy as np\n",
      " |  >>> from sklearn.manifold import TSNE\n",
      " |  >>> X = np.array([[0, 0, 0], [0, 1, 1], [1, 0, 1], [1, 1, 1]])\n",
      " |  >>> X_embedded = TSNE(n_components=2).fit_transform(X)\n",
      " |  >>> X_embedded.shape\n",
      " |  (4, 2)\n",
      " |  \n",
      " |  References\n",
      " |  ----------\n",
      " |  \n",
      " |  [1] van der Maaten, L.J.P.; Hinton, G.E. Visualizing High-Dimensional Data\n",
      " |      Using t-SNE. Journal of Machine Learning Research 9:2579-2605, 2008.\n",
      " |  \n",
      " |  [2] van der Maaten, L.J.P. t-Distributed Stochastic Neighbor Embedding\n",
      " |      https://lvdmaaten.github.io/tsne/\n",
      " |  \n",
      " |  [3] L.J.P. van der Maaten. Accelerating t-SNE using Tree-Based Algorithms.\n",
      " |      Journal of Machine Learning Research 15(Oct):3221-3245, 2014.\n",
      " |      https://lvdmaaten.github.io/publications/papers/JMLR_2014.pdf\n",
      " |  \n",
      " |  Method resolution order:\n",
      " |      TSNE\n",
      " |      sklearn.base.BaseEstimator\n",
      " |      builtins.object\n",
      " |  \n",
      " |  Methods defined here:\n",
      " |  \n",
      " |  __init__(self, n_components=2, perplexity=30.0, early_exaggeration=12.0, learning_rate=200.0, n_iter=1000, n_iter_without_progress=300, min_grad_norm=1e-07, metric='euclidean', init='random', verbose=0, random_state=None, method='barnes_hut', angle=0.5)\n",
      " |      Initialize self.  See help(type(self)) for accurate signature.\n",
      " |  \n",
      " |  fit(self, X, y=None)\n",
      " |      Fit X into an embedded space.\n",
      " |      \n",
      " |      Parameters\n",
      " |      ----------\n",
      " |      X : array, shape (n_samples, n_features) or (n_samples, n_samples)\n",
      " |          If the metric is 'precomputed' X must be a square distance\n",
      " |          matrix. Otherwise it contains a sample per row. If the method\n",
      " |          is 'exact', X may be a sparse matrix of type 'csr', 'csc'\n",
      " |          or 'coo'.\n",
      " |      \n",
      " |      y : Ignored\n",
      " |  \n",
      " |  fit_transform(self, X, y=None)\n",
      " |      Fit X into an embedded space and return that transformed\n",
      " |      output.\n",
      " |      \n",
      " |      Parameters\n",
      " |      ----------\n",
      " |      X : array, shape (n_samples, n_features) or (n_samples, n_samples)\n",
      " |          If the metric is 'precomputed' X must be a square distance\n",
      " |          matrix. Otherwise it contains a sample per row.\n",
      " |      \n",
      " |      y : Ignored\n",
      " |      \n",
      " |      Returns\n",
      " |      -------\n",
      " |      X_new : array, shape (n_samples, n_components)\n",
      " |          Embedding of the training data in low-dimensional space.\n",
      " |  \n",
      " |  ----------------------------------------------------------------------\n",
      " |  Data descriptors defined here:\n",
      " |  \n",
      " |  n_iter_final\n",
      " |      DEPRECATED: Attribute n_iter_final was deprecated in version 0.19 and will be removed in 0.21. Use ``n_iter_`` instead\n",
      " |  \n",
      " |  ----------------------------------------------------------------------\n",
      " |  Methods inherited from sklearn.base.BaseEstimator:\n",
      " |  \n",
      " |  __getstate__(self)\n",
      " |  \n",
      " |  __repr__(self)\n",
      " |      Return repr(self).\n",
      " |  \n",
      " |  __setstate__(self, state)\n",
      " |  \n",
      " |  get_params(self, deep=True)\n",
      " |      Get parameters for this estimator.\n",
      " |      \n",
      " |      Parameters\n",
      " |      ----------\n",
      " |      deep : boolean, optional\n",
      " |          If True, will return the parameters for this estimator and\n",
      " |          contained subobjects that are estimators.\n",
      " |      \n",
      " |      Returns\n",
      " |      -------\n",
      " |      params : mapping of string to any\n",
      " |          Parameter names mapped to their values.\n",
      " |  \n",
      " |  set_params(self, **params)\n",
      " |      Set the parameters of this estimator.\n",
      " |      \n",
      " |      The method works on simple estimators as well as on nested objects\n",
      " |      (such as pipelines). The latter have parameters of the form\n",
      " |      ``<component>__<parameter>`` so that it's possible to update each\n",
      " |      component of a nested object.\n",
      " |      \n",
      " |      Returns\n",
      " |      -------\n",
      " |      self\n",
      " |  \n",
      " |  ----------------------------------------------------------------------\n",
      " |  Data descriptors inherited from sklearn.base.BaseEstimator:\n",
      " |  \n",
      " |  __dict__\n",
      " |      dictionary for instance variables (if defined)\n",
      " |  \n",
      " |  __weakref__\n",
      " |      list of weak references to the object (if defined)\n",
      "\n"
     ]
    }
   ],
   "source": [
    "from sklearn.manifold import TSNE\n",
    "\n",
    "help(TSNE)"
   ]
  },
  {
   "cell_type": "code",
   "execution_count": 3,
   "metadata": {},
   "outputs": [],
   "source": [
    "from sklearn.datasets import load_iris\n",
    "from sklearn.decomposition import PCA\n",
    "\n",
    "iris = load_iris()\n",
    "X_tsne = TSNE(learning_rate=100).fit_transform(iris.data)\n",
    "X_pca = PCA().fit_transform(iris.data)"
   ]
  },
  {
   "cell_type": "code",
   "execution_count": 4,
   "metadata": {},
   "outputs": [
    {
     "data": {
      "text/plain": [
       "<matplotlib.collections.PathCollection at 0x10b774278>"
      ]
     },
     "execution_count": 4,
     "metadata": {},
     "output_type": "execute_result"
    },
    {
     "data": {
      "image/png": "[encoded data removed]",
      "text/plain": [
       "<Figure size 720x360 with 2 Axes>"
      ]
     },
     "metadata": {
      "needs_background": "light"
     },
     "output_type": "display_data"
    }
   ],
   "source": [
    "# t-SNE can help us to decide whether classes are separable in some linear or nonlinear representation. Here we can see that the 3 classes of the Iris dataset can be separated quite easily. They can even be separated linearly which we can conclude from the low-dimensional embedding of the PCA.\n",
    "\n",
    "figure(figsize=(10, 5))\n",
    "subplot(121)\n",
    "scatter(X_tsne[:, 0], X_tsne[:, 1], c=iris.target)\n",
    "subplot(122)\n",
    "scatter(X_pca[:, 0], X_pca[:, 1], c=iris.target)"
   ]
  },
  {
   "cell_type": "code",
   "execution_count": 5,
   "metadata": {},
   "outputs": [],
   "source": [
    "from sklearn.datasets import fetch_20newsgroups\n",
    "from sklearn.feature_extraction.text import TfidfVectorizer\n",
    "\n",
    "categories = ['alt.atheism', 'talk.religion.misc', 'comp.graphics', 'sci.space']\n",
    "newsgroups = fetch_20newsgroups(subset=\"train\", categories=categories)\n",
    "vectors = TfidfVectorizer().fit_transform(newsgroups.data)"
   ]
  },
  {
   "cell_type": "code",
   "execution_count": null,
   "metadata": {},
   "outputs": [
    {
     "name": "stdout",
     "output_type": "stream",
     "text": [
      "<2034x34118 sparse matrix of type '<class 'numpy.float64'>'\n",
      "\twith 323433 stored elements in Compressed Sparse Row format>\n"
     ]
    }
   ],
   "source": [
    "print(repr(vectors))"
   ]
  },
  {
   "cell_type": "code",
   "execution_count": null,
   "metadata": {},
   "outputs": [],
   "source": [
    "from sklearn.decomposition import TruncatedSVD\n",
    "\n",
    "X_reduced = TruncatedSVD(n_components=50, random_state=0).fit_transform(vectors)"
   ]
  },
  {
   "cell_type": "code",
   "execution_count": null,
   "metadata": {},
   "outputs": [
    {
     "name": "stdout",
     "output_type": "stream",
     "text": [
      "[t-SNE] Computing 121 nearest neighbors...\n",
      "[t-SNE] Indexed 2034 samples in 0.006s...\n",
      "[t-SNE] Computed neighbors for 2034 samples in 1.073s...\n",
      "[t-SNE] Computed conditional probabilities for sample 1000 / 2034\n",
      "[t-SNE] Computed conditional probabilities for sample 2000 / 2034\n",
      "[t-SNE] Computed conditional probabilities for sample 2034 / 2034\n",
      "[t-SNE] Mean sigma: 0.107856\n",
      "[t-SNE] Computed conditional probabilities in 0.140s\n",
      "[t-SNE] Iteration 50: error = 74.1851120, gradient norm = 0.1021041 (50 iterations in 1.855s)\n",
      "[t-SNE] Iteration 100: error = 73.8206406, gradient norm = 0.0790983 (50 iterations in 1.723s)\n",
      "[t-SNE] Iteration 150: error = 73.6116943, gradient norm = 0.1054806 (50 iterations in 1.225s)\n",
      "[t-SNE] Iteration 200: error = 73.8133545, gradient norm = 0.0928886 (50 iterations in 1.196s)\n",
      "[t-SNE] Iteration 250: error = 73.9367142, gradient norm = 0.1012889 (50 iterations in 0.914s)\n",
      "[t-SNE] KL divergence after 250 iterations with early exaggeration: 73.936714\n",
      "[t-SNE] Iteration 300: error = 1.4713849, gradient norm = 0.0012906 (50 iterations in 0.668s)\n"
     ]
    }
   ],
   "source": [
    "X_embedded = TSNE(n_components=2, perplexity=40, verbose=2).fit_transform(X_reduced)"
   ]
  },
  {
   "cell_type": "code",
   "execution_count": null,
   "metadata": {},
   "outputs": [],
   "source": [
    "fig = figure(figsize=(10, 10))\n",
    "ax = axes(frameon=False)\n",
    "setp(ax, xticks=(), yticks=())\n",
    "subplots_adjust(left=0.0, bottom=0.0, right=1.0, top=0.9,\n",
    "                wspace=0.0, hspace=0.0)\n",
    "scatter(X_embedded[:, 0], X_embedded[:, 1],\n",
    "        c=newsgroups.target, marker=\"x\")"
   ]
  },
  {
   "cell_type": "code",
   "execution_count": null,
   "metadata": {},
   "outputs": [],
   "source": [
    "from sklearn.datasets import fetch_mldata\n",
    "\n",
    "# Load MNIST dataset\n",
    "mnist = fetch_mldata(\"MNIST original\")\n",
    "X, y = mnist.data / 255.0, mnist.target\n",
    "\n",
    "# Create subset and reduce to first 50 dimensions\n",
    "indices = arange(X.shape[0])\n",
    "random.shuffle(indices)\n",
    "n_train_samples = 5000\n",
    "X_pca = PCA(n_components=50).fit_transform(X)\n",
    "X_train = X_pca[indices[:n_train_samples]]\n",
    "y_train = y[indices[:n_train_samples]]"
   ]
  },
  {
   "cell_type": "code",
   "execution_count": null,
   "metadata": {},
   "outputs": [],
   "source": [
    "# Plotting function\n",
    "matplotlib.rc('font', **{'family' : 'sans-serif',\n",
    "                         'weight' : 'bold',\n",
    "                         'size'   : 18})\n",
    "matplotlib.rc('text', **{'usetex' : True})\n",
    "\n",
    "def plot_mnist(X, y, X_embedded, name, min_dist=10.0):\n",
    "    fig = figure(figsize=(10, 10))\n",
    "    ax = axes(frameon=False)\n",
    "    title(\"\\\\textbf{MNIST dataset} -- Two-dimensional \"\n",
    "          \"embedding of 70,000 handwritten digits with %s\" % name)\n",
    "    setp(ax, xticks=(), yticks=())\n",
    "    subplots_adjust(left=0.0, bottom=0.0, right=1.0, top=0.9,\n",
    "                    wspace=0.0, hspace=0.0)\n",
    "    scatter(X_embedded[:, 0], X_embedded[:, 1],\n",
    "            c=y, marker=\"x\")\n",
    "\n",
    "    if min_dist is not None:\n",
    "        from matplotlib import offsetbox\n",
    "        shown_images = np.array([[15., 15.]])\n",
    "        indices = arange(X_embedded.shape[0])\n",
    "        random.shuffle(indices)\n",
    "        for i in indices[:5000]:\n",
    "            dist = np.sum((X_embedded[i] - shown_images) ** 2, 1)\n",
    "            if np.min(dist) < min_dist:\n",
    "                continue\n",
    "            shown_images = np.r_[shown_images, [X_embedded[i]]]\n",
    "            imagebox = offsetbox.AnnotationBbox(\n",
    "                offsetbox.OffsetImage(X[i].reshape(28, 28),\n",
    "                                      cmap=cm.gray_r), X_embedded[i])\n",
    "            ax.add_artist(imagebox)"
   ]
  },
  {
   "cell_type": "code",
   "execution_count": null,
   "metadata": {},
   "outputs": [],
   "source": [
    "X_train_embedded = TSNE(n_components=2, perplexity=40, verbose=2).fit_transform(X_train)"
   ]
  },
  {
   "cell_type": "code",
   "execution_count": null,
   "metadata": {},
   "outputs": [],
   "source": [
    "plot_mnist(X[indices[:n_train_samples]], y_train, X_train_embedded,\n",
    "           \"t-SNE\", min_dist=20.0)"
   ]
  }
 ],
 "metadata": {
  "kernelspec": {
   "display_name": "Python 3",
   "language": "python",
   "name": "python3"
  },
  "language_info": {
   "codemirror_mode": {
    "name": "ipython",
    "version": 3
   },
   "file_extension": ".py",
   "mimetype": "text/x-python",
   "name": "python",
   "nbconvert_exporter": "python",
   "pygments_lexer": "ipython3",
   "version": "3.7.1"
  }
 },
 "nbformat": 4,
 "nbformat_minor": 2
}
